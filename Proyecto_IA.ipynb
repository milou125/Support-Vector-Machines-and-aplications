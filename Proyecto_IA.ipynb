{
  "nbformat": 4,
  "nbformat_minor": 0,
  "metadata": {
    "colab": {
      "provenance": [],
      "collapsed_sections": [
        "RoSx7X6egGaD",
        "pS4C8fUg3Wco"
      ],
      "toc_visible": true
    },
    "kernelspec": {
      "name": "python3",
      "display_name": "Python 3"
    },
    "language_info": {
      "name": "python"
    }
  },
  "cells": [
    {
      "cell_type": "markdown",
      "source": [
        "# Proyecto Final Introducción a la Inteligencia Artificial: Introducción a las Maquinas de Soporte Vectorial y Algunas aplicaciones\n",
        "\n",
        "David Alejandro Alquichire Rincón\\\n",
        "Cristian Camilo Barreto Bejarano\n",
        "\n",
        "Universidad Nacional de Colombia\n",
        "\n",
        "\n",
        "\n",
        "\n",
        "\n"
      ],
      "metadata": {
        "id": "-4-28Nr8DAzZ"
      }
    },
    {
      "cell_type": "markdown",
      "source": [
        "# Introducción"
      ],
      "metadata": {
        "id": "0tdSodZvaFgc"
      }
    },
    {
      "cell_type": "markdown",
      "source": [
        "En este cuaderno vamos a abordar la un poco sobre la librería **sklearn** para la clasificación de imagenes. En especifico, haremos algunas pruebas con los metodos de maquinas de soporte vectorial (SVM) el cual busca generar una división entre un conjunto de puntos de distintas clases de tal manera que, al introducir un nuevo conjunto de datos, los clasifique correctamente."
      ],
      "metadata": {
        "id": "r-RzJT6aZZi1"
      }
    },
    {
      "cell_type": "markdown",
      "source": [
        "# ¿Qué es SVM?\n",
        "Supongamos que tenemos un conjunto de datos $X=\\{(x_1,y_1),(x_2,y_2),...,(x_n,y_n)\\}$ con $x_i\\in \\mathbb{R}^n$ y $y_i\\in \\{-1,1\\}$ para todo $1\\leq i\\leq n$.\n",
        "La idea básica del método es encontrar un hiperplano tal que los puntos de una misma clase se encuentren al mismo lado del plano, es decir, encontrar $W\\in \\mathbb{R}^n$ tal que \n",
        "$$\n",
        "y_i(x_i^TW + b)> 0 \\textit{ para todo $i\\in \\mathbb{N}. $ }\n",
        "$$\n",
        "Para ello, se usan varias tecnicas y suposicones para realizar dicha tarea.\\\\\n",
        "A continuación veamos algunas tecnicas, ejemplos y experimentos."
      ],
      "metadata": {
        "id": "1C0Gxk0-bJHc"
      }
    },
    {
      "cell_type": "markdown",
      "source": [
        "#1. Lineal y Separable"
      ],
      "metadata": {
        "id": "MBvVq31Nf0wr"
      }
    },
    {
      "cell_type": "markdown",
      "source": [
        "Tomemos unos vectores de entrenamiento."
      ],
      "metadata": {
        "id": "HlJaAVPjeaC-"
      }
    },
    {
      "cell_type": "code",
      "execution_count": null,
      "metadata": {
        "id": "03EPhgIrCB6F",
        "colab": {
          "base_uri": "https://localhost:8080/",
          "height": 265
        },
        "outputId": "b4ade3f7-ff62-49ce-e5e9-16f54ef4cdbf"
      },
      "outputs": [
        {
          "output_type": "display_data",
          "data": {
            "text/plain": [
              "<Figure size 576x288 with 1 Axes>"
            ],
            "image/png": "[encoded data removed]"
          },
          "metadata": {
            "needs_background": "light"
          }
        }
      ],
      "source": [
        "# Importar librerias\n",
        "import matplotlib.pyplot as plt\n",
        "from sklearn.datasets import make_blobs\n",
        "from sklearn import svm\n",
        "\n",
        "# Crear axis para dibujar\n",
        "plt.figure(figsize=(8,4))\n",
        "\n",
        "# Graficar recta\n",
        "def plot_line(slope, intercept, X):\n",
        "  min_x = int( min(X[:,0]) ) # Valor mínimo característica 1\n",
        "  max_x = int( max(X[:,0]) ) # Valor máximo característica 1\n",
        "  x = range(min_x, max_x)\n",
        "  y = -(x*slope[0] + intercept)/slope[1]\n",
        "  plt.plot(x,y, color='black')\n",
        "\n",
        "CENTERS = 2\n",
        "# Generar muestras aleatorias\n",
        "X,y = make_blobs(n_samples=200, n_features=2,centers=CENTERS, random_state=11, cluster_std=2)\n",
        "\n",
        "# Graficar muestras aleatorias\n",
        "for target, color, marker in zip(range(2), ['y','r'], ['*', 'p']):\n",
        "  plt.scatter(X[y==target,0], X[y==target,1], c=color, marker=marker)\n",
        "\n"
      ]
    },
    {
      "cell_type": "markdown",
      "source": [
        "Entrenemos el modelo."
      ],
      "metadata": {
        "id": "mvCxSihwetx_"
      }
    },
    {
      "cell_type": "code",
      "source": [
        "# Support Vector Classification.\n",
        "# svm -> Scikit Learn\n",
        "\n",
        "# SVC = Support Vector Clasification: \n",
        "clf = svm.SVC(kernel='linear')\n",
        "clf.fit(X,y)"
      ],
      "metadata": {
        "colab": {
          "base_uri": "https://localhost:8080/"
        },
        "id": "1CaJj-ylo6Wu",
        "outputId": "1d2c98cf-21cb-47f9-9194-35b3209f6053"
      },
      "execution_count": null,
      "outputs": [
        {
          "output_type": "execute_result",
          "data": {
            "text/plain": [
              "SVC(kernel='linear')"
            ]
          },
          "metadata": {},
          "execution_count": 3
        }
      ]
    },
    {
      "cell_type": "code",
      "source": [
        "print(clf.coef_) # Pendiente Hiperplano"
      ],
      "metadata": {
        "colab": {
          "base_uri": "https://localhost:8080/"
        },
        "id": "IELPq-O0quHO",
        "outputId": "4582d83a-01c8-4ff4-c2a6-d2ee9186c432"
      },
      "execution_count": null,
      "outputs": [
        {
          "output_type": "stream",
          "name": "stdout",
          "text": [
            "[[0.0799781  0.26467908]]\n"
          ]
        }
      ]
    },
    {
      "cell_type": "code",
      "source": [
        "print(clf.intercept_) # Punto intercepto hiperplano"
      ],
      "metadata": {
        "id": "DBStZL7Asm_9",
        "outputId": "add988dc-3bfc-44b2-9bd0-52dcff421395",
        "colab": {
          "base_uri": "https://localhost:8080/"
        }
      },
      "execution_count": null,
      "outputs": [
        {
          "output_type": "stream",
          "name": "stdout",
          "text": [
            "[0.89697376]\n"
          ]
        }
      ]
    },
    {
      "cell_type": "code",
      "source": [
        "clf.support_vectors_[:,0] # vectores de soporte"
      ],
      "metadata": {
        "colab": {
          "base_uri": "https://localhost:8080/"
        },
        "id": "MRtdvc-vQVV_",
        "outputId": "4e1c8413-c9b8-49f4-d836-956dbdbbe3ae"
      },
      "execution_count": null,
      "outputs": [
        {
          "output_type": "execute_result",
          "data": {
            "text/plain": [
              "array([-3.19850642,  0.09093742, -5.75181603])"
            ]
          },
          "metadata": {},
          "execution_count": 6
        }
      ]
    },
    {
      "cell_type": "code",
      "source": [
        "plt.scatter( clf.support_vectors_[:,0], clf.support_vectors_[:,1], marker='o', edgecolor='r', color='y', s=140, label='support vector')\n",
        "for target in range(CENTERS):\n",
        "  plt.scatter(X[y==target,0], X[y==target,1], marker='^', label='class '+format(target))\n",
        "\n",
        "plot_line(clf.coef_[0], clf.intercept_, X)\n",
        "plt.xlabel('Feature 1')\n",
        "plt.ylabel('Feature 2')\n",
        "plt.title('Hard SVM')\n",
        "plt.legend()\n",
        "plt.show()"
      ],
      "metadata": {
        "id": "oGRrkOWUspdd",
        "colab": {
          "base_uri": "https://localhost:8080/",
          "height": 295
        },
        "outputId": "8ed97447-c618-4a2e-9199-f40eee6a1bc0"
      },
      "execution_count": null,
      "outputs": [
        {
          "output_type": "display_data",
          "data": {
            "text/plain": [
              "<Figure size 432x288 with 1 Axes>"
            ],
            "image/png": "[encoded data removed]"
          },
          "metadata": {
            "needs_background": "light"
          }
        }
      ]
    },
    {
      "cell_type": "markdown",
      "source": [
        "#2. C-SVM"
      ],
      "metadata": {
        "id": "RoSx7X6egGaD"
      }
    },
    {
      "cell_type": "markdown",
      "source": [
        "A pesar de que siempre se intenta dejar una margen para clasificar los datos, a veces es mejor ser un poco más laxos con"
      ],
      "metadata": {
        "id": "3RFOOyZbgOZC"
      }
    },
    {
      "cell_type": "code",
      "source": [
        "import matplotlib.pyplot as plt\n",
        "from sklearn.datasets import make_blobs\n",
        "from sklearn import svm\n",
        "\n",
        "\n",
        "CENTERS = 2\n",
        "fig, axs = plt.subplots(1,3,figsize=(15,4))\n",
        "\n",
        "# gráfica los vectores de soporte\n",
        "def plot(clf, X, C, ax):\n",
        "  axs[ax].scatter(clf.support_vectors_[:,0], clf.support_vectors_[:,1], marker='o', edgecolor='r', color='y', s=140, label='support vector')\n",
        "  for target, color in zip( range(CENTERS), ['c', 'k'] ):\n",
        "    axs[ax].scatter( X[y==target, 0], X[y==target,1], marker='^', color=color, label=\"class \"+format(target)  )\n",
        "  plot_line(clf.coef_[0], clf.intercept_, X, ax)\n",
        "  axs[ax].set_xlabel('Feature 1', fontsize=15)\n",
        "  if ax == 0:\n",
        "    axs[ax].set_ylabel('Feature 2', fontsize=15)\n",
        "  axs[ax].set_title('Soft SVM, C =' + str(C))\n",
        "  axs[ax].legend()\n",
        "  return\n",
        "\n",
        "# gráfica la función de decisión\n",
        "def plot_line(slope, intercept, X, ax):\n",
        "  min_x = int( min(X[:,0]) )\n",
        "  max_x = int( max(X[:,0]) )\n",
        "  x = range(min_x, max_x)\n",
        "  y = -(x*slope[0] + intercept )/slope[1]\n",
        "  axs[ax].plot(x,y,color='black')\n",
        "\n",
        "# generador de datos aleatorios\n",
        "X, y = make_blobs(n_samples=200, n_features=2, centers=CENTERS, random_state=14, cluster_std=2.5)\n",
        "\n",
        "# gráfica 3 gráficas variando el valor de C\n",
        "for C, ax in zip( [4,1,0.0001], range(3) ):\n",
        "  clf = svm.SVC(kernel='linear', C=C)\n",
        "  clf.fit(X,y)\n",
        "  plot(clf,X,C,ax)\n",
        "plt.show()"
      ],
      "metadata": {
        "colab": {
          "base_uri": "https://localhost:8080/",
          "height": 300
        },
        "id": "5IeQxgk5QiHU",
        "outputId": "0789ee07-41cb-42e8-b1dd-93e02d20cf9f"
      },
      "execution_count": null,
      "outputs": [
        {
          "output_type": "display_data",
          "data": {
            "text/plain": [
              "<Figure size 1080x288 with 3 Axes>"
            ],
            "image/png": "[encoded data removed]"
          },
          "metadata": {
            "needs_background": "light"
          }
        }
      ]
    },
    {
      "cell_type": "markdown",
      "source": [
        "Los vectores resaltados en amarillo son los conocidos vectores de soporte, los cuales son puntos que estan sobre la margen del hiperplano o dentro de la margen."
      ],
      "metadata": {
        "id": "rET9xVFWcpPv"
      }
    },
    {
      "cell_type": "markdown",
      "source": [
        "# 3. Distribución Gaussiana\n"
      ],
      "metadata": {
        "id": "0gJzEikErx6l"
      }
    },
    {
      "cell_type": "markdown",
      "source": [
        "Se importan las librerias,\n",
        "\n",
        "*   Matplotlib: Creación de gráficas.\n",
        "*   Scikit Learn: Creación de SVM, base de datos de muestras aleatorias.\n",
        "*   Math\n",
        "*   Numpy: Manejo de matrices y tuplas\n"
      ],
      "metadata": {
        "id": "rADqOz5Y4_Ta"
      }
    },
    {
      "cell_type": "code",
      "source": [
        "import matplotlib.pyplot as plt\n",
        "from sklearn.datasets import make_blobs\n",
        "import math\n",
        "import numpy as np\n",
        "from sklearn.preprocessing import MinMaxScaler\n",
        "from mpl_toolkits.mplot3d import Axes3D\n",
        "from matplotlib import cm\n",
        "\n",
        "\n",
        "\n"
      ],
      "metadata": {
        "id": "T5VMC0nSThW3"
      },
      "execution_count": null,
      "outputs": []
    },
    {
      "cell_type": "markdown",
      "source": [
        "Función de distribución Gaussiana. Estandarizar las muestras. "
      ],
      "metadata": {
        "id": "1H9jzwqj5XnB"
      }
    },
    {
      "cell_type": "code",
      "source": [
        "\n",
        "# Distribución normal estandar, gaussiana, clase kernel\n",
        "def gaussian(deviation):\n",
        "\n",
        "    gaussian_y = []\n",
        "    i = np.arange(0.0,1.0,0.01)\n",
        "\n",
        "    for x in i:\n",
        "        z = (x-mean_x)/deviation\n",
        "        gaussian_y.append( kernel(z) )\n",
        "    return i, gaussian_y"
      ],
      "metadata": {
        "id": "UKQ6xcWxoJQV"
      },
      "execution_count": null,
      "outputs": []
    },
    {
      "cell_type": "markdown",
      "source": [
        "\n",
        "Función Kernel, RBF: $k(\\textbf{z}) = exp(\\frac{\\frac{z^{2}}{2}}{\\sqrt{2\\pi}})$. \n",
        "\n",
        "Creación de una figura."
      ],
      "metadata": {
        "id": "_c7SgR9X5kJY"
      }
    },
    {
      "cell_type": "code",
      "source": [
        "# Radial Basis Function\n",
        "def kernel(z):\n",
        "    return math.exp( -(z*z)/2)/math.sqrt(2*math.pi)\n",
        "\n",
        "plt.figure( figsize=(8,4) )\n",
        "\n"
      ],
      "metadata": {
        "colab": {
          "base_uri": "https://localhost:8080/",
          "height": 52
        },
        "id": "fLalxlv3r3BM",
        "outputId": "76d2f7e7-51a0-4bcf-ac68-39170a495b2e"
      },
      "execution_count": null,
      "outputs": [
        {
          "output_type": "execute_result",
          "data": {
            "text/plain": [
              "<Figure size 576x288 with 0 Axes>"
            ]
          },
          "metadata": {},
          "execution_count": 19
        },
        {
          "output_type": "display_data",
          "data": {
            "text/plain": [
              "<Figure size 576x288 with 0 Axes>"
            ]
          },
          "metadata": {}
        }
      ]
    },
    {
      "cell_type": "markdown",
      "source": [
        "Con ``` make_blobs ```, se genera 200 muestras aleatorias, con 2 características, 4 centros.\n",
        "\n",
        "Gráficamos estas muestras como puntos en el plano.\n",
        "\n"
      ],
      "metadata": {
        "id": "XLpdgOlP5vQo"
      }
    },
    {
      "cell_type": "code",
      "source": [
        "CENTERS = 4\n",
        "X, y = make_blobs( n_samples=200, n_features=2, centers=CENTERS, random_state=8, cluster_std=1 )\n",
        "\n",
        "y = y % 2 # Generar dos clases no separables linealmente\n",
        "\n",
        "for target in range(CENTERS):\n",
        "    plt.scatter( X[y==target,1], X[y==target,0], marker=\"^\", label=\"class \"+format(target) )\n"
      ],
      "metadata": {
        "colab": {
          "base_uri": "https://localhost:8080/",
          "height": 265
        },
        "id": "OZDz-7Ykr7vs",
        "outputId": "73615ea7-8daa-40d7-c8ac-837deac648ba"
      },
      "execution_count": null,
      "outputs": [
        {
          "output_type": "display_data",
          "data": {
            "text/plain": [
              "<Figure size 432x288 with 1 Axes>"
            ],
            "image/png": "[encoded data removed]"
          },
          "metadata": {
            "needs_background": "light"
          }
        }
      ]
    },
    {
      "cell_type": "markdown",
      "source": [
        "Con ```MinMaxScaler() ``` permite ajustar valores de una muestra, tal que queden en el rango de (0, 1).  Ajustamos la muestra X con ```fit()```. Finalmente, aplicamos transformación y graficamos."
      ],
      "metadata": {
        "id": "W3mKDsRa7Icn"
      }
    },
    {
      "cell_type": "code",
      "source": [
        "\n",
        "scaler = MinMaxScaler() # Ajuste de valores de un rango de (0, 1)\n",
        "scaler.fit(X) # Ajustar X\n",
        "X = scaler.transform(X) # Transformar X\n",
        "\n",
        "# Para clasificar las clases no linealmente separables. Usar función \n",
        "# gaussiona como Kernel.\n",
        "\n",
        "\n",
        "for target in range(CENTERS):\n",
        "    plt.scatter( X[y==target,1], X[y==target,0], marker=\"^\", label=\"class \"+format(target) )\n",
        "\n",
        "\n"
      ],
      "metadata": {
        "colab": {
          "base_uri": "https://localhost:8080/",
          "height": 265
        },
        "id": "boPVspg5r-6k",
        "outputId": "3a5dd893-f9ef-495e-c5ac-0255651b9f9f"
      },
      "execution_count": null,
      "outputs": [
        {
          "output_type": "display_data",
          "data": {
            "text/plain": [
              "<Figure size 432x288 with 1 Axes>"
            ],
            "image/png": "[encoded data removed]"
          },
          "metadata": {
            "needs_background": "light"
          }
        }
      ]
    },
    {
      "cell_type": "markdown",
      "source": [
        "Mostrar diferentes formas de la distribución Gaussiana, varian según la desviación estándar. Se muestra el funcionamiento del Kernel Gaussiano, para el aumento de dimensionalidad de las muestras."
      ],
      "metadata": {
        "id": "7ZWr5e447pEQ"
      }
    },
    {
      "cell_type": "code",
      "source": [
        "for target in range(CENTERS):\n",
        "    plt.scatter( X[y==target,1], X[y==target,0], marker=\"^\", label=\"class \"+format(target) )\n",
        "mean_x = np.mean(X[:, 1])\n",
        "\n",
        "DEVIATION = 0.2\n",
        "x, gaussian_y = gaussian(DEVIATION)\n",
        "plt.scatter(x, gaussian_y, color=\"g\", )\n",
        "x, gaussian_y = gaussian(DEVIATION*0.3)\n",
        "plt.scatter(x, gaussian_y, color=\"c\")\n",
        "\n",
        "\n"
      ],
      "metadata": {
        "colab": {
          "base_uri": "https://localhost:8080/",
          "height": 282
        },
        "id": "YwekG2Y8sA88",
        "outputId": "2bc663ff-587e-4719-e6f4-888633e1f73d"
      },
      "execution_count": null,
      "outputs": [
        {
          "output_type": "execute_result",
          "data": {
            "text/plain": [
              "<matplotlib.collections.PathCollection at 0x7f053e927d90>"
            ]
          },
          "metadata": {},
          "execution_count": 24
        },
        {
          "output_type": "display_data",
          "data": {
            "text/plain": [
              "<Figure size 432x288 with 1 Axes>"
            ],
            "image/png": "[encoded data removed]"
          },
          "metadata": {
            "needs_background": "light"
          }
        }
      ]
    },
    {
      "cell_type": "markdown",
      "source": [
        "Usar la función Kernel, para el aumento de dimensionalidad de cada uno de los puntos. Se procede a construir el hiperplano (En este caso, un plano), que permita separar ambas clases en el espacio."
      ],
      "metadata": {
        "id": "8ah1MqtP8VZo"
      }
    },
    {
      "cell_type": "code",
      "source": [
        "gaussian_z = [ [], [] ]\n",
        "for i in range(len(y)):\n",
        "    z = (X[:,1][i]-mean_x)/DEVIATION\n",
        "    gaussian_z[y[i]].append( kernel(z)*X[:, 1][i] )\n",
        "\n",
        "\n",
        "\n",
        "X_h = np.arange( int( min(X[:,0]) ), int( max(X[:,0]) ), 0.005 )\n",
        "Y_h = np.arange( int( min(X[:,1]) ), int( max(X[:,1]) ), 0.005 )\n",
        "X_h, Y_h = np.meshgrid(X_h, Y_h) # Toma arreglos de 1D, retorna dos matrices\n",
        "Z = -(-0.1*Y_h + 0.02*X_h-0.04)/1 \n",
        "\n"
      ],
      "metadata": {
        "colab": {
          "base_uri": "https://localhost:8080/"
        },
        "id": "t5JocG5Hu7on",
        "outputId": "790a691e-8100-4d2d-d375-c16f218341fd"
      },
      "execution_count": null,
      "outputs": [
        {
          "output_type": "execute_result",
          "data": {
            "text/plain": [
              "array([[0.   , 0.005, 0.01 , ..., 0.985, 0.99 , 0.995],\n",
              "       [0.   , 0.005, 0.01 , ..., 0.985, 0.99 , 0.995],\n",
              "       [0.   , 0.005, 0.01 , ..., 0.985, 0.99 , 0.995],\n",
              "       ...,\n",
              "       [0.   , 0.005, 0.01 , ..., 0.985, 0.99 , 0.995],\n",
              "       [0.   , 0.005, 0.01 , ..., 0.985, 0.99 , 0.995],\n",
              "       [0.   , 0.005, 0.01 , ..., 0.985, 0.99 , 0.995]])"
            ]
          },
          "metadata": {},
          "execution_count": 32
        }
      ]
    },
    {
      "cell_type": "markdown",
      "source": [
        "Graficar las muestras en el espacio, y el plano separador."
      ],
      "metadata": {
        "id": "9ahIU14q8n0Z"
      }
    },
    {
      "cell_type": "code",
      "source": [
        "\n",
        "fig = plt.figure( figsize=(8,4) )\n",
        "ax = Axes3D(fig, elev=30, azim=-30)\n",
        "\n",
        "for target in range(2):\n",
        "    ax.scatter( X[y==target, 1], X[y==target, 0], gaussian_z[target], marker=\"^\" )\n",
        "\n",
        "ax.plot_surface(Y_h, X_h, Z)"
      ],
      "metadata": {
        "colab": {
          "base_uri": "https://localhost:8080/",
          "height": 336
        },
        "id": "77GtolTTvZLc",
        "outputId": "b7552287-3f9f-4e39-ddef-db83795ff359"
      },
      "execution_count": null,
      "outputs": [
        {
          "output_type": "execute_result",
          "data": {
            "text/plain": [
              "<mpl_toolkits.mplot3d.art3d.Poly3DCollection at 0x7f053db01a10>"
            ]
          },
          "metadata": {},
          "execution_count": 37
        },
        {
          "output_type": "display_data",
          "data": {
            "text/plain": [
              "<Figure size 576x288 with 1 Axes>"
            ],
            "image/png": "[encoded data removed]"
          },
          "metadata": {
            "needs_background": "light"
          }
        }
      ]
    },
    {
      "cell_type": "markdown",
      "source": [
        "# 4. Kernel Sigmoid"
      ],
      "metadata": {
        "id": "pS4C8fUg3Wco"
      }
    },
    {
      "cell_type": "code",
      "source": [
        "import matplotlib.pyplot as plt\n",
        "import numpy as np\n",
        "from sklearn import datasets\n",
        "from sklearn import svm\n",
        "from sklearn.datasets import make_blobs\n",
        "\n",
        "CENTERS=2\n",
        "\n",
        "# datos de entrenamiento\n",
        "Train_X, Train_y = make_blobs(n_samples=200, n_features=2,centers=CENTERS, random_state=11, cluster_std=8)\n",
        "\n",
        "\n",
        "# algoritmo de maquina de soporte vectorial funcion exponencial con gamma=0.1\n",
        "nonlinear_clf = svm.SVC(kernel='sigmoid', gamma='scale', C=1.0)\n",
        "\n",
        "# modelo \n",
        "nonlinear_clf.fit(Train_X, Train_y)\n",
        "\n",
        "# gráfica de la función de decisión\n",
        "def Funcion_desicion (model, ax=None):\n",
        "    if ax is None:\n",
        "        ax = plt.gca()\n",
        "        \n",
        "    xlim = ax.get_xlim()\n",
        "    ylim = ax.get_ylim()\n",
        "    \n",
        "    x = np.linspace(xlim[0], xlim[1], 30)\n",
        "    y = np.linspace(ylim[0], ylim[1], 30)\n",
        "    Y, X = np.meshgrid(y, x)\n",
        "\n",
        "    xy = np.vstack([X.ravel(), Y.ravel()]).T\n",
        "    \n",
        "\t# el límite de decisión\n",
        "    P = model.decision_function(xy).reshape(X.shape)\n",
        "    \n",
        "    # gráfica el límite de decisión\n",
        "    ax.contour(X, Y, P,\n",
        "               levels=[0], alpha=0.5,\n",
        "               linestyles=['-'])\n",
        "    \n",
        "plt.scatter(Train_X[:, 0], Train_X[:, 1], c=Train_y, s=50)\n",
        "Funcion_desicion(nonlinear_clf)\n",
        "plt.scatter(nonlinear_clf.support_vectors_[:, 0], nonlinear_clf.support_vectors_[:, 1], s=50, lw=1, facecolors='none')\n",
        "plt.show()"
      ],
      "metadata": {
        "colab": {
          "base_uri": "https://localhost:8080/",
          "height": 265
        },
        "id": "XNMWlwWr3hCR",
        "outputId": "423465b9-4919-454c-9689-a2f122c5d609"
      },
      "execution_count": null,
      "outputs": [
        {
          "output_type": "display_data",
          "data": {
            "text/plain": [
              "<Figure size 432x288 with 1 Axes>"
            ],
            "image/png": "[encoded data removed]"
          },
          "metadata": {
            "needs_background": "light"
          }
        }
      ]
    },
    {
      "cell_type": "markdown",
      "source": [
        "# 5. Kernel Polinomial"
      ],
      "metadata": {
        "id": "-iTvvHewyr49"
      }
    },
    {
      "cell_type": "markdown",
      "source": [
        "Se importan las librerias,\n",
        "\n",
        "*   Matplotlib: Creación de gráficas.\n",
        "*   Scikit Learn: Creación de SVM, base de datos de muestras aleatorias.\n",
        "*   Math\n",
        "*   Numpy: Manejo de matrices y tuplas\n",
        "*   Pandas: Manejo de datasets, DataFrames e indexación."
      ],
      "metadata": {
        "id": "knW7Iz_XErLo"
      }
    },
    {
      "cell_type": "code",
      "source": [
        "import matplotlib.pyplot as plt\n",
        "from sklearn.datasets import make_circles\n",
        "import math\n",
        "import numpy as np\n",
        "import pandas as pd\n",
        "from sklearn.preprocessing import MinMaxScaler\n",
        "from sklearn.model_selection import train_test_split\n",
        "from sklearn import svm\n",
        "from mpl_toolkits.mplot3d import Axes3D\n",
        "from matplotlib import cm\n"
      ],
      "metadata": {
        "id": "sVbob0TmvZht"
      },
      "execution_count": null,
      "outputs": []
    },
    {
      "cell_type": "markdown",
      "source": [
        "Generar un conjunto de datos, que formen un círculo y que son imposible de clasificar mediante regresiones.\n",
        "Además, creamos un DataFrame con ambas características y la clasificación de cada muestra."
      ],
      "metadata": {
        "id": "t7ar-7raE2jg"
      }
    },
    {
      "cell_type": "code",
      "source": [
        "X, y = make_circles(n_samples=200, noise=0.10, random_state=20)\n",
        "df = pd.DataFrame(dict(x1=X[:, 0], x2=X[:, 1], y=y))"
      ],
      "metadata": {
        "id": "vefdzk4DA9HI"
      },
      "execution_count": null,
      "outputs": []
    },
    {
      "cell_type": "markdown",
      "source": [
        "Graficar los datos en el plano, clase A corresponde al color <font color='blue'>azul</font> y la clase B corresponde al color <font color='orange'>amarillo</font>.\n",
        "\n",
        "Con ```groupby(\"y\")```, podemos separar el DataFrame, usando la clasificación (Si es clase A o clase B).\n",
        "\n",
        "\n"
      ],
      "metadata": {
        "id": "azehWr-KFRYX"
      }
    },
    {
      "cell_type": "code",
      "source": [
        "fig, ax = plt.subplots()\n",
        "colors = {0:'blue', 1:'yellow'}\n",
        "grouped = df.groupby('y')\n",
        "for key, group in grouped:\n",
        "    plt.scatter(group['x1'], group['x2'],color=colors[key], s=10)\n",
        "plt.show()"
      ],
      "metadata": {
        "id": "MQ9rLYeHBKLf",
        "colab": {
          "base_uri": "https://localhost:8080/",
          "height": 265
        },
        "outputId": "caf95c76-673c-4877-b812-03b9d195c47c"
      },
      "execution_count": null,
      "outputs": [
        {
          "output_type": "display_data",
          "data": {
            "text/plain": [
              "<Figure size 432x288 with 1 Axes>"
            ],
            "image/png": "[encoded data removed]"
          },
          "metadata": {
            "needs_background": "light"
          }
        }
      ]
    },
    {
      "cell_type": "markdown",
      "source": [
        "Construir el clasificador, que maneja un Kernel Polinomial.\n",
        "Dividir el conjunto de datos (Datos para entrenar modelo, y para testear el modelo).\n",
        "Finalmente, ajustar el modelo usando los datos de entrenamiento."
      ],
      "metadata": {
        "id": "VO9d54PMG3qQ"
      }
    },
    {
      "cell_type": "code",
      "source": [
        "clf = svm.SVC(kernel='poly')\n",
        "X_train, X_test, y_train, y_test = train_test_split(X, y, test_size=0.7, random_state=42)\n",
        "clf.fit(X_train, y_train)"
      ],
      "metadata": {
        "id": "g0LkfHu_BgHg",
        "colab": {
          "base_uri": "https://localhost:8080/"
        },
        "outputId": "2e2018b6-e986-4b85-8ef1-bfc23585f44f"
      },
      "execution_count": null,
      "outputs": [
        {
          "output_type": "execute_result",
          "data": {
            "text/plain": [
              "SVC(kernel='poly')"
            ]
          },
          "metadata": {},
          "execution_count": 11
        }
      ]
    },
    {
      "cell_type": "markdown",
      "source": [
        "Realiza la predicción de la clase de los objetos, usando los datos de prueba."
      ],
      "metadata": {
        "id": "IPZEHFJAHKLj"
      }
    },
    {
      "cell_type": "code",
      "source": [
        "y_pred = clf.predict(X_test)"
      ],
      "metadata": {
        "id": "aWO7AvBxCTeo"
      },
      "execution_count": null,
      "outputs": []
    },
    {
      "cell_type": "markdown",
      "source": [
        "Con ```sklearn.metrics```, permite usar métricas para conocer el rendimiento, precisión, etc... del modelo, usando los datos prueba (Clasificación real) y los datos predichos (La predicción)."
      ],
      "metadata": {
        "id": "XLxevNXaHKen"
      }
    },
    {
      "cell_type": "code",
      "source": [
        "from sklearn.metrics import classification_report, confusion_matrix\n",
        "print(confusion_matrix(y_test, y_pred))\n",
        "print(classification_report(y_test, y_pred))"
      ],
      "metadata": {
        "id": "EnwagNVQGxdg",
        "colab": {
          "base_uri": "https://localhost:8080/"
        },
        "outputId": "549f4829-f0d0-44c1-d4ac-6a1333bc91a6"
      },
      "execution_count": null,
      "outputs": [
        {
          "output_type": "stream",
          "name": "stdout",
          "text": [
            "[[25 46]\n",
            " [28 41]]\n",
            "              precision    recall  f1-score   support\n",
            "\n",
            "           0       0.47      0.35      0.40        71\n",
            "           1       0.47      0.59      0.53        69\n",
            "\n",
            "    accuracy                           0.47       140\n",
            "   macro avg       0.47      0.47      0.46       140\n",
            "weighted avg       0.47      0.47      0.46       140\n",
            "\n"
          ]
        }
      ]
    },
    {
      "cell_type": "markdown",
      "source": [
        "Graficar las muestras en el plano."
      ],
      "metadata": {
        "id": "mQCj1Ry6WK_S"
      }
    },
    {
      "cell_type": "code",
      "source": [
        "import plotly.express as px\n",
        "\n",
        "fig = px.scatter(df, x=\"x1\", y=\"x2\", color=\"y\")\n",
        "fig.show()"
      ],
      "metadata": {
        "id": "gfAF44jYGzcJ",
        "colab": {
          "base_uri": "https://localhost:8080/",
          "height": 542
        },
        "outputId": "eaf20e6f-e1aa-42f5-e7b8-181ebe96c7e5"
      },
      "execution_count": null,
      "outputs": [
        {
          "output_type": "display_data",
          "data": {
            "text/html": [
              "<html>\n",
              "<head><meta charset=\"utf-8\" /></head>\n",
              "<body>\n",
              "    <div>            <script src=\"https://cdnjs.cloudflare.com/ajax/libs/mathjax/2.7.5/MathJax.js?config=TeX-AMS-MML_SVG\"></script><script type=\"text/javascript\">if (window.MathJax) {MathJax.Hub.Config({SVG: {font: \"STIX-Web\"}});}</script>                <script type=\"text/javascript\">window.PlotlyConfig = {MathJaxConfig: 'local'};</script>\n",
              "        <script src=\"https://cdn.plot.ly/plotly-2.8.3.min.js\"></script>                <div id=\"7bf1359e-2228-43eb-8b69-2c5d41495afa\" class=\"plotly-graph-div\" style=\"height:525px; width:100%;\"></div>            <script type=\"text/javascript\">                                    window.PLOTLYENV=window.PLOTLYENV || {};                                    if (document.getElementById(\"7bf1359e-2228-43eb-8b69-2c5d41495afa\")) {                    Plotly.newPlot(                        \"7bf1359e-2228-43eb-8b69-2c5d41495afa\",                        [{\"hovertemplate\":\"x1=%{x}<br>x2=%{y}<br>y=%{marker.color}<extra></extra>\",\"legendgroup\":\"\",\"marker\":{\"color\":[1,0,0,1,1,1,1,1,0,1,1,0,1,1,0,1,1,1,1,1,1,1,0,1,1,1,1,1,0,0,0,1,0,0,1,0,1,0,0,1,1,0,1,0,0,1,1,1,1,1,0,1,0,1,0,0,0,0,1,0,1,0,0,0,0,1,0,1,0,0,0,1,0,1,1,0,0,0,0,1,0,1,0,0,0,1,0,1,0,1,1,0,0,0,0,0,1,1,0,1,0,0,0,1,0,0,1,1,1,0,0,0,1,1,0,0,0,0,1,1,0,0,1,0,0,1,0,1,0,0,1,1,0,1,1,1,0,1,1,1,1,0,1,1,0,1,0,0,1,1,0,1,1,0,0,0,0,1,0,0,1,1,1,1,0,1,1,0,1,0,0,1,1,0,0,1,0,0,1,0,1,1,0,0,1,1,1,0,0,0,1,1,0,0,0,1,1,1,0,0],\"coloraxis\":\"coloraxis\",\"symbol\":\"circle\"},\"mode\":\"markers\",\"name\":\"\",\"orientation\":\"v\",\"showlegend\":false,\"x\":[-0.8639854207434008,-0.2977045800358536,0.6416181053994717,0.14483160461801414,0.6674410632469503,-0.3931752541709512,0.08737690954466845,0.7792784334758477,-1.1210712522783925,0.8847871309780877,-0.4057394861261141,0.2734793738038715,0.526738505359641,-0.44049116770194974,0.5679334050825395,-0.044766788096073734,-0.8608262737088649,-0.39129474132735437,0.25283756816624475,0.6266579788174478,0.04906406027034735,0.5740199267117281,0.564811276071568,-0.6305641685675315,0.4270007471441036,-0.6663911614913904,0.6962164073749473,0.03318583652720114,0.8989379350028498,1.0909138587358784,-0.4041313293753913,-0.7468530215828333,-0.7697643704205387,-0.20350207630684067,0.37237805076045993,0.6648993241787924,-1.078623271138293,-0.9917155875163257,0.5743206609229116,0.591408749577409,-0.898168233485401,-0.43520672909330327,-0.34324785030217003,-0.8329713632612498,-0.7954461753345403,0.31706273839653987,0.04623268237833797,0.3705454820314593,0.6161729666099787,-0.1472521359305271,0.8037715102249487,-0.1286576960538714,-1.023588378901225,-0.8761769436737904,0.7498109636376276,1.1047818045711078,-1.01313903731207,0.3256027063335208,-0.7668884416055779,-0.6473288047147371,-0.32977122742271714,-0.8921239000653289,0.26150595803409865,0.2809723811854163,-0.9091247186990343,-0.1244929706267871,0.9414407278194664,0.6824917054277158,-0.2220029387484426,0.9376731376043435,-0.7397997350429342,0.7721285618039885,0.9985592167964795,0.8512665821456215,-0.5623935590442375,-0.47514427171387363,-0.4972028242805663,0.9403048867626427,0.9469375417488827,0.6953740724168191,0.8608757167024365,-0.6024845308564755,-0.9433539605522345,-0.15830059303558566,-0.6855405428582249,0.622406410210783,-0.5412252212068076,0.92204673691131,-0.9053049894965444,0.3962466498719108,0.37522011570830877,-0.8952688365125748,0.9169321184807684,-0.37485891856000064,0.0012462642611160146,-1.0221760681745222,0.757109026856931,-0.5006538617198183,-0.8632710031010934,0.8418418225466253,-0.8684584529346794,-0.5071808468686018,0.47386497276844025,0.2397982947739287,0.5378660304015951,-0.8110162138212188,0.7626325234868151,0.6284563218487893,-0.8932326490739837,-0.1413516902653473,0.33834594635228493,-1.1348410652216359,0.09882271081728954,-0.7911759071749914,0.05908948371652395,1.0254365606191034,-0.8746881119990986,0.04389386201338133,0.31450838109584267,-0.41702110469126047,0.9545306597316201,-0.8867731904197034,-0.012734584557282339,-1.011228086359198,1.1008258484083462,0.03706538165494621,-0.9257804972162388,0.46547780932437005,0.288232182299488,-0.6478719539886266,-0.13455928122442978,0.14613240490020496,-0.6173922051905363,-0.842117795524635,0.20889058459507182,0.6283075780166423,0.34069286152725964,0.6224142696792665,-0.6480502048169879,0.3791285820556018,-0.6450719534366918,0.4738238367049471,0.45788879372899316,-0.4316933490420988,0.708617784124712,-0.6114781393514344,-0.29615276821805114,0.9981499340560118,-0.4275380144423568,0.7725967864636091,-0.19821567314324562,-0.4987562890268693,-0.23634054660614018,1.0730625228306954,-0.8015016624970226,-0.44658925652064263,0.8555211080956676,-0.815130016305398,-0.183894196019329,0.2763485757369145,-0.17502854960085387,-0.7997939937037627,0.7976437668302888,-0.22045757740407806,0.1513541717538513,-0.38091796726436145,0.6307781303392729,-0.9896744146449605,-0.694151176251682,0.975658120987685,0.5409413354572797,0.5015113313451125,0.22104314201493108,0.7772453380366655,-0.5457530723559315,0.7449761145441403,0.5113861564331614,-0.7763833882865822,-0.33979001462934677,-0.030353078782269505,-0.694806069247352,0.5807821546842666,0.8137618063782166,0.7338535972835203,0.7265183133239892,0.7057602408041777,-0.8591250064920004,0.44409987472501555,0.10003464067075309,-0.7653822542395435,0.286271284481976,-0.46594968937096465,-0.1935255677256902,0.29389576331916645,0.013811059864996224,-0.8287831620648082,-0.5981219601418919,-0.9039685292283527,0.36796658219501427,1.0010481160585432],\"xaxis\":\"x\",\"y\":[-0.001336431792180692,0.9825906188663254,0.49620068332246114,-0.7548048622965097,0.45963816942588714,-0.6185503786045021,-0.8127061340003456,-0.1215650273486649,0.2149212541354958,-0.19160935041239308,0.4452275221589983,-1.0038545833453916,-0.5765821611806947,-0.596021452750614,-0.7460971055775124,-0.6646995422683812,-0.48830746913752826,-0.7715756680943627,0.8187792374793192,-0.4005165892595476,-0.862824610562332,0.5387549836119,-0.6380515557303692,0.063314631934874,-0.7537297428896913,0.25809328005694554,-0.15921673460604951,0.7912497661898436,0.35980058343515436,-0.2144481235820886,1.0305324919147416,0.47458075500320646,0.3871966461845179,-0.9533945108701973,-0.7483473416061228,-0.7480159679500928,-0.07147166935697984,0.29868663193659506,-0.8627475645833602,0.5689170490477445,-0.17633560743226864,-0.8144244932661732,0.7843060116761252,-0.5156592925886097,-0.6251768045561164,-0.5124196631172522,-0.800938880866914,0.895242050141336,0.5491737211624281,0.8766966253709458,0.7650451786433673,0.5925119667935188,0.013133301377777448,-0.1013469331792976,-0.6207249173195759,-0.018119877064217624,-0.29603429299260375,-1.1450578964605351,-0.28686410441514,-0.7269710504449765,0.639967435386664,-0.6102342536127112,0.9714725041546637,0.9151348577776349,0.2865205029000746,0.8271277424780581,-0.3092459880760424,-0.4892828835203402,1.0336765541030701,-0.3580768802672648,0.7298533646780896,0.5090263217292263,-0.4748431695339705,0.3864163737239782,-0.48281486238076365,-1.0841720034427786,0.7691502669469182,-0.058235090463801306,-0.026714796566552585,-0.08925232462814725,0.6838802067853934,0.6095767831950059,0.039104293572675836,0.9818550962224205,-1.035107410035043,-0.25207459805244586,-0.9360133022503949,0.18055829121971564,0.6882313168356389,-0.5744172879312943,0.7887344907976703,-0.4760320521212985,0.006387902924934408,-1.0756858881679272,-1.018935485802757,-0.06961362238870919,0.43528077087100464,-0.5366860805287703,-0.6078567856397263,-0.09728102885200293,-0.3389147150334879,0.8316378126566628,0.7400571205788027,0.771399778464358,-0.8266763015361053,0.6298558628801438,0.3851102562152678,-0.06911164561564931,0.058662844136778636,-1.0286779658948013,-0.8110394489604082,-0.19906688718410173,0.8193666817985021,0.35219024725830245,-0.9847129688871518,-0.14892089760368118,-0.33666478642832864,0.8806425125131028,0.8576723001503124,0.42799808916352244,0.6152657320528745,0.8339851335138857,-0.7320816585234534,-0.27610129482692847,-0.3860913151336937,0.8888231339194034,0.1593614433586713,0.5924434221628245,1.0043534009877408,0.7518157523645712,1.0374859181276308,0.8938802445487756,-0.4534590497292253,0.03683877266695379,-0.5852003952555405,-0.5238105597076804,1.0278409174195506,0.661163991416683,0.47896707315773596,0.6610453316037842,-0.2626817662524559,-0.79295368820537,-0.7885334929737114,-0.5710726233711474,0.49525320618564206,-0.4288736949894415,0.9945146802944407,0.23231489621706136,0.47114704226976933,-0.25504681058715273,-1.087887669868247,-0.2955332211206475,-0.6732845909095965,-0.3959947973492025,0.3870876398436914,0.7609684312916147,-0.4050675486229375,0.16673078326887206,0.8695943063156246,-1.1392217076394884,-0.6672825227438,-0.2668680977039568,-0.27123948249176677,-0.657111587407766,-1.0980813032860033,-0.6962815340378776,-0.7083710805177295,0.20270092109791973,0.2690291797981239,0.23145776428819506,0.7654502070551178,-0.6112095588855233,-0.7902182270899436,0.4931401804333326,0.8730674506219857,0.4591933005393753,-0.8953134445980985,-0.6390833956822951,0.7577826428386607,1.0867973787140768,0.44544782501972147,-0.5888999222392469,0.36512752292439293,0.4967372884919451,0.05488591537854514,0.03532130310043721,0.24482884176844344,0.9365563270159091,0.9343974285167962,0.6012005378162893,0.7301790759070342,-0.39357249994850524,-0.9765148808277709,0.9190674559155882,-0.9823226906758884,0.038424182978958096,0.5375939394839087,-0.28079690145104513,0.8845377325699739,-0.17461285454056136],\"yaxis\":\"y\",\"type\":\"scatter\"}],                        {\"template\":{\"data\":{\"bar\":[{\"error_x\":{\"color\":\"#2a3f5f\"},\"error_y\":{\"color\":\"#2a3f5f\"},\"marker\":{\"line\":{\"color\":\"#E5ECF6\",\"width\":0.5},\"pattern\":{\"fillmode\":\"overlay\",\"size\":10,\"solidity\":0.2}},\"type\":\"bar\"}],\"barpolar\":[{\"marker\":{\"line\":{\"color\":\"#E5ECF6\",\"width\":0.5},\"pattern\":{\"fillmode\":\"overlay\",\"size\":10,\"solidity\":0.2}},\"type\":\"barpolar\"}],\"carpet\":[{\"aaxis\":{\"endlinecolor\":\"#2a3f5f\",\"gridcolor\":\"white\",\"linecolor\":\"white\",\"minorgridcolor\":\"white\",\"startlinecolor\":\"#2a3f5f\"},\"baxis\":{\"endlinecolor\":\"#2a3f5f\",\"gridcolor\":\"white\",\"linecolor\":\"white\",\"minorgridcolor\":\"white\",\"startlinecolor\":\"#2a3f5f\"},\"type\":\"carpet\"}],\"choropleth\":[{\"colorbar\":{\"outlinewidth\":0,\"ticks\":\"\"},\"type\":\"choropleth\"}],\"contour\":[{\"colorbar\":{\"outlinewidth\":0,\"ticks\":\"\"},\"colorscale\":[[0.0,\"#0d0887\"],[0.1111111111111111,\"#46039f\"],[0.2222222222222222,\"#7201a8\"],[0.3333333333333333,\"#9c179e\"],[0.4444444444444444,\"#bd3786\"],[0.5555555555555556,\"#d8576b\"],[0.6666666666666666,\"#ed7953\"],[0.7777777777777778,\"#fb9f3a\"],[0.8888888888888888,\"#fdca26\"],[1.0,\"#f0f921\"]],\"type\":\"contour\"}],\"contourcarpet\":[{\"colorbar\":{\"outlinewidth\":0,\"ticks\":\"\"},\"type\":\"contourcarpet\"}],\"heatmap\":[{\"colorbar\":{\"outlinewidth\":0,\"ticks\":\"\"},\"colorscale\":[[0.0,\"#0d0887\"],[0.1111111111111111,\"#46039f\"],[0.2222222222222222,\"#7201a8\"],[0.3333333333333333,\"#9c179e\"],[0.4444444444444444,\"#bd3786\"],[0.5555555555555556,\"#d8576b\"],[0.6666666666666666,\"#ed7953\"],[0.7777777777777778,\"#fb9f3a\"],[0.8888888888888888,\"#fdca26\"],[1.0,\"#f0f921\"]],\"type\":\"heatmap\"}],\"heatmapgl\":[{\"colorbar\":{\"outlinewidth\":0,\"ticks\":\"\"},\"colorscale\":[[0.0,\"#0d0887\"],[0.1111111111111111,\"#46039f\"],[0.2222222222222222,\"#7201a8\"],[0.3333333333333333,\"#9c179e\"],[0.4444444444444444,\"#bd3786\"],[0.5555555555555556,\"#d8576b\"],[0.6666666666666666,\"#ed7953\"],[0.7777777777777778,\"#fb9f3a\"],[0.8888888888888888,\"#fdca26\"],[1.0,\"#f0f921\"]],\"type\":\"heatmapgl\"}],\"histogram\":[{\"marker\":{\"pattern\":{\"fillmode\":\"overlay\",\"size\":10,\"solidity\":0.2}},\"type\":\"histogram\"}],\"histogram2d\":[{\"colorbar\":{\"outlinewidth\":0,\"ticks\":\"\"},\"colorscale\":[[0.0,\"#0d0887\"],[0.1111111111111111,\"#46039f\"],[0.2222222222222222,\"#7201a8\"],[0.3333333333333333,\"#9c179e\"],[0.4444444444444444,\"#bd3786\"],[0.5555555555555556,\"#d8576b\"],[0.6666666666666666,\"#ed7953\"],[0.7777777777777778,\"#fb9f3a\"],[0.8888888888888888,\"#fdca26\"],[1.0,\"#f0f921\"]],\"type\":\"histogram2d\"}],\"histogram2dcontour\":[{\"colorbar\":{\"outlinewidth\":0,\"ticks\":\"\"},\"colorscale\":[[0.0,\"#0d0887\"],[0.1111111111111111,\"#46039f\"],[0.2222222222222222,\"#7201a8\"],[0.3333333333333333,\"#9c179e\"],[0.4444444444444444,\"#bd3786\"],[0.5555555555555556,\"#d8576b\"],[0.6666666666666666,\"#ed7953\"],[0.7777777777777778,\"#fb9f3a\"],[0.8888888888888888,\"#fdca26\"],[1.0,\"#f0f921\"]],\"type\":\"histogram2dcontour\"}],\"mesh3d\":[{\"colorbar\":{\"outlinewidth\":0,\"ticks\":\"\"},\"type\":\"mesh3d\"}],\"parcoords\":[{\"line\":{\"colorbar\":{\"outlinewidth\":0,\"ticks\":\"\"}},\"type\":\"parcoords\"}],\"pie\":[{\"automargin\":true,\"type\":\"pie\"}],\"scatter\":[{\"marker\":{\"colorbar\":{\"outlinewidth\":0,\"ticks\":\"\"}},\"type\":\"scatter\"}],\"scatter3d\":[{\"line\":{\"colorbar\":{\"outlinewidth\":0,\"ticks\":\"\"}},\"marker\":{\"colorbar\":{\"outlinewidth\":0,\"ticks\":\"\"}},\"type\":\"scatter3d\"}],\"scattercarpet\":[{\"marker\":{\"colorbar\":{\"outlinewidth\":0,\"ticks\":\"\"}},\"type\":\"scattercarpet\"}],\"scattergeo\":[{\"marker\":{\"colorbar\":{\"outlinewidth\":0,\"ticks\":\"\"}},\"type\":\"scattergeo\"}],\"scattergl\":[{\"marker\":{\"colorbar\":{\"outlinewidth\":0,\"ticks\":\"\"}},\"type\":\"scattergl\"}],\"scattermapbox\":[{\"marker\":{\"colorbar\":{\"outlinewidth\":0,\"ticks\":\"\"}},\"type\":\"scattermapbox\"}],\"scatterpolar\":[{\"marker\":{\"colorbar\":{\"outlinewidth\":0,\"ticks\":\"\"}},\"type\":\"scatterpolar\"}],\"scatterpolargl\":[{\"marker\":{\"colorbar\":{\"outlinewidth\":0,\"ticks\":\"\"}},\"type\":\"scatterpolargl\"}],\"scatterternary\":[{\"marker\":{\"colorbar\":{\"outlinewidth\":0,\"ticks\":\"\"}},\"type\":\"scatterternary\"}],\"surface\":[{\"colorbar\":{\"outlinewidth\":0,\"ticks\":\"\"},\"colorscale\":[[0.0,\"#0d0887\"],[0.1111111111111111,\"#46039f\"],[0.2222222222222222,\"#7201a8\"],[0.3333333333333333,\"#9c179e\"],[0.4444444444444444,\"#bd3786\"],[0.5555555555555556,\"#d8576b\"],[0.6666666666666666,\"#ed7953\"],[0.7777777777777778,\"#fb9f3a\"],[0.8888888888888888,\"#fdca26\"],[1.0,\"#f0f921\"]],\"type\":\"surface\"}],\"table\":[{\"cells\":{\"fill\":{\"color\":\"#EBF0F8\"},\"line\":{\"color\":\"white\"}},\"header\":{\"fill\":{\"color\":\"#C8D4E3\"},\"line\":{\"color\":\"white\"}},\"type\":\"table\"}]},\"layout\":{\"annotationdefaults\":{\"arrowcolor\":\"#2a3f5f\",\"arrowhead\":0,\"arrowwidth\":1},\"autotypenumbers\":\"strict\",\"coloraxis\":{\"colorbar\":{\"outlinewidth\":0,\"ticks\":\"\"}},\"colorscale\":{\"diverging\":[[0,\"#8e0152\"],[0.1,\"#c51b7d\"],[0.2,\"#de77ae\"],[0.3,\"#f1b6da\"],[0.4,\"#fde0ef\"],[0.5,\"#f7f7f7\"],[0.6,\"#e6f5d0\"],[0.7,\"#b8e186\"],[0.8,\"#7fbc41\"],[0.9,\"#4d9221\"],[1,\"#276419\"]],\"sequential\":[[0.0,\"#0d0887\"],[0.1111111111111111,\"#46039f\"],[0.2222222222222222,\"#7201a8\"],[0.3333333333333333,\"#9c179e\"],[0.4444444444444444,\"#bd3786\"],[0.5555555555555556,\"#d8576b\"],[0.6666666666666666,\"#ed7953\"],[0.7777777777777778,\"#fb9f3a\"],[0.8888888888888888,\"#fdca26\"],[1.0,\"#f0f921\"]],\"sequentialminus\":[[0.0,\"#0d0887\"],[0.1111111111111111,\"#46039f\"],[0.2222222222222222,\"#7201a8\"],[0.3333333333333333,\"#9c179e\"],[0.4444444444444444,\"#bd3786\"],[0.5555555555555556,\"#d8576b\"],[0.6666666666666666,\"#ed7953\"],[0.7777777777777778,\"#fb9f3a\"],[0.8888888888888888,\"#fdca26\"],[1.0,\"#f0f921\"]]},\"colorway\":[\"#636efa\",\"#EF553B\",\"#00cc96\",\"#ab63fa\",\"#FFA15A\",\"#19d3f3\",\"#FF6692\",\"#B6E880\",\"#FF97FF\",\"#FECB52\"],\"font\":{\"color\":\"#2a3f5f\"},\"geo\":{\"bgcolor\":\"white\",\"lakecolor\":\"white\",\"landcolor\":\"#E5ECF6\",\"showlakes\":true,\"showland\":true,\"subunitcolor\":\"white\"},\"hoverlabel\":{\"align\":\"left\"},\"hovermode\":\"closest\",\"mapbox\":{\"style\":\"light\"},\"paper_bgcolor\":\"white\",\"plot_bgcolor\":\"#E5ECF6\",\"polar\":{\"angularaxis\":{\"gridcolor\":\"white\",\"linecolor\":\"white\",\"ticks\":\"\"},\"bgcolor\":\"#E5ECF6\",\"radialaxis\":{\"gridcolor\":\"white\",\"linecolor\":\"white\",\"ticks\":\"\"}},\"scene\":{\"xaxis\":{\"backgroundcolor\":\"#E5ECF6\",\"gridcolor\":\"white\",\"gridwidth\":2,\"linecolor\":\"white\",\"showbackground\":true,\"ticks\":\"\",\"zerolinecolor\":\"white\"},\"yaxis\":{\"backgroundcolor\":\"#E5ECF6\",\"gridcolor\":\"white\",\"gridwidth\":2,\"linecolor\":\"white\",\"showbackground\":true,\"ticks\":\"\",\"zerolinecolor\":\"white\"},\"zaxis\":{\"backgroundcolor\":\"#E5ECF6\",\"gridcolor\":\"white\",\"gridwidth\":2,\"linecolor\":\"white\",\"showbackground\":true,\"ticks\":\"\",\"zerolinecolor\":\"white\"}},\"shapedefaults\":{\"line\":{\"color\":\"#2a3f5f\"}},\"ternary\":{\"aaxis\":{\"gridcolor\":\"white\",\"linecolor\":\"white\",\"ticks\":\"\"},\"baxis\":{\"gridcolor\":\"white\",\"linecolor\":\"white\",\"ticks\":\"\"},\"bgcolor\":\"#E5ECF6\",\"caxis\":{\"gridcolor\":\"white\",\"linecolor\":\"white\",\"ticks\":\"\"}},\"title\":{\"x\":0.05},\"xaxis\":{\"automargin\":true,\"gridcolor\":\"white\",\"linecolor\":\"white\",\"ticks\":\"\",\"title\":{\"standoff\":15},\"zerolinecolor\":\"white\",\"zerolinewidth\":2},\"yaxis\":{\"automargin\":true,\"gridcolor\":\"white\",\"linecolor\":\"white\",\"ticks\":\"\",\"title\":{\"standoff\":15},\"zerolinecolor\":\"white\",\"zerolinewidth\":2}}},\"xaxis\":{\"anchor\":\"y\",\"domain\":[0.0,1.0],\"title\":{\"text\":\"x1\"}},\"yaxis\":{\"anchor\":\"x\",\"domain\":[0.0,1.0],\"title\":{\"text\":\"x2\"}},\"coloraxis\":{\"colorbar\":{\"title\":{\"text\":\"y\"}},\"colorscale\":[[0.0,\"#0d0887\"],[0.1111111111111111,\"#46039f\"],[0.2222222222222222,\"#7201a8\"],[0.3333333333333333,\"#9c179e\"],[0.4444444444444444,\"#bd3786\"],[0.5555555555555556,\"#d8576b\"],[0.6666666666666666,\"#ed7953\"],[0.7777777777777778,\"#fb9f3a\"],[0.8888888888888888,\"#fdca26\"],[1.0,\"#f0f921\"]]},\"legend\":{\"tracegroupgap\":0},\"margin\":{\"t\":60}},                        {\"responsive\": true}                    ).then(function(){\n",
              "                            \n",
              "var gd = document.getElementById('7bf1359e-2228-43eb-8b69-2c5d41495afa');\n",
              "var x = new MutationObserver(function (mutations, observer) {{\n",
              "        var display = window.getComputedStyle(gd).display;\n",
              "        if (!display || display === 'none') {{\n",
              "            console.log([gd, 'removed!']);\n",
              "            Plotly.purge(gd);\n",
              "            observer.disconnect();\n",
              "        }}\n",
              "}});\n",
              "\n",
              "// Listen for the removal of the full notebook cells\n",
              "var notebookContainer = gd.closest('#notebook-container');\n",
              "if (notebookContainer) {{\n",
              "    x.observe(notebookContainer, {childList: true});\n",
              "}}\n",
              "\n",
              "// Listen for the clearing of the current output cell\n",
              "var outputEl = gd.closest('.output');\n",
              "if (outputEl) {{\n",
              "    x.observe(outputEl, {childList: true});\n",
              "}}\n",
              "\n",
              "                        })                };                            </script>        </div>\n",
              "</body>\n",
              "</html>"
            ]
          },
          "metadata": {}
        }
      ]
    },
    {
      "cell_type": "markdown",
      "source": [
        "En el espacio, observe la clasificación real de los puntos a testear. "
      ],
      "metadata": {
        "id": "kawiBMpVWbeh"
      }
    },
    {
      "cell_type": "code",
      "source": [
        "df1 = pd.DataFrame(dict(x1=X_test[:, 0], x2=X_test[:, 1], y=y_test))\n",
        "fig = px.scatter_3d(df1, x='x1', y='x2', z='y', color='y')\n",
        "fig.show()"
      ],
      "metadata": {
        "colab": {
          "base_uri": "https://localhost:8080/",
          "height": 542
        },
        "id": "jzz62Ih7Ixyw",
        "outputId": "a0002613-ed3e-4d10-9bb3-e1b8a556ce0b"
      },
      "execution_count": null,
      "outputs": [
        {
          "output_type": "display_data",
          "data": {
            "text/html": [
              "<html>\n",
              "<head><meta charset=\"utf-8\" /></head>\n",
              "<body>\n",
              "    <div>            <script src=\"https://cdnjs.cloudflare.com/ajax/libs/mathjax/2.7.5/MathJax.js?config=TeX-AMS-MML_SVG\"></script><script type=\"text/javascript\">if (window.MathJax) {MathJax.Hub.Config({SVG: {font: \"STIX-Web\"}});}</script>                <script type=\"text/javascript\">window.PlotlyConfig = {MathJaxConfig: 'local'};</script>\n",
              "        <script src=\"https://cdn.plot.ly/plotly-2.8.3.min.js\"></script>                <div id=\"0b72cb9e-b1b4-4a32-817b-32cf81b4bc4c\" class=\"plotly-graph-div\" style=\"height:525px; width:100%;\"></div>            <script type=\"text/javascript\">                                    window.PLOTLYENV=window.PLOTLYENV || {};                                    if (document.getElementById(\"0b72cb9e-b1b4-4a32-817b-32cf81b4bc4c\")) {                    Plotly.newPlot(                        \"0b72cb9e-b1b4-4a32-817b-32cf81b4bc4c\",                        [{\"hovertemplate\":\"x1=%{x}<br>x2=%{y}<br>y=%{marker.color}<extra></extra>\",\"legendgroup\":\"\",\"marker\":{\"color\":[0,1,0,0,0,0,0,0,0,1,0,0,1,0,1,0,0,1,0,0,0,1,1,0,1,1,0,1,1,0,1,1,0,0,0,0,1,1,0,0,1,1,0,1,1,1,0,1,1,0,0,0,1,0,0,1,1,0,1,1,0,1,1,1,0,1,1,0,1,0,1,1,1,0,1,1,1,1,0,0,0,0,1,0,1,1,1,1,1,0,0,0,0,0,0,0,0,1,1,0,1,0,1,1,0,0,1,0,1,0,1,1,0,0,0,0,0,0,1,0,1,1,0,0,1,1,1,0,1,1,1,1,0,0,0,1,1,0,1,1],\"coloraxis\":\"coloraxis\",\"symbol\":\"circle\"},\"mode\":\"markers\",\"name\":\"\",\"scene\":\"scene\",\"showlegend\":false,\"x\":[-1.0221760681745222,-0.044766788096073734,-0.4041313293753913,-0.183894196019329,0.288232182299488,1.0254365606191034,0.9376731376043435,0.5409413354572797,-0.5457530723559315,0.31706273839653987,0.9414407278194664,0.8137618063782166,-0.38091796726436145,0.9469375417488827,-0.8591250064920004,-0.7763833882865822,-1.01313903731207,-0.23634054660614018,-0.9433539605522345,-0.2220029387484426,1.1008258484083462,-0.8608262737088649,-0.4275380144423568,-0.37485891856000064,-0.1244929706267871,-0.32977122742271714,-0.6855405428582249,0.6824917054277158,0.03706538165494621,-0.6173922051905363,0.8847871309780877,0.25283756816624475,1.1047818045711078,-0.47514427171387363,-0.19821567314324562,0.5378660304015951,0.6283075780166423,0.6224142696792665,0.1513541717538513,-0.4972028242805663,0.6953740724168191,-0.9039685292283527,0.5743206609229116,0.4270007471441036,-0.012734584557282339,-0.8287831620648082,1.0909138587358784,0.6266579788174478,-0.4316933490420988,-0.5412252212068076,0.05908948371652395,0.7772453380366655,-0.3931752541709512,-0.9257804972162388,0.04389386201338133,0.8512665821456215,-0.6450719534366918,-0.8632710031010934,0.22104314201493108,0.757109026856931,0.975658120987685,-0.5006538617198183,-0.7468530215828333,0.526738505359641,0.6648993241787924,-0.41702110469126047,-0.34324785030217003,-0.7653822542395435,0.37522011570830877,0.34069286152725964,-0.1286576960538714,0.46547780932437005,0.7976437668302888,-0.43520672909330327,0.31450838109584267,-0.7911759071749914,0.6962164073749473,0.3791285820556018,-0.8684584529346794,-1.1348410652216359,0.6416181053994717,0.9403048867626427,0.04623268237833797,0.44409987472501555,-0.46594968937096465,0.622406410210783,-0.7997939937037627,-1.078623271138293,0.286271284481976,-0.8921239000653289,0.564811276071568,0.4738238367049471,-0.5071808468686018,-0.20350207630684067,0.2734793738038715,0.013811059864996224,0.2763485757369145,0.08737690954466845,0.03318583652720114,0.9545306597316201,0.6674410632469503,-0.7697643704205387,0.45788879372899316,-0.6114781393514344,-0.1413516902653473,0.708617784124712,-0.4057394861261141,0.26150595803409865,0.09882271081728954,-0.29615276821805114,0.6307781303392729,-0.8639854207434008,0.36796658219501427,1.0730625228306954,-0.7397997350429342,-1.011228086359198,-0.9091247186990343,-0.7954461753345403,-0.22045757740407806,0.8989379350028498,-0.898168233485401,-0.8932326490739837,-0.44658925652064263,0.8555211080956676,-0.6663911614913904,-0.6305641685675315,0.7265183133239892,0.9981499340560118,-0.6024845308564755,0.591408749577409,-0.694151176251682,0.3705454820314593,0.0012462642611160146,-0.8015016624970226,-0.8329713632612498,-0.6480502048169879,0.14483160461801414,-0.8110162138212188,-0.8761769436737904,-0.842117795524635],\"y\":[-0.06961362238870919,-0.6646995422683812,1.0305324919147416,0.8695943063156246,1.0043534009877408,-0.14892089760368118,-0.3580768802672648,0.7654502070551178,0.8730674506219857,-0.5124196631172522,-0.3092459880760424,0.36512752292439293,-0.6962815340378776,-0.026714796566552585,0.24482884176844344,-0.6390833956822951,-0.29603429299260375,-0.6732845909095965,0.039104293572675836,1.0336765541030701,-0.3860913151336937,-0.48830746913752826,0.47114704226976933,-1.0756858881679272,0.8271277424780581,0.639967435386664,-1.035107410035043,-0.4892828835203402,0.8888231339194034,-0.4534590497292253,-0.19160935041239308,0.8187792374793192,-0.018119877064217624,-1.0841720034427786,-1.087887669868247,-0.8266763015361053,-0.5238105597076804,0.661163991416683,-1.0980813032860033,0.7691502669469182,-0.08925232462814725,-0.28079690145104513,-0.8627475645833602,-0.7537297428896913,-0.7320816585234534,0.038424182978958096,-0.2144481235820886,-0.4005165892595476,-0.5710726233711474,-0.9360133022503949,-0.9847129688871518,0.4931401804333326,-0.6185503786045021,0.1593614433586713,0.8806425125131028,0.3864163737239782,-0.2626817662524559,-0.6078567856397263,-0.7902182270899436,0.43528077087100464,0.23145776428819506,-0.5366860805287703,0.47458075500320646,-0.5765821611806947,-0.7480159679500928,0.42799808916352244,0.7843060116761252,0.6012005378162893,0.7887344907976703,1.0278409174195506,0.5925119667935188,0.5924434221628245,-0.27123948249176677,-0.8144244932661732,0.8576723001503124,0.35219024725830245,-0.15921673460604951,0.6610453316037842,-0.3389147150334879,-0.19906688718410173,0.49620068332246114,-0.058235090463801306,-0.800938880866914,0.9365563270159091,-0.39357249994850524,-0.25207459805244586,-0.2668680977039568,-0.07147166935697984,0.7301790759070342,-0.6102342536127112,-0.6380515557303692,-0.79295368820537,0.8316378126566628,-0.9533945108701973,-1.0038545833453916,-0.9823226906758884,-1.1392217076394884,-0.8127061340003456,0.7912497661898436,0.6152657320528745,0.45963816942588714,0.3871966461845179,-0.7885334929737114,-0.4288736949894415,-1.0286779658948013,0.49525320618564206,0.4452275221589983,0.9714725041546637,0.8193666817985021,0.9945146802944407,-0.7083710805177295,-0.001336431792180692,0.8845377325699739,-0.3959947973492025,0.7298533646780896,-0.27610129482692847,0.2865205029000746,-0.6251768045561164,-0.657111587407766,0.35980058343515436,-0.17633560743226864,0.058662844136778636,0.7609684312916147,-0.4050675486229375,0.25809328005694554,0.063314631934874,0.05488591537854514,0.23231489621706136,0.6095767831950059,0.5689170490477445,0.2690291797981239,0.895242050141336,-1.018935485802757,0.3870876398436914,-0.5156592925886097,0.47896707315773596,-0.7548048622965097,0.6298558628801438,-0.1013469331792976,0.03683877266695379],\"z\":[0,1,0,0,0,0,0,0,0,1,0,0,1,0,1,0,0,1,0,0,0,1,1,0,1,1,0,1,1,0,1,1,0,0,0,0,1,1,0,0,1,1,0,1,1,1,0,1,1,0,0,0,1,0,0,1,1,0,1,1,0,1,1,1,0,1,1,0,1,0,1,1,1,0,1,1,1,1,0,0,0,0,1,0,1,1,1,1,1,0,0,0,0,0,0,0,0,1,1,0,1,0,1,1,0,0,1,0,1,0,1,1,0,0,0,0,0,0,1,0,1,1,0,0,1,1,1,0,1,1,1,1,0,0,0,1,1,0,1,1],\"type\":\"scatter3d\"}],                        {\"template\":{\"data\":{\"bar\":[{\"error_x\":{\"color\":\"#2a3f5f\"},\"error_y\":{\"color\":\"#2a3f5f\"},\"marker\":{\"line\":{\"color\":\"#E5ECF6\",\"width\":0.5},\"pattern\":{\"fillmode\":\"overlay\",\"size\":10,\"solidity\":0.2}},\"type\":\"bar\"}],\"barpolar\":[{\"marker\":{\"line\":{\"color\":\"#E5ECF6\",\"width\":0.5},\"pattern\":{\"fillmode\":\"overlay\",\"size\":10,\"solidity\":0.2}},\"type\":\"barpolar\"}],\"carpet\":[{\"aaxis\":{\"endlinecolor\":\"#2a3f5f\",\"gridcolor\":\"white\",\"linecolor\":\"white\",\"minorgridcolor\":\"white\",\"startlinecolor\":\"#2a3f5f\"},\"baxis\":{\"endlinecolor\":\"#2a3f5f\",\"gridcolor\":\"white\",\"linecolor\":\"white\",\"minorgridcolor\":\"white\",\"startlinecolor\":\"#2a3f5f\"},\"type\":\"carpet\"}],\"choropleth\":[{\"colorbar\":{\"outlinewidth\":0,\"ticks\":\"\"},\"type\":\"choropleth\"}],\"contour\":[{\"colorbar\":{\"outlinewidth\":0,\"ticks\":\"\"},\"colorscale\":[[0.0,\"#0d0887\"],[0.1111111111111111,\"#46039f\"],[0.2222222222222222,\"#7201a8\"],[0.3333333333333333,\"#9c179e\"],[0.4444444444444444,\"#bd3786\"],[0.5555555555555556,\"#d8576b\"],[0.6666666666666666,\"#ed7953\"],[0.7777777777777778,\"#fb9f3a\"],[0.8888888888888888,\"#fdca26\"],[1.0,\"#f0f921\"]],\"type\":\"contour\"}],\"contourcarpet\":[{\"colorbar\":{\"outlinewidth\":0,\"ticks\":\"\"},\"type\":\"contourcarpet\"}],\"heatmap\":[{\"colorbar\":{\"outlinewidth\":0,\"ticks\":\"\"},\"colorscale\":[[0.0,\"#0d0887\"],[0.1111111111111111,\"#46039f\"],[0.2222222222222222,\"#7201a8\"],[0.3333333333333333,\"#9c179e\"],[0.4444444444444444,\"#bd3786\"],[0.5555555555555556,\"#d8576b\"],[0.6666666666666666,\"#ed7953\"],[0.7777777777777778,\"#fb9f3a\"],[0.8888888888888888,\"#fdca26\"],[1.0,\"#f0f921\"]],\"type\":\"heatmap\"}],\"heatmapgl\":[{\"colorbar\":{\"outlinewidth\":0,\"ticks\":\"\"},\"colorscale\":[[0.0,\"#0d0887\"],[0.1111111111111111,\"#46039f\"],[0.2222222222222222,\"#7201a8\"],[0.3333333333333333,\"#9c179e\"],[0.4444444444444444,\"#bd3786\"],[0.5555555555555556,\"#d8576b\"],[0.6666666666666666,\"#ed7953\"],[0.7777777777777778,\"#fb9f3a\"],[0.8888888888888888,\"#fdca26\"],[1.0,\"#f0f921\"]],\"type\":\"heatmapgl\"}],\"histogram\":[{\"marker\":{\"pattern\":{\"fillmode\":\"overlay\",\"size\":10,\"solidity\":0.2}},\"type\":\"histogram\"}],\"histogram2d\":[{\"colorbar\":{\"outlinewidth\":0,\"ticks\":\"\"},\"colorscale\":[[0.0,\"#0d0887\"],[0.1111111111111111,\"#46039f\"],[0.2222222222222222,\"#7201a8\"],[0.3333333333333333,\"#9c179e\"],[0.4444444444444444,\"#bd3786\"],[0.5555555555555556,\"#d8576b\"],[0.6666666666666666,\"#ed7953\"],[0.7777777777777778,\"#fb9f3a\"],[0.8888888888888888,\"#fdca26\"],[1.0,\"#f0f921\"]],\"type\":\"histogram2d\"}],\"histogram2dcontour\":[{\"colorbar\":{\"outlinewidth\":0,\"ticks\":\"\"},\"colorscale\":[[0.0,\"#0d0887\"],[0.1111111111111111,\"#46039f\"],[0.2222222222222222,\"#7201a8\"],[0.3333333333333333,\"#9c179e\"],[0.4444444444444444,\"#bd3786\"],[0.5555555555555556,\"#d8576b\"],[0.6666666666666666,\"#ed7953\"],[0.7777777777777778,\"#fb9f3a\"],[0.8888888888888888,\"#fdca26\"],[1.0,\"#f0f921\"]],\"type\":\"histogram2dcontour\"}],\"mesh3d\":[{\"colorbar\":{\"outlinewidth\":0,\"ticks\":\"\"},\"type\":\"mesh3d\"}],\"parcoords\":[{\"line\":{\"colorbar\":{\"outlinewidth\":0,\"ticks\":\"\"}},\"type\":\"parcoords\"}],\"pie\":[{\"automargin\":true,\"type\":\"pie\"}],\"scatter\":[{\"marker\":{\"colorbar\":{\"outlinewidth\":0,\"ticks\":\"\"}},\"type\":\"scatter\"}],\"scatter3d\":[{\"line\":{\"colorbar\":{\"outlinewidth\":0,\"ticks\":\"\"}},\"marker\":{\"colorbar\":{\"outlinewidth\":0,\"ticks\":\"\"}},\"type\":\"scatter3d\"}],\"scattercarpet\":[{\"marker\":{\"colorbar\":{\"outlinewidth\":0,\"ticks\":\"\"}},\"type\":\"scattercarpet\"}],\"scattergeo\":[{\"marker\":{\"colorbar\":{\"outlinewidth\":0,\"ticks\":\"\"}},\"type\":\"scattergeo\"}],\"scattergl\":[{\"marker\":{\"colorbar\":{\"outlinewidth\":0,\"ticks\":\"\"}},\"type\":\"scattergl\"}],\"scattermapbox\":[{\"marker\":{\"colorbar\":{\"outlinewidth\":0,\"ticks\":\"\"}},\"type\":\"scattermapbox\"}],\"scatterpolar\":[{\"marker\":{\"colorbar\":{\"outlinewidth\":0,\"ticks\":\"\"}},\"type\":\"scatterpolar\"}],\"scatterpolargl\":[{\"marker\":{\"colorbar\":{\"outlinewidth\":0,\"ticks\":\"\"}},\"type\":\"scatterpolargl\"}],\"scatterternary\":[{\"marker\":{\"colorbar\":{\"outlinewidth\":0,\"ticks\":\"\"}},\"type\":\"scatterternary\"}],\"surface\":[{\"colorbar\":{\"outlinewidth\":0,\"ticks\":\"\"},\"colorscale\":[[0.0,\"#0d0887\"],[0.1111111111111111,\"#46039f\"],[0.2222222222222222,\"#7201a8\"],[0.3333333333333333,\"#9c179e\"],[0.4444444444444444,\"#bd3786\"],[0.5555555555555556,\"#d8576b\"],[0.6666666666666666,\"#ed7953\"],[0.7777777777777778,\"#fb9f3a\"],[0.8888888888888888,\"#fdca26\"],[1.0,\"#f0f921\"]],\"type\":\"surface\"}],\"table\":[{\"cells\":{\"fill\":{\"color\":\"#EBF0F8\"},\"line\":{\"color\":\"white\"}},\"header\":{\"fill\":{\"color\":\"#C8D4E3\"},\"line\":{\"color\":\"white\"}},\"type\":\"table\"}]},\"layout\":{\"annotationdefaults\":{\"arrowcolor\":\"#2a3f5f\",\"arrowhead\":0,\"arrowwidth\":1},\"autotypenumbers\":\"strict\",\"coloraxis\":{\"colorbar\":{\"outlinewidth\":0,\"ticks\":\"\"}},\"colorscale\":{\"diverging\":[[0,\"#8e0152\"],[0.1,\"#c51b7d\"],[0.2,\"#de77ae\"],[0.3,\"#f1b6da\"],[0.4,\"#fde0ef\"],[0.5,\"#f7f7f7\"],[0.6,\"#e6f5d0\"],[0.7,\"#b8e186\"],[0.8,\"#7fbc41\"],[0.9,\"#4d9221\"],[1,\"#276419\"]],\"sequential\":[[0.0,\"#0d0887\"],[0.1111111111111111,\"#46039f\"],[0.2222222222222222,\"#7201a8\"],[0.3333333333333333,\"#9c179e\"],[0.4444444444444444,\"#bd3786\"],[0.5555555555555556,\"#d8576b\"],[0.6666666666666666,\"#ed7953\"],[0.7777777777777778,\"#fb9f3a\"],[0.8888888888888888,\"#fdca26\"],[1.0,\"#f0f921\"]],\"sequentialminus\":[[0.0,\"#0d0887\"],[0.1111111111111111,\"#46039f\"],[0.2222222222222222,\"#7201a8\"],[0.3333333333333333,\"#9c179e\"],[0.4444444444444444,\"#bd3786\"],[0.5555555555555556,\"#d8576b\"],[0.6666666666666666,\"#ed7953\"],[0.7777777777777778,\"#fb9f3a\"],[0.8888888888888888,\"#fdca26\"],[1.0,\"#f0f921\"]]},\"colorway\":[\"#636efa\",\"#EF553B\",\"#00cc96\",\"#ab63fa\",\"#FFA15A\",\"#19d3f3\",\"#FF6692\",\"#B6E880\",\"#FF97FF\",\"#FECB52\"],\"font\":{\"color\":\"#2a3f5f\"},\"geo\":{\"bgcolor\":\"white\",\"lakecolor\":\"white\",\"landcolor\":\"#E5ECF6\",\"showlakes\":true,\"showland\":true,\"subunitcolor\":\"white\"},\"hoverlabel\":{\"align\":\"left\"},\"hovermode\":\"closest\",\"mapbox\":{\"style\":\"light\"},\"paper_bgcolor\":\"white\",\"plot_bgcolor\":\"#E5ECF6\",\"polar\":{\"angularaxis\":{\"gridcolor\":\"white\",\"linecolor\":\"white\",\"ticks\":\"\"},\"bgcolor\":\"#E5ECF6\",\"radialaxis\":{\"gridcolor\":\"white\",\"linecolor\":\"white\",\"ticks\":\"\"}},\"scene\":{\"xaxis\":{\"backgroundcolor\":\"#E5ECF6\",\"gridcolor\":\"white\",\"gridwidth\":2,\"linecolor\":\"white\",\"showbackground\":true,\"ticks\":\"\",\"zerolinecolor\":\"white\"},\"yaxis\":{\"backgroundcolor\":\"#E5ECF6\",\"gridcolor\":\"white\",\"gridwidth\":2,\"linecolor\":\"white\",\"showbackground\":true,\"ticks\":\"\",\"zerolinecolor\":\"white\"},\"zaxis\":{\"backgroundcolor\":\"#E5ECF6\",\"gridcolor\":\"white\",\"gridwidth\":2,\"linecolor\":\"white\",\"showbackground\":true,\"ticks\":\"\",\"zerolinecolor\":\"white\"}},\"shapedefaults\":{\"line\":{\"color\":\"#2a3f5f\"}},\"ternary\":{\"aaxis\":{\"gridcolor\":\"white\",\"linecolor\":\"white\",\"ticks\":\"\"},\"baxis\":{\"gridcolor\":\"white\",\"linecolor\":\"white\",\"ticks\":\"\"},\"bgcolor\":\"#E5ECF6\",\"caxis\":{\"gridcolor\":\"white\",\"linecolor\":\"white\",\"ticks\":\"\"}},\"title\":{\"x\":0.05},\"xaxis\":{\"automargin\":true,\"gridcolor\":\"white\",\"linecolor\":\"white\",\"ticks\":\"\",\"title\":{\"standoff\":15},\"zerolinecolor\":\"white\",\"zerolinewidth\":2},\"yaxis\":{\"automargin\":true,\"gridcolor\":\"white\",\"linecolor\":\"white\",\"ticks\":\"\",\"title\":{\"standoff\":15},\"zerolinecolor\":\"white\",\"zerolinewidth\":2}}},\"scene\":{\"domain\":{\"x\":[0.0,1.0],\"y\":[0.0,1.0]},\"xaxis\":{\"title\":{\"text\":\"x1\"}},\"yaxis\":{\"title\":{\"text\":\"x2\"}},\"zaxis\":{\"title\":{\"text\":\"y\"}}},\"coloraxis\":{\"colorbar\":{\"title\":{\"text\":\"y\"}},\"colorscale\":[[0.0,\"#0d0887\"],[0.1111111111111111,\"#46039f\"],[0.2222222222222222,\"#7201a8\"],[0.3333333333333333,\"#9c179e\"],[0.4444444444444444,\"#bd3786\"],[0.5555555555555556,\"#d8576b\"],[0.6666666666666666,\"#ed7953\"],[0.7777777777777778,\"#fb9f3a\"],[0.8888888888888888,\"#fdca26\"],[1.0,\"#f0f921\"]]},\"legend\":{\"tracegroupgap\":0},\"margin\":{\"t\":60}},                        {\"responsive\": true}                    ).then(function(){\n",
              "                            \n",
              "var gd = document.getElementById('0b72cb9e-b1b4-4a32-817b-32cf81b4bc4c');\n",
              "var x = new MutationObserver(function (mutations, observer) {{\n",
              "        var display = window.getComputedStyle(gd).display;\n",
              "        if (!display || display === 'none') {{\n",
              "            console.log([gd, 'removed!']);\n",
              "            Plotly.purge(gd);\n",
              "            observer.disconnect();\n",
              "        }}\n",
              "}});\n",
              "\n",
              "// Listen for the removal of the full notebook cells\n",
              "var notebookContainer = gd.closest('#notebook-container');\n",
              "if (notebookContainer) {{\n",
              "    x.observe(notebookContainer, {childList: true});\n",
              "}}\n",
              "\n",
              "// Listen for the clearing of the current output cell\n",
              "var outputEl = gd.closest('.output');\n",
              "if (outputEl) {{\n",
              "    x.observe(outputEl, {childList: true});\n",
              "}}\n",
              "\n",
              "                        })                };                            </script>        </div>\n",
              "</body>\n",
              "</html>"
            ]
          },
          "metadata": {}
        }
      ]
    },
    {
      "cell_type": "markdown",
      "source": [
        "En contraste, tenemos la clasificación predicha por la SVM."
      ],
      "metadata": {
        "id": "nn7zP2hAWh6h"
      }
    },
    {
      "cell_type": "code",
      "source": [
        "df1 = pd.DataFrame(dict(x1=X_test[:, 0], x2=X_test[:, 1], y=y_pred))\n",
        "fig = px.scatter_3d(df1, x='x1', y='x2', z='y', color='y')\n",
        "fig.show()"
      ],
      "metadata": {
        "colab": {
          "base_uri": "https://localhost:8080/",
          "height": 542
        },
        "id": "MX6mfodCI1yo",
        "outputId": "ad840696-638f-429d-a26d-6d84670790c2"
      },
      "execution_count": null,
      "outputs": [
        {
          "output_type": "display_data",
          "data": {
            "text/html": [
              "<html>\n",
              "<head><meta charset=\"utf-8\" /></head>\n",
              "<body>\n",
              "    <div>            <script src=\"https://cdnjs.cloudflare.com/ajax/libs/mathjax/2.7.5/MathJax.js?config=TeX-AMS-MML_SVG\"></script><script type=\"text/javascript\">if (window.MathJax) {MathJax.Hub.Config({SVG: {font: \"STIX-Web\"}});}</script>                <script type=\"text/javascript\">window.PlotlyConfig = {MathJaxConfig: 'local'};</script>\n",
              "        <script src=\"https://cdn.plot.ly/plotly-2.8.3.min.js\"></script>                <div id=\"1c58b621-4e04-4baa-bc93-c24b353cafca\" class=\"plotly-graph-div\" style=\"height:525px; width:100%;\"></div>            <script type=\"text/javascript\">                                    window.PLOTLYENV=window.PLOTLYENV || {};                                    if (document.getElementById(\"1c58b621-4e04-4baa-bc93-c24b353cafca\")) {                    Plotly.newPlot(                        \"1c58b621-4e04-4baa-bc93-c24b353cafca\",                        [{\"hovertemplate\":\"x1=%{x}<br>x2=%{y}<br>y=%{marker.color}<extra></extra>\",\"legendgroup\":\"\",\"marker\":{\"color\":[0,1,0,0,0,1,1,0,0,1,1,1,1,1,0,1,0,1,0,0,1,1,1,1,0,1,1,1,0,1,1,0,1,1,1,1,1,0,1,1,1,0,1,1,1,0,1,1,1,1,1,1,1,0,0,1,1,1,1,1,1,1,0,1,1,1,1,0,0,0,1,0,1,1,0,0,1,0,0,0,1,1,1,0,1,1,0,0,0,1,1,1,1,1,1,1,1,1,0,1,1,0,1,1,1,1,1,0,0,0,1,0,0,1,0,0,0,1,1,1,0,0,1,1,0,1,1,1,1,0,0,0,1,0,1,0,1,0,0,0],\"coloraxis\":\"coloraxis\",\"symbol\":\"circle\"},\"mode\":\"markers\",\"name\":\"\",\"scene\":\"scene\",\"showlegend\":false,\"x\":[-1.0221760681745222,-0.044766788096073734,-0.4041313293753913,-0.183894196019329,0.288232182299488,1.0254365606191034,0.9376731376043435,0.5409413354572797,-0.5457530723559315,0.31706273839653987,0.9414407278194664,0.8137618063782166,-0.38091796726436145,0.9469375417488827,-0.8591250064920004,-0.7763833882865822,-1.01313903731207,-0.23634054660614018,-0.9433539605522345,-0.2220029387484426,1.1008258484083462,-0.8608262737088649,-0.4275380144423568,-0.37485891856000064,-0.1244929706267871,-0.32977122742271714,-0.6855405428582249,0.6824917054277158,0.03706538165494621,-0.6173922051905363,0.8847871309780877,0.25283756816624475,1.1047818045711078,-0.47514427171387363,-0.19821567314324562,0.5378660304015951,0.6283075780166423,0.6224142696792665,0.1513541717538513,-0.4972028242805663,0.6953740724168191,-0.9039685292283527,0.5743206609229116,0.4270007471441036,-0.012734584557282339,-0.8287831620648082,1.0909138587358784,0.6266579788174478,-0.4316933490420988,-0.5412252212068076,0.05908948371652395,0.7772453380366655,-0.3931752541709512,-0.9257804972162388,0.04389386201338133,0.8512665821456215,-0.6450719534366918,-0.8632710031010934,0.22104314201493108,0.757109026856931,0.975658120987685,-0.5006538617198183,-0.7468530215828333,0.526738505359641,0.6648993241787924,-0.41702110469126047,-0.34324785030217003,-0.7653822542395435,0.37522011570830877,0.34069286152725964,-0.1286576960538714,0.46547780932437005,0.7976437668302888,-0.43520672909330327,0.31450838109584267,-0.7911759071749914,0.6962164073749473,0.3791285820556018,-0.8684584529346794,-1.1348410652216359,0.6416181053994717,0.9403048867626427,0.04623268237833797,0.44409987472501555,-0.46594968937096465,0.622406410210783,-0.7997939937037627,-1.078623271138293,0.286271284481976,-0.8921239000653289,0.564811276071568,0.4738238367049471,-0.5071808468686018,-0.20350207630684067,0.2734793738038715,0.013811059864996224,0.2763485757369145,0.08737690954466845,0.03318583652720114,0.9545306597316201,0.6674410632469503,-0.7697643704205387,0.45788879372899316,-0.6114781393514344,-0.1413516902653473,0.708617784124712,-0.4057394861261141,0.26150595803409865,0.09882271081728954,-0.29615276821805114,0.6307781303392729,-0.8639854207434008,0.36796658219501427,1.0730625228306954,-0.7397997350429342,-1.011228086359198,-0.9091247186990343,-0.7954461753345403,-0.22045757740407806,0.8989379350028498,-0.898168233485401,-0.8932326490739837,-0.44658925652064263,0.8555211080956676,-0.6663911614913904,-0.6305641685675315,0.7265183133239892,0.9981499340560118,-0.6024845308564755,0.591408749577409,-0.694151176251682,0.3705454820314593,0.0012462642611160146,-0.8015016624970226,-0.8329713632612498,-0.6480502048169879,0.14483160461801414,-0.8110162138212188,-0.8761769436737904,-0.842117795524635],\"y\":[-0.06961362238870919,-0.6646995422683812,1.0305324919147416,0.8695943063156246,1.0043534009877408,-0.14892089760368118,-0.3580768802672648,0.7654502070551178,0.8730674506219857,-0.5124196631172522,-0.3092459880760424,0.36512752292439293,-0.6962815340378776,-0.026714796566552585,0.24482884176844344,-0.6390833956822951,-0.29603429299260375,-0.6732845909095965,0.039104293572675836,1.0336765541030701,-0.3860913151336937,-0.48830746913752826,0.47114704226976933,-1.0756858881679272,0.8271277424780581,0.639967435386664,-1.035107410035043,-0.4892828835203402,0.8888231339194034,-0.4534590497292253,-0.19160935041239308,0.8187792374793192,-0.018119877064217624,-1.0841720034427786,-1.087887669868247,-0.8266763015361053,-0.5238105597076804,0.661163991416683,-1.0980813032860033,0.7691502669469182,-0.08925232462814725,-0.28079690145104513,-0.8627475645833602,-0.7537297428896913,-0.7320816585234534,0.038424182978958096,-0.2144481235820886,-0.4005165892595476,-0.5710726233711474,-0.9360133022503949,-0.9847129688871518,0.4931401804333326,-0.6185503786045021,0.1593614433586713,0.8806425125131028,0.3864163737239782,-0.2626817662524559,-0.6078567856397263,-0.7902182270899436,0.43528077087100464,0.23145776428819506,-0.5366860805287703,0.47458075500320646,-0.5765821611806947,-0.7480159679500928,0.42799808916352244,0.7843060116761252,0.6012005378162893,0.7887344907976703,1.0278409174195506,0.5925119667935188,0.5924434221628245,-0.27123948249176677,-0.8144244932661732,0.8576723001503124,0.35219024725830245,-0.15921673460604951,0.6610453316037842,-0.3389147150334879,-0.19906688718410173,0.49620068332246114,-0.058235090463801306,-0.800938880866914,0.9365563270159091,-0.39357249994850524,-0.25207459805244586,-0.2668680977039568,-0.07147166935697984,0.7301790759070342,-0.6102342536127112,-0.6380515557303692,-0.79295368820537,0.8316378126566628,-0.9533945108701973,-1.0038545833453916,-0.9823226906758884,-1.1392217076394884,-0.8127061340003456,0.7912497661898436,0.6152657320528745,0.45963816942588714,0.3871966461845179,-0.7885334929737114,-0.4288736949894415,-1.0286779658948013,0.49525320618564206,0.4452275221589983,0.9714725041546637,0.8193666817985021,0.9945146802944407,-0.7083710805177295,-0.001336431792180692,0.8845377325699739,-0.3959947973492025,0.7298533646780896,-0.27610129482692847,0.2865205029000746,-0.6251768045561164,-0.657111587407766,0.35980058343515436,-0.17633560743226864,0.058662844136778636,0.7609684312916147,-0.4050675486229375,0.25809328005694554,0.063314631934874,0.05488591537854514,0.23231489621706136,0.6095767831950059,0.5689170490477445,0.2690291797981239,0.895242050141336,-1.018935485802757,0.3870876398436914,-0.5156592925886097,0.47896707315773596,-0.7548048622965097,0.6298558628801438,-0.1013469331792976,0.03683877266695379],\"z\":[0,1,0,0,0,1,1,0,0,1,1,1,1,1,0,1,0,1,0,0,1,1,1,1,0,1,1,1,0,1,1,0,1,1,1,1,1,0,1,1,1,0,1,1,1,0,1,1,1,1,1,1,1,0,0,1,1,1,1,1,1,1,0,1,1,1,1,0,0,0,1,0,1,1,0,0,1,0,0,0,1,1,1,0,1,1,0,0,0,1,1,1,1,1,1,1,1,1,0,1,1,0,1,1,1,1,1,0,0,0,1,0,0,1,0,0,0,1,1,1,0,0,1,1,0,1,1,1,1,0,0,0,1,0,1,0,1,0,0,0],\"type\":\"scatter3d\"}],                        {\"template\":{\"data\":{\"bar\":[{\"error_x\":{\"color\":\"#2a3f5f\"},\"error_y\":{\"color\":\"#2a3f5f\"},\"marker\":{\"line\":{\"color\":\"#E5ECF6\",\"width\":0.5},\"pattern\":{\"fillmode\":\"overlay\",\"size\":10,\"solidity\":0.2}},\"type\":\"bar\"}],\"barpolar\":[{\"marker\":{\"line\":{\"color\":\"#E5ECF6\",\"width\":0.5},\"pattern\":{\"fillmode\":\"overlay\",\"size\":10,\"solidity\":0.2}},\"type\":\"barpolar\"}],\"carpet\":[{\"aaxis\":{\"endlinecolor\":\"#2a3f5f\",\"gridcolor\":\"white\",\"linecolor\":\"white\",\"minorgridcolor\":\"white\",\"startlinecolor\":\"#2a3f5f\"},\"baxis\":{\"endlinecolor\":\"#2a3f5f\",\"gridcolor\":\"white\",\"linecolor\":\"white\",\"minorgridcolor\":\"white\",\"startlinecolor\":\"#2a3f5f\"},\"type\":\"carpet\"}],\"choropleth\":[{\"colorbar\":{\"outlinewidth\":0,\"ticks\":\"\"},\"type\":\"choropleth\"}],\"contour\":[{\"colorbar\":{\"outlinewidth\":0,\"ticks\":\"\"},\"colorscale\":[[0.0,\"#0d0887\"],[0.1111111111111111,\"#46039f\"],[0.2222222222222222,\"#7201a8\"],[0.3333333333333333,\"#9c179e\"],[0.4444444444444444,\"#bd3786\"],[0.5555555555555556,\"#d8576b\"],[0.6666666666666666,\"#ed7953\"],[0.7777777777777778,\"#fb9f3a\"],[0.8888888888888888,\"#fdca26\"],[1.0,\"#f0f921\"]],\"type\":\"contour\"}],\"contourcarpet\":[{\"colorbar\":{\"outlinewidth\":0,\"ticks\":\"\"},\"type\":\"contourcarpet\"}],\"heatmap\":[{\"colorbar\":{\"outlinewidth\":0,\"ticks\":\"\"},\"colorscale\":[[0.0,\"#0d0887\"],[0.1111111111111111,\"#46039f\"],[0.2222222222222222,\"#7201a8\"],[0.3333333333333333,\"#9c179e\"],[0.4444444444444444,\"#bd3786\"],[0.5555555555555556,\"#d8576b\"],[0.6666666666666666,\"#ed7953\"],[0.7777777777777778,\"#fb9f3a\"],[0.8888888888888888,\"#fdca26\"],[1.0,\"#f0f921\"]],\"type\":\"heatmap\"}],\"heatmapgl\":[{\"colorbar\":{\"outlinewidth\":0,\"ticks\":\"\"},\"colorscale\":[[0.0,\"#0d0887\"],[0.1111111111111111,\"#46039f\"],[0.2222222222222222,\"#7201a8\"],[0.3333333333333333,\"#9c179e\"],[0.4444444444444444,\"#bd3786\"],[0.5555555555555556,\"#d8576b\"],[0.6666666666666666,\"#ed7953\"],[0.7777777777777778,\"#fb9f3a\"],[0.8888888888888888,\"#fdca26\"],[1.0,\"#f0f921\"]],\"type\":\"heatmapgl\"}],\"histogram\":[{\"marker\":{\"pattern\":{\"fillmode\":\"overlay\",\"size\":10,\"solidity\":0.2}},\"type\":\"histogram\"}],\"histogram2d\":[{\"colorbar\":{\"outlinewidth\":0,\"ticks\":\"\"},\"colorscale\":[[0.0,\"#0d0887\"],[0.1111111111111111,\"#46039f\"],[0.2222222222222222,\"#7201a8\"],[0.3333333333333333,\"#9c179e\"],[0.4444444444444444,\"#bd3786\"],[0.5555555555555556,\"#d8576b\"],[0.6666666666666666,\"#ed7953\"],[0.7777777777777778,\"#fb9f3a\"],[0.8888888888888888,\"#fdca26\"],[1.0,\"#f0f921\"]],\"type\":\"histogram2d\"}],\"histogram2dcontour\":[{\"colorbar\":{\"outlinewidth\":0,\"ticks\":\"\"},\"colorscale\":[[0.0,\"#0d0887\"],[0.1111111111111111,\"#46039f\"],[0.2222222222222222,\"#7201a8\"],[0.3333333333333333,\"#9c179e\"],[0.4444444444444444,\"#bd3786\"],[0.5555555555555556,\"#d8576b\"],[0.6666666666666666,\"#ed7953\"],[0.7777777777777778,\"#fb9f3a\"],[0.8888888888888888,\"#fdca26\"],[1.0,\"#f0f921\"]],\"type\":\"histogram2dcontour\"}],\"mesh3d\":[{\"colorbar\":{\"outlinewidth\":0,\"ticks\":\"\"},\"type\":\"mesh3d\"}],\"parcoords\":[{\"line\":{\"colorbar\":{\"outlinewidth\":0,\"ticks\":\"\"}},\"type\":\"parcoords\"}],\"pie\":[{\"automargin\":true,\"type\":\"pie\"}],\"scatter\":[{\"marker\":{\"colorbar\":{\"outlinewidth\":0,\"ticks\":\"\"}},\"type\":\"scatter\"}],\"scatter3d\":[{\"line\":{\"colorbar\":{\"outlinewidth\":0,\"ticks\":\"\"}},\"marker\":{\"colorbar\":{\"outlinewidth\":0,\"ticks\":\"\"}},\"type\":\"scatter3d\"}],\"scattercarpet\":[{\"marker\":{\"colorbar\":{\"outlinewidth\":0,\"ticks\":\"\"}},\"type\":\"scattercarpet\"}],\"scattergeo\":[{\"marker\":{\"colorbar\":{\"outlinewidth\":0,\"ticks\":\"\"}},\"type\":\"scattergeo\"}],\"scattergl\":[{\"marker\":{\"colorbar\":{\"outlinewidth\":0,\"ticks\":\"\"}},\"type\":\"scattergl\"}],\"scattermapbox\":[{\"marker\":{\"colorbar\":{\"outlinewidth\":0,\"ticks\":\"\"}},\"type\":\"scattermapbox\"}],\"scatterpolar\":[{\"marker\":{\"colorbar\":{\"outlinewidth\":0,\"ticks\":\"\"}},\"type\":\"scatterpolar\"}],\"scatterpolargl\":[{\"marker\":{\"colorbar\":{\"outlinewidth\":0,\"ticks\":\"\"}},\"type\":\"scatterpolargl\"}],\"scatterternary\":[{\"marker\":{\"colorbar\":{\"outlinewidth\":0,\"ticks\":\"\"}},\"type\":\"scatterternary\"}],\"surface\":[{\"colorbar\":{\"outlinewidth\":0,\"ticks\":\"\"},\"colorscale\":[[0.0,\"#0d0887\"],[0.1111111111111111,\"#46039f\"],[0.2222222222222222,\"#7201a8\"],[0.3333333333333333,\"#9c179e\"],[0.4444444444444444,\"#bd3786\"],[0.5555555555555556,\"#d8576b\"],[0.6666666666666666,\"#ed7953\"],[0.7777777777777778,\"#fb9f3a\"],[0.8888888888888888,\"#fdca26\"],[1.0,\"#f0f921\"]],\"type\":\"surface\"}],\"table\":[{\"cells\":{\"fill\":{\"color\":\"#EBF0F8\"},\"line\":{\"color\":\"white\"}},\"header\":{\"fill\":{\"color\":\"#C8D4E3\"},\"line\":{\"color\":\"white\"}},\"type\":\"table\"}]},\"layout\":{\"annotationdefaults\":{\"arrowcolor\":\"#2a3f5f\",\"arrowhead\":0,\"arrowwidth\":1},\"autotypenumbers\":\"strict\",\"coloraxis\":{\"colorbar\":{\"outlinewidth\":0,\"ticks\":\"\"}},\"colorscale\":{\"diverging\":[[0,\"#8e0152\"],[0.1,\"#c51b7d\"],[0.2,\"#de77ae\"],[0.3,\"#f1b6da\"],[0.4,\"#fde0ef\"],[0.5,\"#f7f7f7\"],[0.6,\"#e6f5d0\"],[0.7,\"#b8e186\"],[0.8,\"#7fbc41\"],[0.9,\"#4d9221\"],[1,\"#276419\"]],\"sequential\":[[0.0,\"#0d0887\"],[0.1111111111111111,\"#46039f\"],[0.2222222222222222,\"#7201a8\"],[0.3333333333333333,\"#9c179e\"],[0.4444444444444444,\"#bd3786\"],[0.5555555555555556,\"#d8576b\"],[0.6666666666666666,\"#ed7953\"],[0.7777777777777778,\"#fb9f3a\"],[0.8888888888888888,\"#fdca26\"],[1.0,\"#f0f921\"]],\"sequentialminus\":[[0.0,\"#0d0887\"],[0.1111111111111111,\"#46039f\"],[0.2222222222222222,\"#7201a8\"],[0.3333333333333333,\"#9c179e\"],[0.4444444444444444,\"#bd3786\"],[0.5555555555555556,\"#d8576b\"],[0.6666666666666666,\"#ed7953\"],[0.7777777777777778,\"#fb9f3a\"],[0.8888888888888888,\"#fdca26\"],[1.0,\"#f0f921\"]]},\"colorway\":[\"#636efa\",\"#EF553B\",\"#00cc96\",\"#ab63fa\",\"#FFA15A\",\"#19d3f3\",\"#FF6692\",\"#B6E880\",\"#FF97FF\",\"#FECB52\"],\"font\":{\"color\":\"#2a3f5f\"},\"geo\":{\"bgcolor\":\"white\",\"lakecolor\":\"white\",\"landcolor\":\"#E5ECF6\",\"showlakes\":true,\"showland\":true,\"subunitcolor\":\"white\"},\"hoverlabel\":{\"align\":\"left\"},\"hovermode\":\"closest\",\"mapbox\":{\"style\":\"light\"},\"paper_bgcolor\":\"white\",\"plot_bgcolor\":\"#E5ECF6\",\"polar\":{\"angularaxis\":{\"gridcolor\":\"white\",\"linecolor\":\"white\",\"ticks\":\"\"},\"bgcolor\":\"#E5ECF6\",\"radialaxis\":{\"gridcolor\":\"white\",\"linecolor\":\"white\",\"ticks\":\"\"}},\"scene\":{\"xaxis\":{\"backgroundcolor\":\"#E5ECF6\",\"gridcolor\":\"white\",\"gridwidth\":2,\"linecolor\":\"white\",\"showbackground\":true,\"ticks\":\"\",\"zerolinecolor\":\"white\"},\"yaxis\":{\"backgroundcolor\":\"#E5ECF6\",\"gridcolor\":\"white\",\"gridwidth\":2,\"linecolor\":\"white\",\"showbackground\":true,\"ticks\":\"\",\"zerolinecolor\":\"white\"},\"zaxis\":{\"backgroundcolor\":\"#E5ECF6\",\"gridcolor\":\"white\",\"gridwidth\":2,\"linecolor\":\"white\",\"showbackground\":true,\"ticks\":\"\",\"zerolinecolor\":\"white\"}},\"shapedefaults\":{\"line\":{\"color\":\"#2a3f5f\"}},\"ternary\":{\"aaxis\":{\"gridcolor\":\"white\",\"linecolor\":\"white\",\"ticks\":\"\"},\"baxis\":{\"gridcolor\":\"white\",\"linecolor\":\"white\",\"ticks\":\"\"},\"bgcolor\":\"#E5ECF6\",\"caxis\":{\"gridcolor\":\"white\",\"linecolor\":\"white\",\"ticks\":\"\"}},\"title\":{\"x\":0.05},\"xaxis\":{\"automargin\":true,\"gridcolor\":\"white\",\"linecolor\":\"white\",\"ticks\":\"\",\"title\":{\"standoff\":15},\"zerolinecolor\":\"white\",\"zerolinewidth\":2},\"yaxis\":{\"automargin\":true,\"gridcolor\":\"white\",\"linecolor\":\"white\",\"ticks\":\"\",\"title\":{\"standoff\":15},\"zerolinecolor\":\"white\",\"zerolinewidth\":2}}},\"scene\":{\"domain\":{\"x\":[0.0,1.0],\"y\":[0.0,1.0]},\"xaxis\":{\"title\":{\"text\":\"x1\"}},\"yaxis\":{\"title\":{\"text\":\"x2\"}},\"zaxis\":{\"title\":{\"text\":\"y\"}}},\"coloraxis\":{\"colorbar\":{\"title\":{\"text\":\"y\"}},\"colorscale\":[[0.0,\"#0d0887\"],[0.1111111111111111,\"#46039f\"],[0.2222222222222222,\"#7201a8\"],[0.3333333333333333,\"#9c179e\"],[0.4444444444444444,\"#bd3786\"],[0.5555555555555556,\"#d8576b\"],[0.6666666666666666,\"#ed7953\"],[0.7777777777777778,\"#fb9f3a\"],[0.8888888888888888,\"#fdca26\"],[1.0,\"#f0f921\"]]},\"legend\":{\"tracegroupgap\":0},\"margin\":{\"t\":60}},                        {\"responsive\": true}                    ).then(function(){\n",
              "                            \n",
              "var gd = document.getElementById('1c58b621-4e04-4baa-bc93-c24b353cafca');\n",
              "var x = new MutationObserver(function (mutations, observer) {{\n",
              "        var display = window.getComputedStyle(gd).display;\n",
              "        if (!display || display === 'none') {{\n",
              "            console.log([gd, 'removed!']);\n",
              "            Plotly.purge(gd);\n",
              "            observer.disconnect();\n",
              "        }}\n",
              "}});\n",
              "\n",
              "// Listen for the removal of the full notebook cells\n",
              "var notebookContainer = gd.closest('#notebook-container');\n",
              "if (notebookContainer) {{\n",
              "    x.observe(notebookContainer, {childList: true});\n",
              "}}\n",
              "\n",
              "// Listen for the clearing of the current output cell\n",
              "var outputEl = gd.closest('.output');\n",
              "if (outputEl) {{\n",
              "    x.observe(outputEl, {childList: true});\n",
              "}}\n",
              "\n",
              "                        })                };                            </script>        </div>\n",
              "</body>\n",
              "</html>"
            ]
          },
          "metadata": {}
        }
      ]
    },
    {
      "cell_type": "markdown",
      "source": [
        "# Caso de Aplicación 1: Clasificación de Números"
      ],
      "metadata": {
        "id": "lpXnX88tN_Fr"
      }
    },
    {
      "cell_type": "markdown",
      "source": [
        "Se importan las librerias,\n",
        "\n",
        "*   Matplotlib: Creación de gráficas.\n",
        "*   Scikit Learn: Creación de SVM, base de datos de muestras aleatorias.\n",
        "*   Math\n",
        "*   Numpy: Manejo de matrices y tuplas\n",
        "*   Pandas: Manejo de datasets, DataFrames e indexación."
      ],
      "metadata": {
        "id": "tYE4OD5IW_JR"
      }
    },
    {
      "cell_type": "code",
      "source": [
        "import matplotlib.pyplot as plt\n",
        "from matplotlib import cm\n",
        "from mpl_toolkits.mplot3d import Axes3D\n",
        "\n",
        "from sklearn.datasets import load_digits\n",
        "from sklearn import svm\n",
        "from sklearn.preprocessing import MinMaxScaler\n",
        "from sklearn.model_selection import train_test_split\n",
        "\n",
        "import math\n",
        "import numpy as np\n",
        "import pandas as pd"
      ],
      "metadata": {
        "id": "9f6HdFcVL-0R"
      },
      "execution_count": null,
      "outputs": []
    },
    {
      "cell_type": "markdown",
      "source": [
        "Cargar la base de datos de los dígitos. Corresponden a conjuntos de matrices, que representan cada número."
      ],
      "metadata": {
        "id": "w_dhLSniXEJR"
      }
    },
    {
      "cell_type": "code",
      "source": [
        "digits = load_digits()"
      ],
      "metadata": {
        "id": "0IOLUZf7QS_L"
      },
      "execution_count": null,
      "outputs": []
    },
    {
      "cell_type": "markdown",
      "source": [
        "Graficar una parte de los dígitos en una grilla de $5$x$5$."
      ],
      "metadata": {
        "id": "K-0rRj0nYTgS"
      }
    },
    {
      "cell_type": "code",
      "source": [
        "fig, axes = plt.subplots(5,5)\n",
        "plt.gray()\n",
        "for x in range(5):\n",
        "    for y in range(5):\n",
        "        axes[x][y].set_xticks([])\n",
        "        axes[x][y].set_yticks([])\n",
        "        axes[x][y].imshow(digits.images[(5*x)+y])"
      ],
      "metadata": {
        "colab": {
          "base_uri": "https://localhost:8080/",
          "height": 252
        },
        "id": "wrpz9VB0Qarj",
        "outputId": "b990c9e1-8ffa-4ce7-d679-b8d5732c2fb6"
      },
      "execution_count": null,
      "outputs": [
        {
          "output_type": "display_data",
          "data": {
            "text/plain": [
              "<Figure size 432x288 with 25 Axes>"
            ],
            "image/png": "[encoded data removed]"
          },
          "metadata": {}
        }
      ]
    },
    {
      "cell_type": "markdown",
      "source": [
        "Dividir el conjunto de datos (Datos para entrenar modelo, y para testear el modelo)."
      ],
      "metadata": {
        "id": "BQyfy47JY-FI"
      }
    },
    {
      "cell_type": "code",
      "source": [
        "X_train, X_test, y_train, y_test = train_test_split(digits.data, digits.target,\n",
        "        test_size=0.25, random_state=0)"
      ],
      "metadata": {
        "id": "aYfwWP9-Qb-C"
      },
      "execution_count": null,
      "outputs": []
    },
    {
      "cell_type": "markdown",
      "source": [
        "Construir la máquina de soporte vectorial, se puede usar un kernel ya sea lineal, gaussiano, etc..."
      ],
      "metadata": {
        "id": "gI8_6Ux2ZE1R"
      }
    },
    {
      "cell_type": "code",
      "source": [
        "clf = svm.SVC(kernel=\"rbf\")"
      ],
      "metadata": {
        "id": "w1cVqZ4pQd4C"
      },
      "execution_count": null,
      "outputs": []
    },
    {
      "cell_type": "markdown",
      "source": [
        "Ajustar el modelo, con los datos de entrenamiento."
      ],
      "metadata": {
        "id": "iiPLrT67ZQGp"
      }
    },
    {
      "cell_type": "code",
      "source": [
        "clf.fit(X_train, y_train)"
      ],
      "metadata": {
        "colab": {
          "base_uri": "https://localhost:8080/"
        },
        "id": "40lbTqO4Qe_y",
        "outputId": "278de2fe-7710-40b8-bdde-e900e97666d4"
      },
      "execution_count": null,
      "outputs": [
        {
          "output_type": "execute_result",
          "data": {
            "text/plain": [
              "SVC()"
            ]
          },
          "metadata": {},
          "execution_count": 23
        }
      ]
    },
    {
      "cell_type": "markdown",
      "source": [
        "Puntaje del SVM, precisión promedio de la predicción del modelo."
      ],
      "metadata": {
        "id": "CKWMdTVYZS-h"
      }
    },
    {
      "cell_type": "code",
      "source": [
        "print(clf.score(X_test, y_test))"
      ],
      "metadata": {
        "colab": {
          "base_uri": "https://localhost:8080/"
        },
        "id": "tdplY38RQgRi",
        "outputId": "2657869f-2667-4705-b070-bc09911bcdb2"
      },
      "execution_count": null,
      "outputs": [
        {
          "output_type": "stream",
          "name": "stdout",
          "text": [
            "0.9911111111111112\n"
          ]
        }
      ]
    },
    {
      "cell_type": "markdown",
      "source": [
        "Predicción del conjunto de datos de prueba."
      ],
      "metadata": {
        "id": "I--f_mspZr3h"
      }
    },
    {
      "cell_type": "code",
      "source": [
        "y_pred = clf.predict(X_test)"
      ],
      "metadata": {
        "id": "e2whcueOQhfi"
      },
      "execution_count": null,
      "outputs": []
    },
    {
      "cell_type": "markdown",
      "source": [
        "Métricas, se mide la eficiencia y precisión del modelo de clasificación.\n",
        "Se usa la matriz de confusión para identificar las clasificaciones correctas (En la diagonal), y las incorrectas."
      ],
      "metadata": {
        "id": "yE7FTDXxajCY"
      }
    },
    {
      "cell_type": "code",
      "source": [
        "from sklearn.metrics import classification_report, confusion_matrix, ConfusionMatrixDisplay\n",
        "print(confusion_matrix(y_test, y_pred))\n",
        "print(classification_report(y_test, y_pred))"
      ],
      "metadata": {
        "colab": {
          "base_uri": "https://localhost:8080/"
        },
        "id": "lGEkjCJLQimb",
        "outputId": "879c1bc5-0e5f-4426-a969-6994ea5fb8aa"
      },
      "execution_count": null,
      "outputs": [
        {
          "output_type": "stream",
          "name": "stdout",
          "text": [
            "[[37  0  0  0  0  0  0  0  0  0]\n",
            " [ 0 43  0  0  0  0  0  0  0  0]\n",
            " [ 0  0 44  0  0  0  0  0  0  0]\n",
            " [ 0  0  0 44  0  0  0  0  1  0]\n",
            " [ 0  0  0  0 38  0  0  0  0  0]\n",
            " [ 0  0  0  0  0 47  0  0  0  1]\n",
            " [ 0  0  0  0  0  0 52  0  0  0]\n",
            " [ 0  0  0  0  0  0  0 48  0  0]\n",
            " [ 0  1  0  0  0  0  0  0 47  0]\n",
            " [ 0  0  0  0  0  1  0  0  0 46]]\n",
            "              precision    recall  f1-score   support\n",
            "\n",
            "           0       1.00      1.00      1.00        37\n",
            "           1       0.98      1.00      0.99        43\n",
            "           2       1.00      1.00      1.00        44\n",
            "           3       1.00      0.98      0.99        45\n",
            "           4       1.00      1.00      1.00        38\n",
            "           5       0.98      0.98      0.98        48\n",
            "           6       1.00      1.00      1.00        52\n",
            "           7       1.00      1.00      1.00        48\n",
            "           8       0.98      0.98      0.98        48\n",
            "           9       0.98      0.98      0.98        47\n",
            "\n",
            "    accuracy                           0.99       450\n",
            "   macro avg       0.99      0.99      0.99       450\n",
            "weighted avg       0.99      0.99      0.99       450\n",
            "\n"
          ]
        }
      ]
    },
    {
      "cell_type": "markdown",
      "source": [
        "Mostrar los números de prueba, con la clasificación del SVM en un label."
      ],
      "metadata": {
        "id": "1amQ0q19avDZ"
      }
    },
    {
      "cell_type": "code",
      "source": [
        "fig, axes = plt.subplots(10,10, figsize=(14,14))\n",
        "for x in range(10):\n",
        "    for y in range(10):\n",
        "        axes[x][y].set_xticks([])\n",
        "        axes[x][y].set_yticks([])\n",
        "        image = X_test[(5*x)+y].reshape(8, 8)\n",
        "        axes[x][y].imshow(image)\n",
        "        axes[x][y].set_xlabel(y_pred[(5*x)+y])\n"
      ],
      "metadata": {
        "colab": {
          "base_uri": "https://localhost:8080/",
          "height": 806
        },
        "id": "MecqCkmVQjnS",
        "outputId": "acd28dff-699c-4575-c5ce-d0225506609b"
      },
      "execution_count": null,
      "outputs": [
        {
          "output_type": "display_data",
          "data": {
            "text/plain": [
              "<Figure size 1008x1008 with 100 Axes>"
            ],
            "image/png": "[encoded data removed]"
          },
          "metadata": {}
        }
      ]
    },
    {
      "cell_type": "markdown",
      "source": [
        "**Experimento 1:** Vamos a ver qué pasa cuando tomamos un conjunto de datos más pequeño para entrenar.\n",
        "\n",
        "Cuando se toma el 5% de los datos para entrenar, entonces el puntaje del clasificador es de 87%, es decir, mientras se disminuye este número disminuye la precisión, además, que el tiempo de ejecución aumenta ligeramente."
      ],
      "metadata": {
        "id": "PuNsqrj1FlNi"
      }
    },
    {
      "cell_type": "code",
      "source": [
        " X_train, X_test, y_train, y_test = train_test_split(digits.data, digits.target,\n",
        "        test_size=0.95, random_state=0)\n",
        " clf = svm.SVC(kernel=\"rbf\")\n",
        " clf.fit(X_train, y_train)\n",
        " print(clf.score(X_test, y_test))\n",
        " y_pred = clf.predict(X_test)\n",
        "\n",
        "from sklearn.metrics import classification_report, confusion_matrix, ConfusionMatrixDisplay\n",
        "print(confusion_matrix(y_test, y_pred))\n",
        "print(classification_report(y_test, y_pred))\n",
        "\n",
        "fig, axes = plt.subplots(10,10, figsize=(14,14))\n",
        "for x in range(10):\n",
        "    for y in range(10):\n",
        "        axes[x][y].set_xticks([])\n",
        "        axes[x][y].set_yticks([])\n",
        "        image = X_test[(5*x)+y].reshape(8, 8)\n",
        "        axes[x][y].imshow(image)\n",
        "        axes[x][y].set_xlabel(y_pred[(5*x)+y])"
      ],
      "metadata": {
        "id": "4-OEpqSEQlSj",
        "colab": {
          "base_uri": "https://localhost:8080/",
          "height": 1000
        },
        "outputId": "54724b21-9fab-4d0f-d0d0-7dbb29b83b65"
      },
      "execution_count": null,
      "outputs": [
        {
          "output_type": "stream",
          "name": "stdout",
          "text": [
            "0.870023419203747\n",
            "[[166   0   0   0   2   5   0   0   0   0]\n",
            " [  0 132  15   2   2   1   0   0   0  22]\n",
            " [  0   1 164   1   0   0   0   0   0   0]\n",
            " [  0   0   2 161   0   2   0   6   2   0]\n",
            " [  0   0   0   0 163   1   0   4   0   0]\n",
            " [  0   1   0   0   1 166   1   0   0   2]\n",
            " [  0   4   0   0   1   0 167   0   0   0]\n",
            " [  0   1   1   0   0   5   0 163   0   0]\n",
            " [  0  19  13  13   2   6   1   4 102   8]\n",
            " [  0   0   0  48   0  14   0   8   1 102]]\n",
            "              precision    recall  f1-score   support\n",
            "\n",
            "           0       1.00      0.96      0.98       173\n",
            "           1       0.84      0.76      0.80       174\n",
            "           2       0.84      0.99      0.91       166\n",
            "           3       0.72      0.93      0.81       173\n",
            "           4       0.95      0.97      0.96       168\n",
            "           5       0.83      0.97      0.89       171\n",
            "           6       0.99      0.97      0.98       172\n",
            "           7       0.88      0.96      0.92       170\n",
            "           8       0.97      0.61      0.75       168\n",
            "           9       0.76      0.59      0.66       173\n",
            "\n",
            "    accuracy                           0.87      1708\n",
            "   macro avg       0.88      0.87      0.87      1708\n",
            "weighted avg       0.88      0.87      0.87      1708\n",
            "\n"
          ]
        },
        {
          "output_type": "display_data",
          "data": {
            "text/plain": [
              "<Figure size 1008x1008 with 100 Axes>"
            ],
            "image/png": "[encoded data removed]"
          },
          "metadata": {}
        }
      ]
    },
    {
      "cell_type": "markdown",
      "source": [
        "En cambio, cuando toma el 95% de los datos de la prueba, la precisión de la predicción es de casi 100% (La máquina toma el 99.999...% periódico como 100%)."
      ],
      "metadata": {
        "id": "FsxqVXodIMqG"
      }
    },
    {
      "cell_type": "code",
      "source": [
        " X_train, X_test, y_train, y_test = train_test_split(digits.data, digits.target,\n",
        "        test_size=0.05, random_state=0)\n",
        " clf = svm.SVC(kernel=\"rbf\")\n",
        " clf.fit(X_train, y_train)\n",
        " print(clf.score(X_test, y_test))\n",
        " y_pred = clf.predict(X_test)\n",
        "\n",
        "from sklearn.metrics import classification_report, confusion_matrix, ConfusionMatrixDisplay\n",
        "print(confusion_matrix(y_test, y_pred))\n",
        "print(classification_report(y_test, y_pred))\n",
        "\n",
        "fig, axes = plt.subplots(10,10, figsize=(14,14))\n",
        "for x in range(10):\n",
        "    for y in range(10):\n",
        "        axes[x][y].set_xticks([])\n",
        "        axes[x][y].set_yticks([])\n",
        "        image = X_test[(5*x)+y].reshape(8, 8)\n",
        "        axes[x][y].imshow(image)\n",
        "        axes[x][y].set_xlabel(y_pred[(5*x)+y])"
      ],
      "metadata": {
        "colab": {
          "base_uri": "https://localhost:8080/",
          "height": 1000
        },
        "id": "4G90HUSoIMdG",
        "outputId": "c18512a1-fb93-4259-d8d8-60f6de8d1e7d"
      },
      "execution_count": null,
      "outputs": [
        {
          "output_type": "stream",
          "name": "stdout",
          "text": [
            "1.0\n",
            "[[ 7  0  0  0  0  0  0  0  0  0]\n",
            " [ 0 11  0  0  0  0  0  0  0  0]\n",
            " [ 0  0 12  0  0  0  0  0  0  0]\n",
            " [ 0  0  0  6  0  0  0  0  0  0]\n",
            " [ 0  0  0  0  5  0  0  0  0  0]\n",
            " [ 0  0  0  0  0  7  0  0  0  0]\n",
            " [ 0  0  0  0  0  0 13  0  0  0]\n",
            " [ 0  0  0  0  0  0  0 10  0  0]\n",
            " [ 0  0  0  0  0  0  0  0 10  0]\n",
            " [ 0  0  0  0  0  0  0  0  0  9]]\n",
            "              precision    recall  f1-score   support\n",
            "\n",
            "           0       1.00      1.00      1.00         7\n",
            "           1       1.00      1.00      1.00        11\n",
            "           2       1.00      1.00      1.00        12\n",
            "           3       1.00      1.00      1.00         6\n",
            "           4       1.00      1.00      1.00         5\n",
            "           5       1.00      1.00      1.00         7\n",
            "           6       1.00      1.00      1.00        13\n",
            "           7       1.00      1.00      1.00        10\n",
            "           8       1.00      1.00      1.00        10\n",
            "           9       1.00      1.00      1.00         9\n",
            "\n",
            "    accuracy                           1.00        90\n",
            "   macro avg       1.00      1.00      1.00        90\n",
            "weighted avg       1.00      1.00      1.00        90\n",
            "\n"
          ]
        },
        {
          "output_type": "display_data",
          "data": {
            "text/plain": [
              "<Figure size 1008x1008 with 100 Axes>"
            ],
            "image/png": "[encoded data removed]"
          },
          "metadata": {}
        }
      ]
    },
    {
      "cell_type": "markdown",
      "source": [
        "**Experimento 2:** Intentamos tomar otros kernel para probar la precisión de la predicción.\n",
        "\n",
        "Si bien, todas tienen una precisión que ronda el 90-100%, tenemos que:\n",
        "\n",
        "1.   Gaussiano: 99.1%\n",
        "2.   Polinomial: 98.8%\n",
        "3.   Lineal: 97.7%\n",
        "4.   Sigmoid: 90.89%\n",
        "\n",
        "La diferencia de porcentajes, puede marcar la diferencia. \n",
        "\n"
      ],
      "metadata": {
        "id": "lQAuZ-6zIlEt"
      }
    },
    {
      "cell_type": "code",
      "source": [
        " X_train, X_test, y_train, y_test = train_test_split(digits.data, digits.target,\n",
        "        test_size=0.25, random_state=0)\n",
        " clf = svm.SVC(kernel=\"poly\")\n",
        " clf.fit(X_train, y_train)\n",
        " print(clf.score(X_test, y_test))\n",
        " y_pred = clf.predict(X_test)\n",
        "\n",
        "from sklearn.metrics import classification_report, confusion_matrix, ConfusionMatrixDisplay\n",
        "print(confusion_matrix(y_test, y_pred))\n",
        "print(classification_report(y_test, y_pred))\n",
        "\n",
        "fig, axes = plt.subplots(10,10, figsize=(14,14))\n",
        "for x in range(10):\n",
        "    for y in range(10):\n",
        "        axes[x][y].set_xticks([])\n",
        "        axes[x][y].set_yticks([])\n",
        "        image = X_test[(5*x)+y].reshape(8, 8)\n",
        "        axes[x][y].imshow(image)\n",
        "        axes[x][y].set_xlabel(y_pred[(5*x)+y])"
      ],
      "metadata": {
        "colab": {
          "base_uri": "https://localhost:8080/",
          "height": 1000
        },
        "id": "OPISLSymIuYG",
        "outputId": "01bee249-d0d5-43eb-fd4f-966624eea032"
      },
      "execution_count": null,
      "outputs": [
        {
          "output_type": "stream",
          "name": "stdout",
          "text": [
            "0.9888888888888889\n",
            "[[37  0  0  0  0  0  0  0  0  0]\n",
            " [ 0 43  0  0  0  0  0  0  0  0]\n",
            " [ 0  0 44  0  0  0  0  0  0  0]\n",
            " [ 0  0  1 44  0  0  0  0  0  0]\n",
            " [ 0  0  0  0 38  0  0  0  0  0]\n",
            " [ 0  0  0  0  0 47  0  0  0  1]\n",
            " [ 0  1  0  0  0  0 51  0  0  0]\n",
            " [ 0  0  0  0  0  0  0 48  0  0]\n",
            " [ 0  1  0  0  0  0  0  0 47  0]\n",
            " [ 0  0  0  0  0  1  0  0  0 46]]\n",
            "              precision    recall  f1-score   support\n",
            "\n",
            "           0       1.00      1.00      1.00        37\n",
            "           1       0.96      1.00      0.98        43\n",
            "           2       0.98      1.00      0.99        44\n",
            "           3       1.00      0.98      0.99        45\n",
            "           4       1.00      1.00      1.00        38\n",
            "           5       0.98      0.98      0.98        48\n",
            "           6       1.00      0.98      0.99        52\n",
            "           7       1.00      1.00      1.00        48\n",
            "           8       1.00      0.98      0.99        48\n",
            "           9       0.98      0.98      0.98        47\n",
            "\n",
            "    accuracy                           0.99       450\n",
            "   macro avg       0.99      0.99      0.99       450\n",
            "weighted avg       0.99      0.99      0.99       450\n",
            "\n"
          ]
        },
        {
          "output_type": "display_data",
          "data": {
            "text/plain": [
              "<Figure size 1008x1008 with 100 Axes>"
            ],
            "image/png": "[encoded data removed]"
          },
          "metadata": {}
        }
      ]
    },
    {
      "cell_type": "code",
      "source": [
        " X_train, X_test, y_train, y_test = train_test_split(digits.data, digits.target,\n",
        "        test_size=0.25, random_state=0)\n",
        " clf = svm.SVC(kernel=\"rbf\")\n",
        " clf.fit(X_train, y_train)\n",
        " print(clf.score(X_test, y_test))\n",
        " y_pred = clf.predict(X_test)\n",
        "\n",
        "from sklearn.metrics import classification_report, confusion_matrix, ConfusionMatrixDisplay\n",
        "print(confusion_matrix(y_test, y_pred))\n",
        "print(classification_report(y_test, y_pred))\n",
        "\n",
        "fig, axes = plt.subplots(10,10, figsize=(14,14))\n",
        "for x in range(10):\n",
        "    for y in range(10):\n",
        "        axes[x][y].set_xticks([])\n",
        "        axes[x][y].set_yticks([])\n",
        "        image = X_test[(5*x)+y].reshape(8, 8)\n",
        "        axes[x][y].imshow(image)\n",
        "        axes[x][y].set_xlabel(y_pred[(5*x)+y])"
      ],
      "metadata": {
        "colab": {
          "base_uri": "https://localhost:8080/",
          "height": 1000
        },
        "id": "VQF3ywFGJTD2",
        "outputId": "4f936f51-976a-4bdc-a106-8876cce3753a"
      },
      "execution_count": null,
      "outputs": [
        {
          "output_type": "stream",
          "name": "stdout",
          "text": [
            "0.9911111111111112\n",
            "[[37  0  0  0  0  0  0  0  0  0]\n",
            " [ 0 43  0  0  0  0  0  0  0  0]\n",
            " [ 0  0 44  0  0  0  0  0  0  0]\n",
            " [ 0  0  0 44  0  0  0  0  1  0]\n",
            " [ 0  0  0  0 38  0  0  0  0  0]\n",
            " [ 0  0  0  0  0 47  0  0  0  1]\n",
            " [ 0  0  0  0  0  0 52  0  0  0]\n",
            " [ 0  0  0  0  0  0  0 48  0  0]\n",
            " [ 0  1  0  0  0  0  0  0 47  0]\n",
            " [ 0  0  0  0  0  1  0  0  0 46]]\n",
            "              precision    recall  f1-score   support\n",
            "\n",
            "           0       1.00      1.00      1.00        37\n",
            "           1       0.98      1.00      0.99        43\n",
            "           2       1.00      1.00      1.00        44\n",
            "           3       1.00      0.98      0.99        45\n",
            "           4       1.00      1.00      1.00        38\n",
            "           5       0.98      0.98      0.98        48\n",
            "           6       1.00      1.00      1.00        52\n",
            "           7       1.00      1.00      1.00        48\n",
            "           8       0.98      0.98      0.98        48\n",
            "           9       0.98      0.98      0.98        47\n",
            "\n",
            "    accuracy                           0.99       450\n",
            "   macro avg       0.99      0.99      0.99       450\n",
            "weighted avg       0.99      0.99      0.99       450\n",
            "\n"
          ]
        },
        {
          "output_type": "display_data",
          "data": {
            "text/plain": [
              "<Figure size 1008x1008 with 100 Axes>"
            ],
            "image/png": "[encoded data removed]"
          },
          "metadata": {}
        }
      ]
    },
    {
      "cell_type": "code",
      "source": [
        " X_train, X_test, y_train, y_test = train_test_split(digits.data, digits.target,\n",
        "        test_size=0.25, random_state=0)\n",
        " clf = svm.SVC(kernel=\"linear\")\n",
        " clf.fit(X_train, y_train)\n",
        " print(clf.score(X_test, y_test))\n",
        " y_pred = clf.predict(X_test)\n",
        "\n",
        "from sklearn.metrics import classification_report, confusion_matrix, ConfusionMatrixDisplay\n",
        "print(confusion_matrix(y_test, y_pred))\n",
        "print(classification_report(y_test, y_pred))\n",
        "\n",
        "fig, axes = plt.subplots(10,10, figsize=(14,14))\n",
        "for x in range(10):\n",
        "    for y in range(10):\n",
        "        axes[x][y].set_xticks([])\n",
        "        axes[x][y].set_yticks([])\n",
        "        image = X_test[(5*x)+y].reshape(8, 8)\n",
        "        axes[x][y].imshow(image)\n",
        "        axes[x][y].set_xlabel(y_pred[(5*x)+y])"
      ],
      "metadata": {
        "colab": {
          "base_uri": "https://localhost:8080/",
          "height": 1000
        },
        "id": "dFxe8fs0JVR4",
        "outputId": "281358c3-e111-4324-c9a2-0c5ae1d193b4"
      },
      "execution_count": null,
      "outputs": [
        {
          "output_type": "stream",
          "name": "stdout",
          "text": [
            "0.9711111111111111\n",
            "[[37  0  0  0  0  0  0  0  0  0]\n",
            " [ 0 42  0  0  0  0  0  0  1  0]\n",
            " [ 0  0 44  0  0  0  0  0  0  0]\n",
            " [ 0  0  0 43  0  0  0  0  1  1]\n",
            " [ 0  0  0  0 38  0  0  0  0  0]\n",
            " [ 0  0  0  0  0 47  0  0  0  1]\n",
            " [ 0  1  0  0  0  0 51  0  0  0]\n",
            " [ 0  0  0  0  1  0  0 47  0  0]\n",
            " [ 0  3  1  0  0  0  0  0 44  0]\n",
            " [ 0  0  0  1  0  1  0  0  1 44]]\n",
            "              precision    recall  f1-score   support\n",
            "\n",
            "           0       1.00      1.00      1.00        37\n",
            "           1       0.91      0.98      0.94        43\n",
            "           2       0.98      1.00      0.99        44\n",
            "           3       0.98      0.96      0.97        45\n",
            "           4       0.97      1.00      0.99        38\n",
            "           5       0.98      0.98      0.98        48\n",
            "           6       1.00      0.98      0.99        52\n",
            "           7       1.00      0.98      0.99        48\n",
            "           8       0.94      0.92      0.93        48\n",
            "           9       0.96      0.94      0.95        47\n",
            "\n",
            "    accuracy                           0.97       450\n",
            "   macro avg       0.97      0.97      0.97       450\n",
            "weighted avg       0.97      0.97      0.97       450\n",
            "\n"
          ]
        },
        {
          "output_type": "display_data",
          "data": {
            "text/plain": [
              "<Figure size 1008x1008 with 100 Axes>"
            ],
            "image/png": "[encoded data removed]"
          },
          "metadata": {}
        }
      ]
    },
    {
      "cell_type": "code",
      "source": [
        " X_train, X_test, y_train, y_test = train_test_split(digits.data, digits.target,\n",
        "        test_size=0.25, random_state=0)\n",
        " clf = svm.SVC(kernel=\"sigmoid\")\n",
        " clf.fit(X_train, y_train)\n",
        " print(clf.score(X_test, y_test))\n",
        " y_pred = clf.predict(X_test)\n",
        "\n",
        "from sklearn.metrics import classification_report, confusion_matrix, ConfusionMatrixDisplay\n",
        "print(confusion_matrix(y_test, y_pred))\n",
        "print(classification_report(y_test, y_pred))\n",
        "\n",
        "fig, axes = plt.subplots(10,10, figsize=(14,14))\n",
        "for x in range(10):\n",
        "    for y in range(10):\n",
        "        axes[x][y].set_xticks([])\n",
        "        axes[x][y].set_yticks([])\n",
        "        image = X_test[(5*x)+y].reshape(8, 8)\n",
        "        axes[x][y].imshow(image)\n",
        "        axes[x][y].set_xlabel(y_pred[(5*x)+y])"
      ],
      "metadata": {
        "colab": {
          "base_uri": "https://localhost:8080/",
          "height": 1000
        },
        "id": "4RU8YUqPJXj9",
        "outputId": "527ca5a2-b3b2-41c3-b0ba-1000063a4d70"
      },
      "execution_count": null,
      "outputs": [
        {
          "output_type": "stream",
          "name": "stdout",
          "text": [
            "0.9088888888888889\n",
            "[[37  0  0  0  0  0  0  0  0  0]\n",
            " [ 0 35  0  0  1  0  2  3  1  1]\n",
            " [ 0  3 41  0  0  0  0  0  0  0]\n",
            " [ 0  1  0 40  0  0  0  0  3  1]\n",
            " [ 0  1  0  0 36  0  0  1  0  0]\n",
            " [ 0  0  0  0  0 47  0  0  0  1]\n",
            " [ 0  1  0  0  2  0 49  0  0  0]\n",
            " [ 1  3  0  0  0  0  0 44  0  0]\n",
            " [ 0  6  0  0  0  1  0  0 38  3]\n",
            " [ 1  0  0  0  0  1  0  2  1 42]]\n",
            "              precision    recall  f1-score   support\n",
            "\n",
            "           0       0.95      1.00      0.97        37\n",
            "           1       0.70      0.81      0.75        43\n",
            "           2       1.00      0.93      0.96        44\n",
            "           3       1.00      0.89      0.94        45\n",
            "           4       0.92      0.95      0.94        38\n",
            "           5       0.96      0.98      0.97        48\n",
            "           6       0.96      0.94      0.95        52\n",
            "           7       0.88      0.92      0.90        48\n",
            "           8       0.88      0.79      0.84        48\n",
            "           9       0.88      0.89      0.88        47\n",
            "\n",
            "    accuracy                           0.91       450\n",
            "   macro avg       0.91      0.91      0.91       450\n",
            "weighted avg       0.91      0.91      0.91       450\n",
            "\n"
          ]
        },
        {
          "output_type": "display_data",
          "data": {
            "text/plain": [
              "<Figure size 1008x1008 with 100 Axes>"
            ],
            "image/png": "[encoded data removed]"
          },
          "metadata": {}
        }
      ]
    },
    {
      "cell_type": "markdown",
      "source": [
        "Observe que al disminuir los datos de entrenamiento con el kernel Sigmoid, se hace una predicción bastante regular, sólo un 51% de aciertos. Por lo tanto, este kernel no es tan adecuado para trabajar estos problemas."
      ],
      "metadata": {
        "id": "gWJ99TyUKWkd"
      }
    },
    {
      "cell_type": "code",
      "source": [
        " X_train, X_test, y_train, y_test = train_test_split(digits.data, digits.target,\n",
        "        test_size=0.90, random_state=0)\n",
        " clf = svm.SVC(kernel=\"sigmoid\")\n",
        " clf.fit(X_train, y_train)\n",
        " print(clf.score(X_test, y_test))\n",
        " y_pred = clf.predict(X_test)\n",
        "\n",
        "from sklearn.metrics import classification_report, confusion_matrix, ConfusionMatrixDisplay\n",
        "print(confusion_matrix(y_test, y_pred))\n",
        "print(classification_report(y_test, y_pred))\n",
        "\n",
        "fig, axes = plt.subplots(10,10, figsize=(14,14))\n",
        "for x in range(10):\n",
        "    for y in range(10):\n",
        "        axes[x][y].set_xticks([])\n",
        "        axes[x][y].set_yticks([])\n",
        "        image = X_test[(5*x)+y].reshape(8, 8)\n",
        "        axes[x][y].imshow(image)\n",
        "        axes[x][y].set_xlabel(y_pred[(5*x)+y])"
      ],
      "metadata": {
        "colab": {
          "base_uri": "https://localhost:8080/",
          "height": 1000
        },
        "id": "ELudzeEgKT0W",
        "outputId": "6833ca30-6fd5-4832-8251-6e8639703480"
      },
      "execution_count": null,
      "outputs": [
        {
          "output_type": "stream",
          "name": "stdout",
          "text": [
            "0.7669962917181706\n",
            "[[159   0   0   0   2   0   0   0   0   0]\n",
            " [  0 110  17   0   0   3   0   0   0  33]\n",
            " [  0   6 146   3   0   0   0   1   0   3]\n",
            " [  2   5   9  68   0   6   0   6   0  72]\n",
            " [  1   4   0   0 149   0   0   5   0   0]\n",
            " [  0   0   0   0   1 154   1   0   0   5]\n",
            " [  3   4   0   0   6   0 153   0   0   0]\n",
            " [  0   1   0   0   1   5   0 151   0   1]\n",
            " [  0  47  25   0   1  12   5  11   0  60]\n",
            " [  0   0   0   0   0   3   0   7   0 151]]\n",
            "              precision    recall  f1-score   support\n",
            "\n",
            "           0       0.96      0.99      0.98       161\n",
            "           1       0.62      0.67      0.65       163\n",
            "           2       0.74      0.92      0.82       159\n",
            "           3       0.96      0.40      0.57       168\n",
            "           4       0.93      0.94      0.93       159\n",
            "           5       0.84      0.96      0.90       161\n",
            "           6       0.96      0.92      0.94       166\n",
            "           7       0.83      0.95      0.89       159\n",
            "           8       0.00      0.00      0.00       161\n",
            "           9       0.46      0.94      0.62       161\n",
            "\n",
            "    accuracy                           0.77      1618\n",
            "   macro avg       0.73      0.77      0.73      1618\n",
            "weighted avg       0.73      0.77      0.73      1618\n",
            "\n"
          ]
        },
        {
          "output_type": "stream",
          "name": "stderr",
          "text": [
            "/usr/local/lib/python3.8/dist-packages/sklearn/metrics/_classification.py:1318: UndefinedMetricWarning:\n",
            "\n",
            "Precision and F-score are ill-defined and being set to 0.0 in labels with no predicted samples. Use `zero_division` parameter to control this behavior.\n",
            "\n",
            "/usr/local/lib/python3.8/dist-packages/sklearn/metrics/_classification.py:1318: UndefinedMetricWarning:\n",
            "\n",
            "Precision and F-score are ill-defined and being set to 0.0 in labels with no predicted samples. Use `zero_division` parameter to control this behavior.\n",
            "\n",
            "/usr/local/lib/python3.8/dist-packages/sklearn/metrics/_classification.py:1318: UndefinedMetricWarning:\n",
            "\n",
            "Precision and F-score are ill-defined and being set to 0.0 in labels with no predicted samples. Use `zero_division` parameter to control this behavior.\n",
            "\n"
          ]
        },
        {
          "output_type": "display_data",
          "data": {
            "text/plain": [
              "<Figure size 1008x1008 with 100 Axes>"
            ],
            "image/png": "[encoded data removed]"
          },
          "metadata": {}
        }
      ]
    },
    {
      "cell_type": "markdown",
      "source": [
        "En cambio, con el Kernel Gaussiano, aunque se disminuyan los datos de entrenamiento, se sigue dando una muy buena predicción. Por lo tanto, este es un buen kernel para trabajar este problema."
      ],
      "metadata": {
        "id": "s843fji4K2pe"
      }
    },
    {
      "cell_type": "code",
      "source": [
        " X_train, X_test, y_train, y_test = train_test_split(digits.data, digits.target,\n",
        "        test_size=0.90, random_state=0)\n",
        " clf = svm.SVC(kernel=\"rbf\")\n",
        " clf.fit(X_train, y_train)\n",
        " print(clf.score(X_test, y_test))\n",
        " y_pred = clf.predict(X_test)\n",
        "\n",
        "from sklearn.metrics import classification_report, confusion_matrix, ConfusionMatrixDisplay\n",
        "print(confusion_matrix(y_test, y_pred))\n",
        "print(classification_report(y_test, y_pred))\n",
        "\n",
        "fig, axes = plt.subplots(10,10, figsize=(14,14))\n",
        "for x in range(10):\n",
        "    for y in range(10):\n",
        "        axes[x][y].set_xticks([])\n",
        "        axes[x][y].set_yticks([])\n",
        "        image = X_test[(5*x)+y].reshape(8, 8)\n",
        "        axes[x][y].imshow(image)\n",
        "        axes[x][y].set_xlabel(y_pred[(5*x)+y])"
      ],
      "metadata": {
        "colab": {
          "base_uri": "https://localhost:8080/",
          "height": 1000
        },
        "id": "6w_bVjzBK3Yl",
        "outputId": "66aa1d15-375f-4e59-db68-7ff912fef80f"
      },
      "execution_count": null,
      "outputs": [
        {
          "output_type": "stream",
          "name": "stdout",
          "text": [
            "0.9419035846724351\n",
            "[[160   0   0   0   1   0   0   0   0   0]\n",
            " [  0 149   3   0   0   1   0   0   0  10]\n",
            " [  0   1 157   1   0   0   0   0   0   0]\n",
            " [  0   0   0 155   0   2   0   4   4   3]\n",
            " [  0   0   0   0 155   0   0   2   2   0]\n",
            " [  0   1   0   0   1 155   1   0   0   3]\n",
            " [  0   2   0   0   0   0 164   0   0   0]\n",
            " [  0   0   0   0   0   1   0 155   1   2]\n",
            " [  0  15   1   0   1   4   2   2 121  15]\n",
            " [  0   0   0   1   0   2   0   4   1 153]]\n",
            "              precision    recall  f1-score   support\n",
            "\n",
            "           0       1.00      0.99      1.00       161\n",
            "           1       0.89      0.91      0.90       163\n",
            "           2       0.98      0.99      0.98       159\n",
            "           3       0.99      0.92      0.95       168\n",
            "           4       0.98      0.97      0.98       159\n",
            "           5       0.94      0.96      0.95       161\n",
            "           6       0.98      0.99      0.98       166\n",
            "           7       0.93      0.97      0.95       159\n",
            "           8       0.94      0.75      0.83       161\n",
            "           9       0.82      0.95      0.88       161\n",
            "\n",
            "    accuracy                           0.94      1618\n",
            "   macro avg       0.94      0.94      0.94      1618\n",
            "weighted avg       0.94      0.94      0.94      1618\n",
            "\n"
          ]
        },
        {
          "output_type": "display_data",
          "data": {
            "text/plain": [
              "<Figure size 1008x1008 with 100 Axes>"
            ],
            "image/png": "[encoded data removed]"
          },
          "metadata": {}
        }
      ]
    },
    {
      "cell_type": "markdown",
      "source": [
        "# Caso de Aplicación 2: Clasificación de correos SPAM"
      ],
      "metadata": {
        "id": "XiamP5dc4uZL"
      }
    },
    {
      "cell_type": "code",
      "source": [
        "import re\n",
        "import numpy as np\n",
        "from nltk.stem import PorterStemmer\n",
        "import scipy.io as sio"
      ],
      "metadata": {
        "id": "X7SXBZJn4sBg"
      },
      "execution_count": null,
      "outputs": []
    },
    {
      "cell_type": "markdown",
      "source": [
        "Para este cuaderno, utilizaremos el vocabulario (el cual es una lista que asocia algunas palabras con números) y el dataset de correso de Andrew Ng utilizado en el curso de coursera \"Unsupervised Learning, Recommenders, Reinforcement Learning\"."
      ],
      "metadata": {
        "id": "LRG8D7VZ5U9A"
      }
    },
    {
      "cell_type": "code",
      "source": [
        "ejem_1 = open(\"ejemcorreo.txt\",\"r\").read()\n",
        "vocabList = open(\"vocabulario.txt\",\"r\").read()"
      ],
      "metadata": {
        "id": "UnCsUdEw5YUx"
      },
      "execution_count": null,
      "outputs": []
    },
    {
      "cell_type": "markdown",
      "source": [
        "Los elementos de **vocabList** son de la forma."
      ],
      "metadata": {
        "id": "mk93watk5vd7"
      }
    },
    {
      "cell_type": "code",
      "source": [
        "vocabList"
      ],
      "metadata": {
        "colab": {
          "base_uri": "https://localhost:8080/",
          "height": 139
        },
        "id": "QErTeHyb50HJ",
        "outputId": "106d2c86-bbd5-43f7-9668-41821a74c1a5"
      },
      "execution_count": null,
      "outputs": [
        {
          "output_type": "execute_result",
          "data": {
            "text/plain": [
              "'1\\taa\\n2\\tab\\n3\\tabil\\n4\\tabl\\n5\\tabout\\n6\\tabov\\n7\\tabsolut\\n8\\tabus\\n9\\tac\\n10\\taccept\\n11\\taccess\\n12\\taccord\\n13\\taccount\\n14\\tachiev\\n15\\tacquir\\n16\\tacross\\n17\\tact\\n18\\taction\\n19\\tactiv\\n20\\tactual\\n21\\tad\\n22\\tadam\\n23\\tadd\\n24\\taddit\\n25\\taddress\\n26\\tadministr\\n27\\tadult\\n28\\tadvanc\\n29\\tadvantag\\n30\\tadvertis\\n31\\tadvic\\n32\\tadvis\\n33\\tae\\n34\\taf\\n35\\taffect\\n36\\taffili\\n37\\tafford\\n38\\tafrica\\n39\\tafter\\n40\\tag\\n41\\tagain\\n42\\tagainst\\n43\\tagenc\\n44\\tagent\\n45\\tago\\n46\\tagre\\n47\\tagreement\\n48\\taid\\n49\\tair\\n50\\tal\\n51\\talb\\n52\\talign\\n53\\tall\\n54\\tallow\\n55\\talmost\\n56\\talon\\n57\\talong\\n58\\talreadi\\n59\\talsa\\n60\\talso\\n61\\taltern\\n62\\talthough\\n63\\talwai\\n64\\tam\\n65\\tamaz\\n66\\tamerica\\n67\\tamerican\\n68\\tamong\\n69\\tamount\\n70\\tamp\\n71\\tan\\n72\\tanalysi\\n73\\tanalyst\\n74\\tand\\n75\\tani\\n76\\tanim\\n77\\tannounc\\n78\\tannual\\n79\\tannuiti\\n80\\tanoth\\n81\\tanswer\\n82\\tanti\\n83\\tanumb\\n84\\tanybodi\\n85\\tanymor\\n86\\tanyon\\n87\\tanyth\\n88\\tanywai\\n89\\tanywher\\n90\\taol\\n91\\tap\\n92\\tapolog\\n93\\tapp\\n94\\tappar\\n95\\tappear\\n96\\tappl\\n97\\tappli\\n98\\tapplic\\n99\\tappreci\\n100\\tapproach\\n101\\tapprov\\n102\\tapt\\n103\\tar\\n104\\tarchiv\\n105\\tarea\\n106\\taren\\n107\\targument\\n108\\tarial\\n109\\tarm\\n110\\taround\\n111\\tarrai\\n112\\tarriv\\n113\\tart\\n114\\tarticl\\n115\\tartist\\n116\\tas\\n117\\tascii\\n118\\task\\n119\\tasset\\n120\\tassist\\n121\\tassoci\\n122\\tassum\\n123\\tassur\\n124\\tat\\n125\\tatol\\n126\\tattach\\n127\\tattack\\n128\\tattempt\\n129\\tattent\\n130\\tattornei\\n131\\tattract\\n132\\taudio\\n133\\taug\\n134\\taugust\\n135\\tauthor\\n136\\tauto\\n137\\tautom\\n138\\tautomat\\n139\\tavail\\n140\\taverag\\n141\\tavoid\\n142\\tawai\\n143\\tawar\\n144\\taward\\n145\\tba\\n146\\tbabi\\n147\\tback\\n148\\tbackground\\n149\\tbackup\\n150\\tbad\\n151\\tbalanc\\n152\\tban\\n153\\tbank\\n154\\tbar\\n155\\tbase\\n156\\tbasenumb\\n157\\tbasi\\n158\\tbasic\\n159\\tbb\\n160\\tbc\\n161\\tbd\\n162\\tbe\\n163\\tbeat\\n164\\tbeberg\\n165\\tbecaus\\n166\\tbecom\\n167\\tbeen\\n168\\tbefor\\n169\\tbegin\\n170\\tbehalf\\n171\\tbehavior\\n172\\tbehind\\n173\\tbeliev\\n174\\tbelow\\n175\\tbenefit\\n176\\tbest\\n177\\tbeta\\n178\\tbetter\\n179\\tbetween\\n180\\tbf\\n181\\tbig\\n182\\tbill\\n183\\tbillion\\n184\\tbin\\n185\\tbinari\\n186\\tbit\\n187\\tblack\\n188\\tblank\\n189\\tblock\\n190\\tblog\\n191\\tblood\\n192\\tblue\\n193\\tbnumber\\n194\\tboard\\n195\\tbodi\\n196\\tboi\\n197\\tbonu\\n198\\tbook\\n199\\tboot\\n200\\tborder\\n201\\tboss\\n202\\tboston\\n203\\tbotan\\n204\\tboth\\n205\\tbottl\\n206\\tbottom\\n207\\tboundari\\n208\\tbox\\n209\\tbrain\\n210\\tbrand\\n211\\tbreak\\n212\\tbrian\\n213\\tbring\\n214\\tbroadcast\\n215\\tbroker\\n216\\tbrowser\\n217\\tbug\\n218\\tbui\\n219\\tbuild\\n220\\tbuilt\\n221\\tbulk\\n222\\tburn\\n223\\tbush\\n224\\tbusi\\n225\\tbut\\n226\\tbutton\\n227\\tby\\n228\\tbyte\\n229\\tca\\n230\\tcabl\\n231\\tcach\\n232\\tcalcul\\n233\\tcalifornia\\n234\\tcall\\n235\\tcame\\n236\\tcamera\\n237\\tcampaign\\n238\\tcan\\n239\\tcanada\\n240\\tcannot\\n241\\tcanon\\n242\\tcapabl\\n243\\tcapillari\\n244\\tcapit\\n245\\tcar\\n246\\tcard\\n247\\tcare\\n248\\tcareer\\n249\\tcarri\\n250\\tcartridg\\n251\\tcase\\n252\\tcash\\n253\\tcat\\n254\\tcatch\\n255\\tcategori\\n256\\tcaus\\n257\\tcb\\n258\\tcc\\n259\\tcd\\n260\\tce\\n261\\tcell\\n262\\tcent\\n263\\tcenter\\n264\\tcentral\\n265\\tcenturi\\n266\\tceo\\n267\\tcertain\\n268\\tcertainli\\n269\\tcf\\n270\\tchalleng\\n271\\tchanc\\n272\\tchang\\n273\\tchannel\\n274\\tchar\\n275\\tcharact\\n276\\tcharg\\n277\\tcharset\\n278\\tchat\\n279\\tcheap\\n280\\tcheck\\n281\\tcheer\\n282\\tchief\\n283\\tchildren\\n284\\tchina\\n285\\tchip\\n286\\tchoic\\n287\\tchoos\\n288\\tchri\\n289\\tciti\\n290\\tcitizen\\n291\\tcivil\\n292\\tclaim\\n293\\tclass\\n294\\tclassifi\\n295\\tclean\\n296\\tclear\\n297\\tclearli\\n298\\tclick\\n299\\tclient\\n300\\tclose\\n301\\tclue\\n302\\tcnet\\n303\\tcnumber\\n304\\tco\\n305\\tcode\\n306\\tcollect\\n307\\tcolleg\\n308\\tcolor\\n309\\tcom\\n310\\tcombin\\n311\\tcome\\n312\\tcomfort\\n313\\tcommand\\n314\\tcomment\\n315\\tcommentari\\n316\\tcommerci\\n317\\tcommiss\\n318\\tcommit\\n319\\tcommon\\n320\\tcommun\\n321\\tcompani\\n322\\tcompar\\n323\\tcomparison\\n324\\tcompat\\n325\\tcompet\\n326\\tcompetit\\n327\\tcompil\\n328\\tcomplet\\n329\\tcomprehens\\n330\\tcomput\\n331\\tconcentr\\n332\\tconcept\\n333\\tconcern\\n334\\tcondit\\n335\\tconf\\n336\\tconfer\\n337\\tconfid\\n338\\tconfidenti\\n339\\tconfig\\n340\\tconfigur\\n341\\tconfirm\\n342\\tconflict\\n343\\tconfus\\n344\\tcongress\\n345\\tconnect\\n346\\tconsid\\n347\\tconsolid\\n348\\tconstitut\\n349\\tconstruct\\n350\\tconsult\\n351\\tconsum\\n352\\tcontact\\n353\\tcontain\\n354\\tcontent\\n355\\tcontinu\\n356\\tcontract\\n357\\tcontribut\\n358\\tcontrol\\n359\\tconveni\\n360\\tconvers\\n361\\tconvert\\n362\\tcool\\n363\\tcooper\\n364\\tcopi\\n365\\tcopyright\\n366\\tcore\\n367\\tcorpor\\n368\\tcorrect\\n369\\tcorrespond\\n370\\tcost\\n371\\tcould\\n372\\tcouldn\\n373\\tcount\\n374\\tcountri\\n375\\tcoupl\\n376\\tcours\\n377\\tcourt\\n378\\tcover\\n379\\tcoverag\\n380\\tcrash\\n381\\tcreat\\n382\\tcreativ\\n383\\tcredit\\n384\\tcritic\\n385\\tcross\\n386\\tcultur\\n387\\tcurrent\\n388\\tcustom\\n389\\tcut\\n390\\tcv\\n391\\tda\\n392\\tdagga\\n393\\tdai\\n394\\tdaili\\n395\\tdan\\n396\\tdanger\\n397\\tdark\\n398\\tdata\\n399\\tdatabas\\n400\\tdatapow\\n401\\tdate\\n402\\tdave\\n403\\tdavid\\n404\\tdc\\n405\\tde\\n406\\tdead\\n407\\tdeal\\n408\\tdear\\n409\\tdeath\\n410\\tdebt\\n411\\tdecad\\n412\\tdecid\\n413\\tdecis\\n414\\tdeclar\\n415\\tdeclin\\n416\\tdecor\\n417\\tdefault\\n418\\tdefend\\n419\\tdefens\\n420\\tdefin\\n421\\tdefinit\\n422\\tdegre\\n423\\tdelai\\n424\\tdelet\\n425\\tdeliv\\n426\\tdeliveri\\n427\\tdell\\n428\\tdemand\\n429\\tdemocrat\\n430\\tdepart\\n431\\tdepend\\n432\\tdeposit\\n433\\tdescrib\\n434\\tdescript\\n435\\tdeserv\\n436\\tdesign\\n437\\tdesir\\n438\\tdesktop\\n439\\tdespit\\n440\\tdetail\\n441\\tdetect\\n442\\tdetermin\\n443\\tdev\\n444\\tdevel\\n445\\tdevelop\\n446\\tdevic\\n447\\tdi\\n448\\tdial\\n449\\tdid\\n450\\tdidn\\n451\\tdiet\\n452\\tdiffer\\n453\\tdifficult\\n454\\tdigit\\n455\\tdirect\\n456\\tdirectli\\n457\\tdirector\\n458\\tdirectori\\n459\\tdisabl\\n460\\tdiscount\\n461\\tdiscov\\n462\\tdiscoveri\\n463\\tdiscuss\\n464\\tdisk\\n465\\tdisplai\\n466\\tdisposit\\n467\\tdistanc\\n468\\tdistribut\\n469\\tdn\\n470\\tdnumber\\n471\\tdo\\n472\\tdoc\\n473\\tdocument\\n474\\tdoe\\n475\\tdoer\\n476\\tdoesn\\n477\\tdollar\\n478\\tdollarac\\n479\\tdollarnumb\\n480\\tdomain\\n481\\tdon\\n482\\tdone\\n483\\tdont\\n484\\tdoubl\\n485\\tdoubt\\n486\\tdown\\n487\\tdownload\\n488\\tdr\\n489\\tdraw\\n490\\tdream\\n491\\tdrive\\n492\\tdriver\\n493\\tdrop\\n494\\tdrug\\n495\\tdue\\n496\\tdure\\n497\\tdvd\\n498\\tdw\\n499\\tdynam\\n500\\tea\\n501\\teach\\n502\\tearli\\n503\\tearlier\\n504\\tearn\\n505\\tearth\\n506\\teasi\\n507\\teasier\\n508\\teasili\\n509\\teat\\n510\\teb\\n511\\tebai\\n512\\tec\\n513\\techo\\n514\\teconom\\n515\\teconomi\\n516\\ted\\n517\\tedg\\n518\\tedit\\n519\\teditor\\n520\\teduc\\n521\\teff\\n522\\teffect\\n523\\teffici\\n524\\teffort\\n525\\teither\\n526\\tel\\n527\\telectron\\n528\\telimin\\n529\\tels\\n530\\temail\\n531\\temailaddr\\n532\\temerg\\n533\\tempir\\n534\\temploy\\n535\\temploye\\n536\\ten\\n537\\tenabl\\n538\\tencod\\n539\\tencourag\\n540\\tend\\n541\\tenemi\\n542\\tenenkio\\n543\\tenergi\\n544\\tengin\\n545\\tenglish\\n546\\tenhanc\\n547\\tenjoi\\n548\\tenough\\n549\\tensur\\n550\\tenter\\n551\\tenterpris\\n552\\tentertain\\n553\\tentir\\n554\\tentri\\n555\\tenumb\\n556\\tenviron\\n557\\tequal\\n558\\tequip\\n559\\tequival\\n560\\terror\\n561\\tespeci\\n562\\tessenti\\n563\\testablish\\n564\\testat\\n565\\testim\\n566\\tet\\n567\\tetc\\n568\\teuro\\n569\\teurop\\n570\\teuropean\\n571\\teven\\n572\\tevent\\n573\\teventu\\n574\\tever\\n575\\teveri\\n576\\teveryon\\n577\\teveryth\\n578\\tevid\\n579\\tevil\\n580\\texactli\\n581\\texampl\\n582\\texcel\\n583\\texcept\\n584\\texchang\\n585\\texcit\\n586\\texclus\\n587\\texecut\\n588\\texercis\\n589\\texist\\n590\\texmh\\n591\\texpand\\n592\\texpect\\n593\\texpens\\n594\\texperi\\n595\\texpert\\n596\\texpir\\n597\\texplain\\n598\\texplor\\n599\\texpress\\n600\\textend\\n601\\textens\\n602\\textra\\n603\\textract\\n604\\textrem\\n605\\tey\\n606\\tfa\\n607\\tface\\n608\\tfact\\n609\\tfactor\\n610\\tfail\\n611\\tfair\\n612\\tfall\\n613\\tfals\\n614\\tfamili\\n615\\tfaq\\n616\\tfar\\n617\\tfast\\n618\\tfaster\\n619\\tfastest\\n620\\tfat\\n621\\tfather\\n622\\tfavorit\\n623\\tfax\\n624\\tfb\\n625\\tfd\\n626\\tfeatur\\n627\\tfeder\\n628\\tfee\\n629\\tfeed\\n630\\tfeedback\\n631\\tfeel\\n632\\tfemal\\n633\\tfew\\n634\\tffffff\\n635\\tffnumber\\n636\\tfield\\n637\\tfight\\n638\\tfigur\\n639\\tfile\\n640\\tfill\\n641\\tfilm\\n642\\tfilter\\n643\\tfinal\\n644\\tfinanc\\n645\\tfinanci\\n646\\tfind\\n647\\tfine\\n648\\tfinish\\n649\\tfire\\n650\\tfirewal\\n651\\tfirm\\n652\\tfirst\\n653\\tfit\\n654\\tfive\\n655\\tfix\\n656\\tflag\\n657\\tflash\\n658\\tflow\\n659\\tfnumber\\n660\\tfocu\\n661\\tfolder\\n662\\tfolk\\n663\\tfollow\\n664\\tfont\\n665\\tfood\\n666\\tfor\\n667\\tforc\\n668\\tforeign\\n669\\tforev\\n670\\tforget\\n671\\tfork\\n672\\tform\\n673\\tformat\\n674\\tformer\\n675\\tfortun\\n676\\tforward\\n677\\tfound\\n678\\tfoundat\\n679\\tfour\\n680\\tfranc\\n681\\tfree\\n682\\tfreedom\\n683\\tfrench\\n684\\tfreshrpm\\n685\\tfri\\n686\\tfridai\\n687\\tfriend\\n688\\tfrom\\n689\\tfront\\n690\\tftoc\\n691\\tftp\\n692\\tfull\\n693\\tfulli\\n694\\tfun\\n695\\tfunction\\n696\\tfund\\n697\\tfurther\\n698\\tfutur\\n699\\tga\\n700\\tgain\\n701\\tgame\\n702\\tgari\\n703\\tgarrigu\\n704\\tgave\\n705\\tgcc\\n706\\tgeek\\n707\\tgener\\n708\\tget\\n709\\tgif\\n710\\tgift\\n711\\tgirl\\n712\\tgive\\n713\\tgiven\\n714\\tglobal\\n715\\tgnome\\n716\\tgnu\\n717\\tgnupg\\n718\\tgo\\n719\\tgoal\\n720\\tgod\\n721\\tgoe\\n722\\tgold\\n723\\tgone\\n724\\tgood\\n725\\tgoogl\\n726\\tgot\\n727\\tgovern\\n728\\tgpl\\n729\\tgrand\\n730\\tgrant\\n731\\tgraphic\\n732\\tgreat\\n733\\tgreater\\n734\\tground\\n735\\tgroup\\n736\\tgrow\\n737\\tgrowth\\n738\\tgt\\n739\\tguarante\\n740\\tguess\\n741\\tgui\\n742\\tguid\\n743\\tha\\n744\\thack\\n745\\thad\\n746\\thalf\\n747\\tham\\n748\\thand\\n749\\thandl\\n750\\thappen\\n751\\thappi\\n752\\thard\\n753\\thardwar\\n754\\that\\n755\\thate\\n756\\thave\\n757\\thaven\\n758\\the\\n759\\thead\\n760\\theader\\n761\\theadlin\\n762\\thealth\\n763\\thear\\n764\\theard\\n765\\theart\\n766\\theaven\\n767\\thei\\n768\\theight\\n769\\theld\\n770\\thello\\n771\\thelp\\n772\\thelvetica\\n773\\ther\\n774\\therba\\n775\\there\\n776\\thermio\\n777\\thettinga\\n778\\thi\\n779\\thigh\\n780\\thigher\\n781\\thighli\\n782\\thighlight\\n783\\thim\\n784\\thistori\\n785\\thit\\n786\\thold\\n787\\thome\\n788\\thonor\\n789\\thope\\n790\\thost\\n791\\thot\\n792\\thour\\n793\\thous\\n794\\thow\\n795\\thowev\\n796\\thp\\n797\\thtml\\n798\\thttp\\n799\\thttpaddr\\n800\\thuge\\n801\\thuman\\n802\\thundr\\n803\\tibm\\n804\\tid\\n805\\tidea\\n806\\tident\\n807\\tidentifi\\n808\\tidnumb\\n809\\tie\\n810\\tif\\n811\\tignor\\n812\\tii\\n813\\tiii\\n814\\tiiiiiiihnumberjnumberhnumberjnumberhnumb\\n815\\tilleg\\n816\\tim\\n817\\timag\\n818\\timagin\\n819\\timmedi\\n820\\timpact\\n821\\timplement\\n822\\timport\\n823\\timpress\\n824\\timprov\\n825\\tin\\n826\\tinc\\n827\\tinclud\\n828\\tincom\\n829\\tincreas\\n830\\tincred\\n831\\tinde\\n832\\tindepend\\n833\\tindex\\n834\\tindia\\n835\\tindian\\n836\\tindic\\n837\\tindividu\\n838\\tindustri\\n839\\tinfo\\n840\\tinform\\n841\\tiniti\\n842\\tinlin\\n843\\tinnov\\n844\\tinput\\n845\\tinsert\\n846\\tinsid\\n847\\tinstal\\n848\\tinstanc\\n849\\tinstant\\n850\\tinstead\\n851\\tinstitut\\n852\\tinstruct\\n853\\tinsur\\n854\\tint\\n855\\tintegr\\n856\\tintel\\n857\\tintellig\\n858\\tintend\\n859\\tinteract\\n860\\tinterest\\n861\\tinterfac\\n862\\tintern\\n863\\tinternet\\n864\\tinterview\\n865\\tinto\\n866\\tintro\\n867\\tintroduc\\n868\\tinumb\\n869\\tinvest\\n870\\tinvestig\\n871\\tinvestor\\n872\\tinvok\\n873\\tinvolv\\n874\\tip\\n875\\tireland\\n876\\tirish\\n877\\tis\\n878\\tisland\\n879\\tisn\\n880\\tiso\\n881\\tisp\\n882\\tissu\\n883\\tit\\n884\\titem\\n885\\titself\\n886\\tjabber\\n887\\tjame\\n888\\tjava\\n889\\tjim\\n890\\tjnumberiiiiiiihepihepihf\\n891\\tjob\\n892\\tjoe\\n893\\tjohn\\n894\\tjoin\\n895\\tjournal\\n896\\tjudg\\n897\\tjudgment\\n898\\tjul\\n899\\tjuli\\n900\\tjump\\n901\\tjune\\n902\\tjust\\n903\\tjustin\\n904\\tkeep\\n905\\tkei\\n906\\tkept\\n907\\tkernel\\n908\\tkevin\\n909\\tkeyboard\\n910\\tkid\\n911\\tkill\\n912\\tkind\\n913\\tking\\n914\\tkingdom\\n915\\tknew\\n916\\tknow\\n917\\tknowledg\\n918\\tknown\\n919\\tla\\n920\\tlack\\n921\\tland\\n922\\tlanguag\\n923\\tlaptop\\n924\\tlarg\\n925\\tlarger\\n926\\tlargest\\n927\\tlaser\\n928\\tlast\\n929\\tlate\\n930\\tlater\\n931\\tlatest\\n932\\tlaunch\\n933\\tlaw\\n934\\tlawrenc\\n935\\tle\\n936\\tlead\\n937\\tleader\\n938\\tlearn\\n939\\tleast\\n940\\tleav\\n941\\tleft\\n942\\tlegal\\n943\\tlender\\n944\\tlength\\n945\\tless\\n946\\tlesson\\n947\\tlet\\n948\\tletter\\n949\\tlevel\\n950\\tlib\\n951\\tlibrari\\n952\\tlicens\\n953\\tlife\\n954\\tlifetim\\n955\\tlight\\n956\\tlike\\n957\\tlimit\\n958\\tline\\n959\\tlink\\n960\\tlinux\\n961\\tlist\\n962\\tlisten\\n963\\tlittl\\n964\\tlive\\n965\\tll\\n966\\tlo\\n967\\tload\\n968\\tloan\\n969\\tlocal\\n970\\tlocat\\n971\\tlock\\n972\\tlockergnom\\n973\\tlog\\n974\\tlong\\n975\\tlonger\\n976\\tlook\\n977\\tlose\\n978\\tloss\\n979\\tlost\\n980\\tlot\\n981\\tlove\\n982\\tlow\\n983\\tlower\\n984\\tlowest\\n985\\tlt\\n986\\tma\\n987\\tmac\\n988\\tmachin\\n989\\tmade\\n990\\tmagazin\\n991\\tmai\\n992\\tmail\\n993\\tmailer\\n994\\tmain\\n995\\tmaintain\\n996\\tmajor\\n997\\tmake\\n998\\tmaker\\n999\\tmale\\n1000\\tman\\n1001\\tmanag\\n1002\\tmani\\n1003\\tmanual\\n1004\\tmanufactur\\n1005\\tmap\\n1006\\tmarch\\n1007\\tmargin\\n1008\\tmark\\n1009\\tmarket\\n1010\\tmarshal\\n1011\\tmass\\n1012\\tmaster\\n1013\\tmatch\\n1014\\tmateri\\n1015\\tmatter\\n1016\\tmatthia\\n1017\\tmayb\\n1018\\tme\\n1019\\tmean\\n1020\\tmeasur\\n1021\\tmechan\\n1022\\tmedia\\n1023\\tmedic\\n1024\\tmeet\\n1025\\tmember\\n1026\\tmembership\\n1027\\tmemori\\n1028\\tmen\\n1029\\tmention\\n1030\\tmenu\\n1031\\tmerchant\\n1032\\tmessag\\n1033\\tmethod\\n1034\\tmh\\n1035\\tmichael\\n1036\\tmicrosoft\\n1037\\tmiddl\\n1038\\tmight\\n1039\\tmike\\n1040\\tmile\\n1041\\tmilitari\\n1042\\tmillion\\n1043\\tmime\\n1044\\tmind\\n1045\\tmine\\n1046\\tmini\\n1047\\tminimum\\n1048\\tminut\\n1049\\tmiss\\n1050\\tmistak\\n1051\\tmobil\\n1052\\tmode\\n1053\\tmodel\\n1054\\tmodem\\n1055\\tmodifi\\n1056\\tmodul\\n1057\\tmoment\\n1058\\tmon\\n1059\\tmondai\\n1060\\tmonei\\n1061\\tmonitor\\n1062\\tmonth\\n1063\\tmonthli\\n1064\\tmore\\n1065\\tmorn\\n1066\\tmortgag\\n1067\\tmost\\n1068\\tmostli\\n1069\\tmother\\n1070\\tmotiv\\n1071\\tmove\\n1072\\tmovi\\n1073\\tmpnumber\\n1074\\tmr\\n1075\\tms\\n1076\\tmsg\\n1077\\tmuch\\n1078\\tmulti\\n1079\\tmultipart\\n1080\\tmultipl\\n1081\\tmurphi\\n1082\\tmusic\\n1083\\tmust\\n1084\\tmy\\n1085\\tmyself\\n1086\\tname\\n1087\\tnation\\n1088\\tnatur\\n1089\\tnbsp\\n1090\\tnear\\n1091\\tnearli\\n1092\\tnecessari\\n1093\\tneed\\n1094\\tneg\\n1095\\tnet\\n1096\\tnetscap\\n1097\\tnetwork\\n1098\\tnever\\n1099\\tnew\\n1100\\tnewslett\\n1101\\tnext\\n1102\\tnextpart\\n1103\\tnice\\n1104\\tnigeria\\n1105\\tnight\\n1106\\tno\\n1107\\tnobodi\\n1108\\tnon\\n1109\\tnone\\n1110\\tnor\\n1111\\tnormal\\n1112\\tnorth\\n1113\\tnot\\n1114\\tnote\\n1115\\tnoth\\n1116\\tnotic\\n1117\\tnow\\n1118\\tnt\\n1119\\tnull\\n1120\\tnumber\\n1121\\tnumbera\\n1122\\tnumberam\\n1123\\tnumberanumb\\n1124\\tnumberb\\n1125\\tnumberbit\\n1126\\tnumberc\\n1127\\tnumbercb\\n1128\\tnumbercbr\\n1129\\tnumbercfont\\n1130\\tnumbercli\\n1131\\tnumbercnumb\\n1132\\tnumbercp\\n1133\\tnumberctd\\n1134\\tnumberd\\n1135\\tnumberdari\\n1136\\tnumberdnumb\\n1137\\tnumberenumb\\n1138\\tnumberf\\n1139\\tnumberfb\\n1140\\tnumberff\\n1141\\tnumberffont\\n1142\\tnumberfp\\n1143\\tnumberftd\\n1144\\tnumberk\\n1145\\tnumberm\\n1146\\tnumbermb\\n1147\\tnumberp\\n1148\\tnumberpd\\n1149\\tnumberpm\\n1150\\tnumberpx\\n1151\\tnumberst\\n1152\\tnumberth\\n1153\\tnumbertnumb\\n1154\\tnumberx\\n1155\\tobject\\n1156\\toblig\\n1157\\tobtain\\n1158\\tobvious\\n1159\\toccur\\n1160\\toct\\n1161\\toctob\\n1162\\tof\\n1163\\toff\\n1164\\toffer\\n1165\\toffic\\n1166\\toffici\\n1167\\toften\\n1168\\toh\\n1169\\tok\\n1170\\told\\n1171\\ton\\n1172\\tonc\\n1173\\tonli\\n1174\\tonlin\\n1175\\topen\\n1176\\toper\\n1177\\topinion\\n1178\\topportun\\n1179\\topt\\n1180\\toptim\\n1181\\toption\\n1182\\tor\\n1183\\torder\\n1184\\torg\\n1185\\torgan\\n1186\\torigin\\n1187\\tos\\n1188\\tosdn\\n1189\\tother\\n1190\\totherwis\\n1191\\tour\\n1192\\tout\\n1193\\toutlook\\n1194\\toutput\\n1195\\toutsid\\n1196\\tover\\n1197\\town\\n1198\\towner\\n1199\\toz\\n1200\\tpacif\\n1201\\tpack\\n1202\\tpackag\\n1203\\tpage\\n1204\\tpai\\n1205\\tpaid\\n1206\\tpain\\n1207\\tpalm\\n1208\\tpanel\\n1209\\tpaper\\n1210\\tparagraph\\n1211\\tparent\\n1212\\tpart\\n1213\\tparti\\n1214\\tparticip\\n1215\\tparticular\\n1216\\tparticularli\\n1217\\tpartit\\n1218\\tpartner\\n1219\\tpass\\n1220\\tpassword\\n1221\\tpast\\n1222\\tpatch\\n1223\\tpatent\\n1224\\tpath\\n1225\\tpattern\\n1226\\tpaul\\n1227\\tpayment\\n1228\\tpc\\n1229\\tpeac\\n1230\\tpeopl\\n1231\\tper\\n1232\\tpercent\\n1233\\tpercentag\\n1234\\tperfect\\n1235\\tperfectli\\n1236\\tperform\\n1237\\tperhap\\n1238\\tperiod\\n1239\\tperl\\n1240\\tperman\\n1241\\tpermiss\\n1242\\tperson\\n1243\\tpgp\\n1244\\tphone\\n1245\\tphoto\\n1246\\tphp\\n1247\\tphrase\\n1248\\tphysic\\n1249\\tpick\\n1250\\tpictur\\n1251\\tpiec\\n1252\\tpiiiiiiii\\n1253\\tpipe\\n1254\\tpjnumber\\n1255\\tplace\\n1256\\tplai\\n1257\\tplain\\n1258\\tplan\\n1259\\tplanet\\n1260\\tplant\\n1261\\tplanta\\n1262\\tplatform\\n1263\\tplayer\\n1264\\tpleas\\n1265\\tplu\\n1266\\tplug\\n1267\\tpm\\n1268\\tpocket\\n1269\\tpoint\\n1270\\tpolic\\n1271\\tpolici\\n1272\\tpolit\\n1273\\tpoor\\n1274\\tpop\\n1275\\tpopul\\n1276\\tpopular\\n1277\\tport\\n1278\\tposit\\n1279\\tpossibl\\n1280\\tpost\\n1281\\tpotenti\\n1282\\tpound\\n1283\\tpowel\\n1284\\tpower\\n1285\\tpowershot\\n1286\\tpractic\\n1287\\tpre\\n1288\\tpredict\\n1289\\tprefer\\n1290\\tpremium\\n1291\\tprepar\\n1292\\tpresent\\n1293\\tpresid\\n1294\\tpress\\n1295\\tpretti\\n1296\\tprevent\\n1297\\tpreviou\\n1298\\tprevious\\n1299\\tprice\\n1300\\tprincipl\\n1301\\tprint\\n1302\\tprintabl\\n1303\\tprinter\\n1304\\tprivaci\\n1305\\tprivat\\n1306\\tprize\\n1307\\tpro\\n1308\\tprobabl\\n1309\\tproblem\\n1310\\tprocedur\\n1311\\tprocess\\n1312\\tprocessor\\n1313\\tprocmail\\n1314\\tproduc\\n1315\\tproduct\\n1316\\tprofession\\n1317\\tprofil\\n1318\\tprofit\\n1319\\tprogram\\n1320\\tprogramm\\n1321\\tprogress\\n1322\\tproject\\n1323\\tpromis\\n1324\\tpromot\\n1325\\tprompt\\n1326\\tproperti\\n1327\\tpropos\\n1328\\tproprietari\\n1329\\tprospect\\n1330\\tprotect\\n1331\\tprotocol\\n1332\\tprove\\n1333\\tproven\\n1334\\tprovid\\n1335\\tproxi\\n1336\\tpub\\n1337\\tpublic\\n1338\\tpublish\\n1339\\tpudg\\n1340\\tpull\\n1341\\tpurchas\\n1342\\tpurpos\\n1343\\tput\\n1344\\tpython\\n1345\\tqnumber\\n1346\\tqualifi\\n1347\\tqualiti\\n1348\\tquarter\\n1349\\tquestion\\n1350\\tquick\\n1351\\tquickli\\n1352\\tquit\\n1353\\tquot\\n1354\\tradio\\n1355\\tragga\\n1356\\trais\\n1357\\trandom\\n1358\\trang\\n1359\\trate\\n1360\\trather\\n1361\\tratio\\n1362\\trazor\\n1363\\trazornumb\\n1364\\tre\\n1365\\treach\\n1366\\tread\\n1367\\treader\\n1368\\treadi\\n1369\\treal\\n1370\\trealiz\\n1371\\trealli\\n1372\\treason\\n1373\\treceiv\\n1374\\trecent\\n1375\\trecipi\\n1376\\trecommend\\n1377\\trecord\\n1378\\tred\\n1379\\tredhat\\n1380\\treduc\\n1381\\trefer\\n1382\\trefin\\n1383\\treg\\n1384\\tregard\\n1385\\tregion\\n1386\\tregist\\n1387\\tregul\\n1388\\tregular\\n1389\\trel\\n1390\\trelat\\n1391\\trelationship\\n1392\\treleas\\n1393\\trelev\\n1394\\treliabl\\n1395\\tremain\\n1396\\trememb\\n1397\\tremot\\n1398\\tremov\\n1399\\treplac\\n1400\\trepli\\n1401\\treport\\n1402\\trepositori\\n1403\\trepres\\n1404\\trepubl\\n1405\\trequest\\n1406\\trequir\\n1407\\tresearch\\n1408\\treserv\\n1409\\tresid\\n1410\\tresourc\\n1411\\trespect\\n1412\\trespond\\n1413\\trespons\\n1414\\trest\\n1415\\tresult\\n1416\\tretail\\n1417\\treturn\\n1418\\treveal\\n1419\\trevenu\\n1420\\trevers\\n1421\\treview\\n1422\\trevok\\n1423\\trh\\n1424\\trich\\n1425\\tright\\n1426\\trisk\\n1427\\troad\\n1428\\trobert\\n1429\\trock\\n1430\\trole\\n1431\\troll\\n1432\\trom\\n1433\\troman\\n1434\\troom\\n1435\\troot\\n1436\\tround\\n1437\\trpm\\n1438\\trss\\n1439\\trule\\n1440\\trun\\n1441\\tsa\\n1442\\tsafe\\n1443\\tsai\\n1444\\tsaid\\n1445\\tsale\\n1446\\tsame\\n1447\\tsampl\\n1448\\tsan\\n1449\\tsaou\\n1450\\tsat\\n1451\\tsatellit\\n1452\\tsave\\n1453\\tsaw\\n1454\\tscan\\n1455\\tschedul\\n1456\\tschool\\n1457\\tscienc\\n1458\\tscore\\n1459\\tscreen\\n1460\\tscript\\n1461\\tse\\n1462\\tsearch\\n1463\\tseason\\n1464\\tsecond\\n1465\\tsecret\\n1466\\tsection\\n1467\\tsecur\\n1468\\tsee\\n1469\\tseed\\n1470\\tseek\\n1471\\tseem\\n1472\\tseen\\n1473\\tselect\\n1474\\tself\\n1475\\tsell\\n1476\\tseminar\\n1477\\tsend\\n1478\\tsender\\n1479\\tsendmail\\n1480\\tsenior\\n1481\\tsens\\n1482\\tsensit\\n1483\\tsent\\n1484\\tsep\\n1485\\tsepar\\n1486\\tseptemb\\n1487\\tsequenc\\n1488\\tseri\\n1489\\tserif\\n1490\\tseriou\\n1491\\tserv\\n1492\\tserver\\n1493\\tservic\\n1494\\tset\\n1495\\tsetup\\n1496\\tseven\\n1497\\tseventh\\n1498\\tsever\\n1499\\tsex\\n1500\\tsexual\\n1501\\tsf\\n1502\\tshape\\n1503\\tshare\\n1504\\tshe\\n1505\\tshell\\n1506\\tship\\n1507\\tshop\\n1508\\tshort\\n1509\\tshot\\n1510\\tshould\\n1511\\tshow\\n1512\\tside\\n1513\\tsign\\n1514\\tsignatur\\n1515\\tsignific\\n1516\\tsimilar\\n1517\\tsimpl\\n1518\\tsimpli\\n1519\\tsinc\\n1520\\tsincer\\n1521\\tsingl\\n1522\\tsit\\n1523\\tsite\\n1524\\tsituat\\n1525\\tsix\\n1526\\tsize\\n1527\\tskeptic\\n1528\\tskill\\n1529\\tskin\\n1530\\tskip\\n1531\\tsleep\\n1532\\tslow\\n1533\\tsmall\\n1534\\tsmart\\n1535\\tsmoke\\n1536\\tsmtp\\n1537\\tsnumber\\n1538\\tso\\n1539\\tsocial\\n1540\\tsocieti\\n1541\\tsoftwar\\n1542\\tsold\\n1543\\tsolut\\n1544\\tsolv\\n1545\\tsome\\n1546\\tsomeon\\n1547\\tsometh\\n1548\\tsometim\\n1549\\tson\\n1550\\tsong\\n1551\\tsoni\\n1552\\tsoon\\n1553\\tsorri\\n1554\\tsort\\n1555\\tsound\\n1556\\tsourc\\n1557\\tsouth\\n1558\\tspace\\n1559\\tspain\\n1560\\tspam\\n1561\\tspamassassin\\n1562\\tspamd\\n1563\\tspammer\\n1564\\tspeak\\n1565\\tspec\\n1566\\tspecial\\n1567\\tspecif\\n1568\\tspecifi\\n1569\\tspeech\\n1570\\tspeed\\n1571\\tspend\\n1572\\tsponsor\\n1573\\tsport\\n1574\\tspot\\n1575\\tsrc\\n1576\\tssh\\n1577\\tst\\n1578\\tstabl\\n1579\\tstaff\\n1580\\tstai\\n1581\\tstand\\n1582\\tstandard\\n1583\\tstar\\n1584\\tstart\\n1585\\tstate\\n1586\\tstatement\\n1587\\tstatu\\n1588\\tstep\\n1589\\tsteve\\n1590\\tstill\\n1591\\tstock\\n1592\\tstop\\n1593\\tstorag\\n1594\\tstore\\n1595\\tstori\\n1596\\tstrategi\\n1597\\tstream\\n1598\\tstreet\\n1599\\tstring\\n1600\\tstrip\\n1601\\tstrong\\n1602\\tstructur\\n1603\\tstudi\\n1604\\tstuff\\n1605\\tstupid\\n1606\\tstyle\\n1607\\tsubject\\n1608\\tsubmit\\n1609\\tsubscrib\\n1610\\tsubscript\\n1611\\tsubstanti\\n1612\\tsuccess\\n1613\\tsuch\\n1614\\tsuffer\\n1615\\tsuggest\\n1616\\tsuit\\n1617\\tsum\\n1618\\tsummari\\n1619\\tsummer\\n1620\\tsun\\n1621\\tsuper\\n1622\\tsuppli\\n1623\\tsupport\\n1624\\tsuppos\\n1625\\tsure\\n1626\\tsurpris\\n1627\\tsuse\\n1628\\tsuspect\\n1629\\tsweet\\n1630\\tswitch\\n1631\\tsystem\\n1632\\ttab\\n1633\\ttabl\\n1634\\ttablet\\n1635\\ttag\\n1636\\ttake\\n1637\\ttaken\\n1638\\ttalk\\n1639\\ttape\\n1640\\ttarget\\n1641\\ttask\\n1642\\ttax\\n1643\\tteach\\n1644\\tteam\\n1645\\ttech\\n1646\\ttechnic\\n1647\\ttechniqu\\n1648\\ttechnolog\\n1649\\ttel\\n1650\\ttelecom\\n1651\\ttelephon\\n1652\\ttell\\n1653\\ttemperatur\\n1654\\ttempl\\n1655\\tten\\n1656\\tterm\\n1657\\ttermin\\n1658\\tterror\\n1659\\tterrorist\\n1660\\ttest\\n1661\\ttexa\\n1662\\ttext\\n1663\\tthan\\n1664\\tthank\\n1665\\tthat\\n1666\\tthe\\n1667\\tthei\\n1668\\ttheir\\n1669\\tthem\\n1670\\tthemselv\\n1671\\tthen\\n1672\\ttheori\\n1673\\tthere\\n1674\\ttherefor\\n1675\\tthese\\n1676\\tthi\\n1677\\tthing\\n1678\\tthink\\n1679\\tthinkgeek\\n1680\\tthird\\n1681\\tthose\\n1682\\tthough\\n1683\\tthought\\n1684\\tthousand\\n1685\\tthread\\n1686\\tthreat\\n1687\\tthree\\n1688\\tthrough\\n1689\\tthu\\n1690\\tthursdai\\n1691\\tti\\n1692\\tticket\\n1693\\ttim\\n1694\\ttime\\n1695\\ttip\\n1696\\ttire\\n1697\\ttitl\\n1698\\ttm\\n1699\\tto\\n1700\\ttodai\\n1701\\ttogeth\\n1702\\ttoken\\n1703\\ttold\\n1704\\ttoll\\n1705\\ttom\\n1706\\ttoner\\n1707\\ttoni\\n1708\\ttoo\\n1709\\ttook\\n1710\\ttool\\n1711\\ttop\\n1712\\ttopic\\n1713\\ttotal\\n1714\\ttouch\\n1715\\ttoward\\n1716\\ttrack\\n1717\\ttrade\\n1718\\ttradit\\n1719\\ttraffic\\n1720\\ttrain\\n1721\\ttransact\\n1722\\ttransfer\\n1723\\ttravel\\n1724\\ttreat\\n1725\\ttree\\n1726\\ttri\\n1727\\ttrial\\n1728\\ttrick\\n1729\\ttrip\\n1730\\ttroubl\\n1731\\ttrue\\n1732\\ttruli\\n1733\\ttrust\\n1734\\ttruth\\n1735\\ttry\\n1736\\ttue\\n1737\\ttuesdai\\n1738\\tturn\\n1739\\ttv\\n1740\\ttwo\\n1741\\ttype\\n1742\\tuk\\n1743\\tultim\\n1744\\tun\\n1745\\tunder\\n1746\\tunderstand\\n1747\\tunfortun\\n1748\\tuniqu\\n1749\\tunison\\n1750\\tunit\\n1751\\tunivers\\n1752\\tunix\\n1753\\tunless\\n1754\\tunlik\\n1755\\tunlimit\\n1756\\tunseen\\n1757\\tunsolicit\\n1758\\tunsubscrib\\n1759\\tuntil\\n1760\\tup\\n1761\\tupdat\\n1762\\tupgrad\\n1763\\tupon\\n1764\\turgent\\n1765\\turl\\n1766\\tus\\n1767\\tusa\\n1768\\tusag\\n1769\\tusb\\n1770\\tusd\\n1771\\tusdollarnumb\\n1772\\tuseless\\n1773\\tuser\\n1774\\tusr\\n1775\\tusual\\n1776\\tutil\\n1777\\tvacat\\n1778\\tvalid\\n1779\\tvalu\\n1780\\tvaluabl\\n1781\\tvar\\n1782\\tvariabl\\n1783\\tvarieti\\n1784\\tvariou\\n1785\\tve\\n1786\\tvendor\\n1787\\tventur\\n1788\\tveri\\n1789\\tverifi\\n1790\\tversion\\n1791\\tvia\\n1792\\tvideo\\n1793\\tview\\n1794\\tvirtual\\n1795\\tvisa\\n1796\\tvisit\\n1797\\tvisual\\n1798\\tvnumber\\n1799\\tvoic\\n1800\\tvote\\n1801\\tvs\\n1802\\tvulner\\n1803\\twa\\n1804\\twai\\n1805\\twait\\n1806\\twake\\n1807\\twalk\\n1808\\twall\\n1809\\twant\\n1810\\twar\\n1811\\twarm\\n1812\\twarn\\n1813\\twarranti\\n1814\\twashington\\n1815\\twasn\\n1816\\twast\\n1817\\twatch\\n1818\\twater\\n1819\\twe\\n1820\\twealth\\n1821\\tweapon\\n1822\\tweb\\n1823\\tweblog\\n1824\\twebsit\\n1825\\twed\\n1826\\twednesdai\\n1827\\tweek\\n1828\\tweekli\\n1829\\tweight\\n1830\\twelcom\\n1831\\twell\\n1832\\twent\\n1833\\twere\\n1834\\twest\\n1835\\twhat\\n1836\\twhatev\\n1837\\twhen\\n1838\\twhere\\n1839\\twhether\\n1840\\twhich\\n1841\\twhile\\n1842\\twhite\\n1843\\twhitelist\\n1844\\twho\\n1845\\twhole\\n1846\\twhose\\n1847\\twhy\\n1848\\twi\\n1849\\twide\\n1850\\twidth\\n1851\\twife\\n1852\\twill\\n1853\\twilliam\\n1854\\twin\\n1855\\twindow\\n1856\\twing\\n1857\\twinner\\n1858\\twireless\\n1859\\twish\\n1860\\twith\\n1861\\twithin\\n1862\\twithout\\n1863\\twnumberp\\n1864\\twoman\\n1865\\twomen\\n1866\\twon\\n1867\\twonder\\n1868\\tword\\n1869\\twork\\n1870\\tworker\\n1871\\tworld\\n1872\\tworldwid\\n1873\\tworri\\n1874\\tworst\\n1875\\tworth\\n1876\\twould\\n1877\\twouldn\\n1878\\twrite\\n1879\\twritten\\n1880\\twrong\\n1881\\twrote\\n1882\\twww\\n1883\\tximian\\n1884\\txml\\n1885\\txp\\n1886\\tyahoo\\n1887\\tye\\n1888\\tyeah\\n1889\\tyear\\n1890\\tyesterdai\\n1891\\tyet\\n1892\\tyork\\n1893\\tyou\\n1894\\tyoung\\n1895\\tyour\\n1896\\tyourself\\n1897\\tzdnet\\n1898\\tzero\\n1899\\tzip\\n'"
            ],
            "application/vnd.google.colaboratory.intrinsic+json": {
              "type": "string"
            }
          },
          "metadata": {},
          "execution_count": 21
        }
      ]
    },
    {
      "cell_type": "code",
      "source": [
        "vocabList = vocabList.split(\"\\n\")[:-1] #convierte a \\n en un espacio para la lista\n",
        "vocabList"
      ],
      "metadata": {
        "colab": {
          "base_uri": "https://localhost:8080/"
        },
        "id": "ua-qNz4G54uA",
        "outputId": "08147c3f-1974-4de2-8a19-282ec282ae48"
      },
      "execution_count": null,
      "outputs": [
        {
          "output_type": "execute_result",
          "data": {
            "text/plain": [
              "['1\\taa',\n",
              " '2\\tab',\n",
              " '3\\tabil',\n",
              " '4\\tabl',\n",
              " '5\\tabout',\n",
              " '6\\tabov',\n",
              " '7\\tabsolut',\n",
              " '8\\tabus',\n",
              " '9\\tac',\n",
              " '10\\taccept',\n",
              " '11\\taccess',\n",
              " '12\\taccord',\n",
              " '13\\taccount',\n",
              " '14\\tachiev',\n",
              " '15\\tacquir',\n",
              " '16\\tacross',\n",
              " '17\\tact',\n",
              " '18\\taction',\n",
              " '19\\tactiv',\n",
              " '20\\tactual',\n",
              " '21\\tad',\n",
              " '22\\tadam',\n",
              " '23\\tadd',\n",
              " '24\\taddit',\n",
              " '25\\taddress',\n",
              " '26\\tadministr',\n",
              " '27\\tadult',\n",
              " '28\\tadvanc',\n",
              " '29\\tadvantag',\n",
              " '30\\tadvertis',\n",
              " '31\\tadvic',\n",
              " '32\\tadvis',\n",
              " '33\\tae',\n",
              " '34\\taf',\n",
              " '35\\taffect',\n",
              " '36\\taffili',\n",
              " '37\\tafford',\n",
              " '38\\tafrica',\n",
              " '39\\tafter',\n",
              " '40\\tag',\n",
              " '41\\tagain',\n",
              " '42\\tagainst',\n",
              " '43\\tagenc',\n",
              " '44\\tagent',\n",
              " '45\\tago',\n",
              " '46\\tagre',\n",
              " '47\\tagreement',\n",
              " '48\\taid',\n",
              " '49\\tair',\n",
              " '50\\tal',\n",
              " '51\\talb',\n",
              " '52\\talign',\n",
              " '53\\tall',\n",
              " '54\\tallow',\n",
              " '55\\talmost',\n",
              " '56\\talon',\n",
              " '57\\talong',\n",
              " '58\\talreadi',\n",
              " '59\\talsa',\n",
              " '60\\talso',\n",
              " '61\\taltern',\n",
              " '62\\talthough',\n",
              " '63\\talwai',\n",
              " '64\\tam',\n",
              " '65\\tamaz',\n",
              " '66\\tamerica',\n",
              " '67\\tamerican',\n",
              " '68\\tamong',\n",
              " '69\\tamount',\n",
              " '70\\tamp',\n",
              " '71\\tan',\n",
              " '72\\tanalysi',\n",
              " '73\\tanalyst',\n",
              " '74\\tand',\n",
              " '75\\tani',\n",
              " '76\\tanim',\n",
              " '77\\tannounc',\n",
              " '78\\tannual',\n",
              " '79\\tannuiti',\n",
              " '80\\tanoth',\n",
              " '81\\tanswer',\n",
              " '82\\tanti',\n",
              " '83\\tanumb',\n",
              " '84\\tanybodi',\n",
              " '85\\tanymor',\n",
              " '86\\tanyon',\n",
              " '87\\tanyth',\n",
              " '88\\tanywai',\n",
              " '89\\tanywher',\n",
              " '90\\taol',\n",
              " '91\\tap',\n",
              " '92\\tapolog',\n",
              " '93\\tapp',\n",
              " '94\\tappar',\n",
              " '95\\tappear',\n",
              " '96\\tappl',\n",
              " '97\\tappli',\n",
              " '98\\tapplic',\n",
              " '99\\tappreci',\n",
              " '100\\tapproach',\n",
              " '101\\tapprov',\n",
              " '102\\tapt',\n",
              " '103\\tar',\n",
              " '104\\tarchiv',\n",
              " '105\\tarea',\n",
              " '106\\taren',\n",
              " '107\\targument',\n",
              " '108\\tarial',\n",
              " '109\\tarm',\n",
              " '110\\taround',\n",
              " '111\\tarrai',\n",
              " '112\\tarriv',\n",
              " '113\\tart',\n",
              " '114\\tarticl',\n",
              " '115\\tartist',\n",
              " '116\\tas',\n",
              " '117\\tascii',\n",
              " '118\\task',\n",
              " '119\\tasset',\n",
              " '120\\tassist',\n",
              " '121\\tassoci',\n",
              " '122\\tassum',\n",
              " '123\\tassur',\n",
              " '124\\tat',\n",
              " '125\\tatol',\n",
              " '126\\tattach',\n",
              " '127\\tattack',\n",
              " '128\\tattempt',\n",
              " '129\\tattent',\n",
              " '130\\tattornei',\n",
              " '131\\tattract',\n",
              " '132\\taudio',\n",
              " '133\\taug',\n",
              " '134\\taugust',\n",
              " '135\\tauthor',\n",
              " '136\\tauto',\n",
              " '137\\tautom',\n",
              " '138\\tautomat',\n",
              " '139\\tavail',\n",
              " '140\\taverag',\n",
              " '141\\tavoid',\n",
              " '142\\tawai',\n",
              " '143\\tawar',\n",
              " '144\\taward',\n",
              " '145\\tba',\n",
              " '146\\tbabi',\n",
              " '147\\tback',\n",
              " '148\\tbackground',\n",
              " '149\\tbackup',\n",
              " '150\\tbad',\n",
              " '151\\tbalanc',\n",
              " '152\\tban',\n",
              " '153\\tbank',\n",
              " '154\\tbar',\n",
              " '155\\tbase',\n",
              " '156\\tbasenumb',\n",
              " '157\\tbasi',\n",
              " '158\\tbasic',\n",
              " '159\\tbb',\n",
              " '160\\tbc',\n",
              " '161\\tbd',\n",
              " '162\\tbe',\n",
              " '163\\tbeat',\n",
              " '164\\tbeberg',\n",
              " '165\\tbecaus',\n",
              " '166\\tbecom',\n",
              " '167\\tbeen',\n",
              " '168\\tbefor',\n",
              " '169\\tbegin',\n",
              " '170\\tbehalf',\n",
              " '171\\tbehavior',\n",
              " '172\\tbehind',\n",
              " '173\\tbeliev',\n",
              " '174\\tbelow',\n",
              " '175\\tbenefit',\n",
              " '176\\tbest',\n",
              " '177\\tbeta',\n",
              " '178\\tbetter',\n",
              " '179\\tbetween',\n",
              " '180\\tbf',\n",
              " '181\\tbig',\n",
              " '182\\tbill',\n",
              " '183\\tbillion',\n",
              " '184\\tbin',\n",
              " '185\\tbinari',\n",
              " '186\\tbit',\n",
              " '187\\tblack',\n",
              " '188\\tblank',\n",
              " '189\\tblock',\n",
              " '190\\tblog',\n",
              " '191\\tblood',\n",
              " '192\\tblue',\n",
              " '193\\tbnumber',\n",
              " '194\\tboard',\n",
              " '195\\tbodi',\n",
              " '196\\tboi',\n",
              " '197\\tbonu',\n",
              " '198\\tbook',\n",
              " '199\\tboot',\n",
              " '200\\tborder',\n",
              " '201\\tboss',\n",
              " '202\\tboston',\n",
              " '203\\tbotan',\n",
              " '204\\tboth',\n",
              " '205\\tbottl',\n",
              " '206\\tbottom',\n",
              " '207\\tboundari',\n",
              " '208\\tbox',\n",
              " '209\\tbrain',\n",
              " '210\\tbrand',\n",
              " '211\\tbreak',\n",
              " '212\\tbrian',\n",
              " '213\\tbring',\n",
              " '214\\tbroadcast',\n",
              " '215\\tbroker',\n",
              " '216\\tbrowser',\n",
              " '217\\tbug',\n",
              " '218\\tbui',\n",
              " '219\\tbuild',\n",
              " '220\\tbuilt',\n",
              " '221\\tbulk',\n",
              " '222\\tburn',\n",
              " '223\\tbush',\n",
              " '224\\tbusi',\n",
              " '225\\tbut',\n",
              " '226\\tbutton',\n",
              " '227\\tby',\n",
              " '228\\tbyte',\n",
              " '229\\tca',\n",
              " '230\\tcabl',\n",
              " '231\\tcach',\n",
              " '232\\tcalcul',\n",
              " '233\\tcalifornia',\n",
              " '234\\tcall',\n",
              " '235\\tcame',\n",
              " '236\\tcamera',\n",
              " '237\\tcampaign',\n",
              " '238\\tcan',\n",
              " '239\\tcanada',\n",
              " '240\\tcannot',\n",
              " '241\\tcanon',\n",
              " '242\\tcapabl',\n",
              " '243\\tcapillari',\n",
              " '244\\tcapit',\n",
              " '245\\tcar',\n",
              " '246\\tcard',\n",
              " '247\\tcare',\n",
              " '248\\tcareer',\n",
              " '249\\tcarri',\n",
              " '250\\tcartridg',\n",
              " '251\\tcase',\n",
              " '252\\tcash',\n",
              " '253\\tcat',\n",
              " '254\\tcatch',\n",
              " '255\\tcategori',\n",
              " '256\\tcaus',\n",
              " '257\\tcb',\n",
              " '258\\tcc',\n",
              " '259\\tcd',\n",
              " '260\\tce',\n",
              " '261\\tcell',\n",
              " '262\\tcent',\n",
              " '263\\tcenter',\n",
              " '264\\tcentral',\n",
              " '265\\tcenturi',\n",
              " '266\\tceo',\n",
              " '267\\tcertain',\n",
              " '268\\tcertainli',\n",
              " '269\\tcf',\n",
              " '270\\tchalleng',\n",
              " '271\\tchanc',\n",
              " '272\\tchang',\n",
              " '273\\tchannel',\n",
              " '274\\tchar',\n",
              " '275\\tcharact',\n",
              " '276\\tcharg',\n",
              " '277\\tcharset',\n",
              " '278\\tchat',\n",
              " '279\\tcheap',\n",
              " '280\\tcheck',\n",
              " '281\\tcheer',\n",
              " '282\\tchief',\n",
              " '283\\tchildren',\n",
              " '284\\tchina',\n",
              " '285\\tchip',\n",
              " '286\\tchoic',\n",
              " '287\\tchoos',\n",
              " '288\\tchri',\n",
              " '289\\tciti',\n",
              " '290\\tcitizen',\n",
              " '291\\tcivil',\n",
              " '292\\tclaim',\n",
              " '293\\tclass',\n",
              " '294\\tclassifi',\n",
              " '295\\tclean',\n",
              " '296\\tclear',\n",
              " '297\\tclearli',\n",
              " '298\\tclick',\n",
              " '299\\tclient',\n",
              " '300\\tclose',\n",
              " '301\\tclue',\n",
              " '302\\tcnet',\n",
              " '303\\tcnumber',\n",
              " '304\\tco',\n",
              " '305\\tcode',\n",
              " '306\\tcollect',\n",
              " '307\\tcolleg',\n",
              " '308\\tcolor',\n",
              " '309\\tcom',\n",
              " '310\\tcombin',\n",
              " '311\\tcome',\n",
              " '312\\tcomfort',\n",
              " '313\\tcommand',\n",
              " '314\\tcomment',\n",
              " '315\\tcommentari',\n",
              " '316\\tcommerci',\n",
              " '317\\tcommiss',\n",
              " '318\\tcommit',\n",
              " '319\\tcommon',\n",
              " '320\\tcommun',\n",
              " '321\\tcompani',\n",
              " '322\\tcompar',\n",
              " '323\\tcomparison',\n",
              " '324\\tcompat',\n",
              " '325\\tcompet',\n",
              " '326\\tcompetit',\n",
              " '327\\tcompil',\n",
              " '328\\tcomplet',\n",
              " '329\\tcomprehens',\n",
              " '330\\tcomput',\n",
              " '331\\tconcentr',\n",
              " '332\\tconcept',\n",
              " '333\\tconcern',\n",
              " '334\\tcondit',\n",
              " '335\\tconf',\n",
              " '336\\tconfer',\n",
              " '337\\tconfid',\n",
              " '338\\tconfidenti',\n",
              " '339\\tconfig',\n",
              " '340\\tconfigur',\n",
              " '341\\tconfirm',\n",
              " '342\\tconflict',\n",
              " '343\\tconfus',\n",
              " '344\\tcongress',\n",
              " '345\\tconnect',\n",
              " '346\\tconsid',\n",
              " '347\\tconsolid',\n",
              " '348\\tconstitut',\n",
              " '349\\tconstruct',\n",
              " '350\\tconsult',\n",
              " '351\\tconsum',\n",
              " '352\\tcontact',\n",
              " '353\\tcontain',\n",
              " '354\\tcontent',\n",
              " '355\\tcontinu',\n",
              " '356\\tcontract',\n",
              " '357\\tcontribut',\n",
              " '358\\tcontrol',\n",
              " '359\\tconveni',\n",
              " '360\\tconvers',\n",
              " '361\\tconvert',\n",
              " '362\\tcool',\n",
              " '363\\tcooper',\n",
              " '364\\tcopi',\n",
              " '365\\tcopyright',\n",
              " '366\\tcore',\n",
              " '367\\tcorpor',\n",
              " '368\\tcorrect',\n",
              " '369\\tcorrespond',\n",
              " '370\\tcost',\n",
              " '371\\tcould',\n",
              " '372\\tcouldn',\n",
              " '373\\tcount',\n",
              " '374\\tcountri',\n",
              " '375\\tcoupl',\n",
              " '376\\tcours',\n",
              " '377\\tcourt',\n",
              " '378\\tcover',\n",
              " '379\\tcoverag',\n",
              " '380\\tcrash',\n",
              " '381\\tcreat',\n",
              " '382\\tcreativ',\n",
              " '383\\tcredit',\n",
              " '384\\tcritic',\n",
              " '385\\tcross',\n",
              " '386\\tcultur',\n",
              " '387\\tcurrent',\n",
              " '388\\tcustom',\n",
              " '389\\tcut',\n",
              " '390\\tcv',\n",
              " '391\\tda',\n",
              " '392\\tdagga',\n",
              " '393\\tdai',\n",
              " '394\\tdaili',\n",
              " '395\\tdan',\n",
              " '396\\tdanger',\n",
              " '397\\tdark',\n",
              " '398\\tdata',\n",
              " '399\\tdatabas',\n",
              " '400\\tdatapow',\n",
              " '401\\tdate',\n",
              " '402\\tdave',\n",
              " '403\\tdavid',\n",
              " '404\\tdc',\n",
              " '405\\tde',\n",
              " '406\\tdead',\n",
              " '407\\tdeal',\n",
              " '408\\tdear',\n",
              " '409\\tdeath',\n",
              " '410\\tdebt',\n",
              " '411\\tdecad',\n",
              " '412\\tdecid',\n",
              " '413\\tdecis',\n",
              " '414\\tdeclar',\n",
              " '415\\tdeclin',\n",
              " '416\\tdecor',\n",
              " '417\\tdefault',\n",
              " '418\\tdefend',\n",
              " '419\\tdefens',\n",
              " '420\\tdefin',\n",
              " '421\\tdefinit',\n",
              " '422\\tdegre',\n",
              " '423\\tdelai',\n",
              " '424\\tdelet',\n",
              " '425\\tdeliv',\n",
              " '426\\tdeliveri',\n",
              " '427\\tdell',\n",
              " '428\\tdemand',\n",
              " '429\\tdemocrat',\n",
              " '430\\tdepart',\n",
              " '431\\tdepend',\n",
              " '432\\tdeposit',\n",
              " '433\\tdescrib',\n",
              " '434\\tdescript',\n",
              " '435\\tdeserv',\n",
              " '436\\tdesign',\n",
              " '437\\tdesir',\n",
              " '438\\tdesktop',\n",
              " '439\\tdespit',\n",
              " '440\\tdetail',\n",
              " '441\\tdetect',\n",
              " '442\\tdetermin',\n",
              " '443\\tdev',\n",
              " '444\\tdevel',\n",
              " '445\\tdevelop',\n",
              " '446\\tdevic',\n",
              " '447\\tdi',\n",
              " '448\\tdial',\n",
              " '449\\tdid',\n",
              " '450\\tdidn',\n",
              " '451\\tdiet',\n",
              " '452\\tdiffer',\n",
              " '453\\tdifficult',\n",
              " '454\\tdigit',\n",
              " '455\\tdirect',\n",
              " '456\\tdirectli',\n",
              " '457\\tdirector',\n",
              " '458\\tdirectori',\n",
              " '459\\tdisabl',\n",
              " '460\\tdiscount',\n",
              " '461\\tdiscov',\n",
              " '462\\tdiscoveri',\n",
              " '463\\tdiscuss',\n",
              " '464\\tdisk',\n",
              " '465\\tdisplai',\n",
              " '466\\tdisposit',\n",
              " '467\\tdistanc',\n",
              " '468\\tdistribut',\n",
              " '469\\tdn',\n",
              " '470\\tdnumber',\n",
              " '471\\tdo',\n",
              " '472\\tdoc',\n",
              " '473\\tdocument',\n",
              " '474\\tdoe',\n",
              " '475\\tdoer',\n",
              " '476\\tdoesn',\n",
              " '477\\tdollar',\n",
              " '478\\tdollarac',\n",
              " '479\\tdollarnumb',\n",
              " '480\\tdomain',\n",
              " '481\\tdon',\n",
              " '482\\tdone',\n",
              " '483\\tdont',\n",
              " '484\\tdoubl',\n",
              " '485\\tdoubt',\n",
              " '486\\tdown',\n",
              " '487\\tdownload',\n",
              " '488\\tdr',\n",
              " '489\\tdraw',\n",
              " '490\\tdream',\n",
              " '491\\tdrive',\n",
              " '492\\tdriver',\n",
              " '493\\tdrop',\n",
              " '494\\tdrug',\n",
              " '495\\tdue',\n",
              " '496\\tdure',\n",
              " '497\\tdvd',\n",
              " '498\\tdw',\n",
              " '499\\tdynam',\n",
              " '500\\tea',\n",
              " '501\\teach',\n",
              " '502\\tearli',\n",
              " '503\\tearlier',\n",
              " '504\\tearn',\n",
              " '505\\tearth',\n",
              " '506\\teasi',\n",
              " '507\\teasier',\n",
              " '508\\teasili',\n",
              " '509\\teat',\n",
              " '510\\teb',\n",
              " '511\\tebai',\n",
              " '512\\tec',\n",
              " '513\\techo',\n",
              " '514\\teconom',\n",
              " '515\\teconomi',\n",
              " '516\\ted',\n",
              " '517\\tedg',\n",
              " '518\\tedit',\n",
              " '519\\teditor',\n",
              " '520\\teduc',\n",
              " '521\\teff',\n",
              " '522\\teffect',\n",
              " '523\\teffici',\n",
              " '524\\teffort',\n",
              " '525\\teither',\n",
              " '526\\tel',\n",
              " '527\\telectron',\n",
              " '528\\telimin',\n",
              " '529\\tels',\n",
              " '530\\temail',\n",
              " '531\\temailaddr',\n",
              " '532\\temerg',\n",
              " '533\\tempir',\n",
              " '534\\temploy',\n",
              " '535\\temploye',\n",
              " '536\\ten',\n",
              " '537\\tenabl',\n",
              " '538\\tencod',\n",
              " '539\\tencourag',\n",
              " '540\\tend',\n",
              " '541\\tenemi',\n",
              " '542\\tenenkio',\n",
              " '543\\tenergi',\n",
              " '544\\tengin',\n",
              " '545\\tenglish',\n",
              " '546\\tenhanc',\n",
              " '547\\tenjoi',\n",
              " '548\\tenough',\n",
              " '549\\tensur',\n",
              " '550\\tenter',\n",
              " '551\\tenterpris',\n",
              " '552\\tentertain',\n",
              " '553\\tentir',\n",
              " '554\\tentri',\n",
              " '555\\tenumb',\n",
              " '556\\tenviron',\n",
              " '557\\tequal',\n",
              " '558\\tequip',\n",
              " '559\\tequival',\n",
              " '560\\terror',\n",
              " '561\\tespeci',\n",
              " '562\\tessenti',\n",
              " '563\\testablish',\n",
              " '564\\testat',\n",
              " '565\\testim',\n",
              " '566\\tet',\n",
              " '567\\tetc',\n",
              " '568\\teuro',\n",
              " '569\\teurop',\n",
              " '570\\teuropean',\n",
              " '571\\teven',\n",
              " '572\\tevent',\n",
              " '573\\teventu',\n",
              " '574\\tever',\n",
              " '575\\teveri',\n",
              " '576\\teveryon',\n",
              " '577\\teveryth',\n",
              " '578\\tevid',\n",
              " '579\\tevil',\n",
              " '580\\texactli',\n",
              " '581\\texampl',\n",
              " '582\\texcel',\n",
              " '583\\texcept',\n",
              " '584\\texchang',\n",
              " '585\\texcit',\n",
              " '586\\texclus',\n",
              " '587\\texecut',\n",
              " '588\\texercis',\n",
              " '589\\texist',\n",
              " '590\\texmh',\n",
              " '591\\texpand',\n",
              " '592\\texpect',\n",
              " '593\\texpens',\n",
              " '594\\texperi',\n",
              " '595\\texpert',\n",
              " '596\\texpir',\n",
              " '597\\texplain',\n",
              " '598\\texplor',\n",
              " '599\\texpress',\n",
              " '600\\textend',\n",
              " '601\\textens',\n",
              " '602\\textra',\n",
              " '603\\textract',\n",
              " '604\\textrem',\n",
              " '605\\tey',\n",
              " '606\\tfa',\n",
              " '607\\tface',\n",
              " '608\\tfact',\n",
              " '609\\tfactor',\n",
              " '610\\tfail',\n",
              " '611\\tfair',\n",
              " '612\\tfall',\n",
              " '613\\tfals',\n",
              " '614\\tfamili',\n",
              " '615\\tfaq',\n",
              " '616\\tfar',\n",
              " '617\\tfast',\n",
              " '618\\tfaster',\n",
              " '619\\tfastest',\n",
              " '620\\tfat',\n",
              " '621\\tfather',\n",
              " '622\\tfavorit',\n",
              " '623\\tfax',\n",
              " '624\\tfb',\n",
              " '625\\tfd',\n",
              " '626\\tfeatur',\n",
              " '627\\tfeder',\n",
              " '628\\tfee',\n",
              " '629\\tfeed',\n",
              " '630\\tfeedback',\n",
              " '631\\tfeel',\n",
              " '632\\tfemal',\n",
              " '633\\tfew',\n",
              " '634\\tffffff',\n",
              " '635\\tffnumber',\n",
              " '636\\tfield',\n",
              " '637\\tfight',\n",
              " '638\\tfigur',\n",
              " '639\\tfile',\n",
              " '640\\tfill',\n",
              " '641\\tfilm',\n",
              " '642\\tfilter',\n",
              " '643\\tfinal',\n",
              " '644\\tfinanc',\n",
              " '645\\tfinanci',\n",
              " '646\\tfind',\n",
              " '647\\tfine',\n",
              " '648\\tfinish',\n",
              " '649\\tfire',\n",
              " '650\\tfirewal',\n",
              " '651\\tfirm',\n",
              " '652\\tfirst',\n",
              " '653\\tfit',\n",
              " '654\\tfive',\n",
              " '655\\tfix',\n",
              " '656\\tflag',\n",
              " '657\\tflash',\n",
              " '658\\tflow',\n",
              " '659\\tfnumber',\n",
              " '660\\tfocu',\n",
              " '661\\tfolder',\n",
              " '662\\tfolk',\n",
              " '663\\tfollow',\n",
              " '664\\tfont',\n",
              " '665\\tfood',\n",
              " '666\\tfor',\n",
              " '667\\tforc',\n",
              " '668\\tforeign',\n",
              " '669\\tforev',\n",
              " '670\\tforget',\n",
              " '671\\tfork',\n",
              " '672\\tform',\n",
              " '673\\tformat',\n",
              " '674\\tformer',\n",
              " '675\\tfortun',\n",
              " '676\\tforward',\n",
              " '677\\tfound',\n",
              " '678\\tfoundat',\n",
              " '679\\tfour',\n",
              " '680\\tfranc',\n",
              " '681\\tfree',\n",
              " '682\\tfreedom',\n",
              " '683\\tfrench',\n",
              " '684\\tfreshrpm',\n",
              " '685\\tfri',\n",
              " '686\\tfridai',\n",
              " '687\\tfriend',\n",
              " '688\\tfrom',\n",
              " '689\\tfront',\n",
              " '690\\tftoc',\n",
              " '691\\tftp',\n",
              " '692\\tfull',\n",
              " '693\\tfulli',\n",
              " '694\\tfun',\n",
              " '695\\tfunction',\n",
              " '696\\tfund',\n",
              " '697\\tfurther',\n",
              " '698\\tfutur',\n",
              " '699\\tga',\n",
              " '700\\tgain',\n",
              " '701\\tgame',\n",
              " '702\\tgari',\n",
              " '703\\tgarrigu',\n",
              " '704\\tgave',\n",
              " '705\\tgcc',\n",
              " '706\\tgeek',\n",
              " '707\\tgener',\n",
              " '708\\tget',\n",
              " '709\\tgif',\n",
              " '710\\tgift',\n",
              " '711\\tgirl',\n",
              " '712\\tgive',\n",
              " '713\\tgiven',\n",
              " '714\\tglobal',\n",
              " '715\\tgnome',\n",
              " '716\\tgnu',\n",
              " '717\\tgnupg',\n",
              " '718\\tgo',\n",
              " '719\\tgoal',\n",
              " '720\\tgod',\n",
              " '721\\tgoe',\n",
              " '722\\tgold',\n",
              " '723\\tgone',\n",
              " '724\\tgood',\n",
              " '725\\tgoogl',\n",
              " '726\\tgot',\n",
              " '727\\tgovern',\n",
              " '728\\tgpl',\n",
              " '729\\tgrand',\n",
              " '730\\tgrant',\n",
              " '731\\tgraphic',\n",
              " '732\\tgreat',\n",
              " '733\\tgreater',\n",
              " '734\\tground',\n",
              " '735\\tgroup',\n",
              " '736\\tgrow',\n",
              " '737\\tgrowth',\n",
              " '738\\tgt',\n",
              " '739\\tguarante',\n",
              " '740\\tguess',\n",
              " '741\\tgui',\n",
              " '742\\tguid',\n",
              " '743\\tha',\n",
              " '744\\thack',\n",
              " '745\\thad',\n",
              " '746\\thalf',\n",
              " '747\\tham',\n",
              " '748\\thand',\n",
              " '749\\thandl',\n",
              " '750\\thappen',\n",
              " '751\\thappi',\n",
              " '752\\thard',\n",
              " '753\\thardwar',\n",
              " '754\\that',\n",
              " '755\\thate',\n",
              " '756\\thave',\n",
              " '757\\thaven',\n",
              " '758\\the',\n",
              " '759\\thead',\n",
              " '760\\theader',\n",
              " '761\\theadlin',\n",
              " '762\\thealth',\n",
              " '763\\thear',\n",
              " '764\\theard',\n",
              " '765\\theart',\n",
              " '766\\theaven',\n",
              " '767\\thei',\n",
              " '768\\theight',\n",
              " '769\\theld',\n",
              " '770\\thello',\n",
              " '771\\thelp',\n",
              " '772\\thelvetica',\n",
              " '773\\ther',\n",
              " '774\\therba',\n",
              " '775\\there',\n",
              " '776\\thermio',\n",
              " '777\\thettinga',\n",
              " '778\\thi',\n",
              " '779\\thigh',\n",
              " '780\\thigher',\n",
              " '781\\thighli',\n",
              " '782\\thighlight',\n",
              " '783\\thim',\n",
              " '784\\thistori',\n",
              " '785\\thit',\n",
              " '786\\thold',\n",
              " '787\\thome',\n",
              " '788\\thonor',\n",
              " '789\\thope',\n",
              " '790\\thost',\n",
              " '791\\thot',\n",
              " '792\\thour',\n",
              " '793\\thous',\n",
              " '794\\thow',\n",
              " '795\\thowev',\n",
              " '796\\thp',\n",
              " '797\\thtml',\n",
              " '798\\thttp',\n",
              " '799\\thttpaddr',\n",
              " '800\\thuge',\n",
              " '801\\thuman',\n",
              " '802\\thundr',\n",
              " '803\\tibm',\n",
              " '804\\tid',\n",
              " '805\\tidea',\n",
              " '806\\tident',\n",
              " '807\\tidentifi',\n",
              " '808\\tidnumb',\n",
              " '809\\tie',\n",
              " '810\\tif',\n",
              " '811\\tignor',\n",
              " '812\\tii',\n",
              " '813\\tiii',\n",
              " '814\\tiiiiiiihnumberjnumberhnumberjnumberhnumb',\n",
              " '815\\tilleg',\n",
              " '816\\tim',\n",
              " '817\\timag',\n",
              " '818\\timagin',\n",
              " '819\\timmedi',\n",
              " '820\\timpact',\n",
              " '821\\timplement',\n",
              " '822\\timport',\n",
              " '823\\timpress',\n",
              " '824\\timprov',\n",
              " '825\\tin',\n",
              " '826\\tinc',\n",
              " '827\\tinclud',\n",
              " '828\\tincom',\n",
              " '829\\tincreas',\n",
              " '830\\tincred',\n",
              " '831\\tinde',\n",
              " '832\\tindepend',\n",
              " '833\\tindex',\n",
              " '834\\tindia',\n",
              " '835\\tindian',\n",
              " '836\\tindic',\n",
              " '837\\tindividu',\n",
              " '838\\tindustri',\n",
              " '839\\tinfo',\n",
              " '840\\tinform',\n",
              " '841\\tiniti',\n",
              " '842\\tinlin',\n",
              " '843\\tinnov',\n",
              " '844\\tinput',\n",
              " '845\\tinsert',\n",
              " '846\\tinsid',\n",
              " '847\\tinstal',\n",
              " '848\\tinstanc',\n",
              " '849\\tinstant',\n",
              " '850\\tinstead',\n",
              " '851\\tinstitut',\n",
              " '852\\tinstruct',\n",
              " '853\\tinsur',\n",
              " '854\\tint',\n",
              " '855\\tintegr',\n",
              " '856\\tintel',\n",
              " '857\\tintellig',\n",
              " '858\\tintend',\n",
              " '859\\tinteract',\n",
              " '860\\tinterest',\n",
              " '861\\tinterfac',\n",
              " '862\\tintern',\n",
              " '863\\tinternet',\n",
              " '864\\tinterview',\n",
              " '865\\tinto',\n",
              " '866\\tintro',\n",
              " '867\\tintroduc',\n",
              " '868\\tinumb',\n",
              " '869\\tinvest',\n",
              " '870\\tinvestig',\n",
              " '871\\tinvestor',\n",
              " '872\\tinvok',\n",
              " '873\\tinvolv',\n",
              " '874\\tip',\n",
              " '875\\tireland',\n",
              " '876\\tirish',\n",
              " '877\\tis',\n",
              " '878\\tisland',\n",
              " '879\\tisn',\n",
              " '880\\tiso',\n",
              " '881\\tisp',\n",
              " '882\\tissu',\n",
              " '883\\tit',\n",
              " '884\\titem',\n",
              " '885\\titself',\n",
              " '886\\tjabber',\n",
              " '887\\tjame',\n",
              " '888\\tjava',\n",
              " '889\\tjim',\n",
              " '890\\tjnumberiiiiiiihepihepihf',\n",
              " '891\\tjob',\n",
              " '892\\tjoe',\n",
              " '893\\tjohn',\n",
              " '894\\tjoin',\n",
              " '895\\tjournal',\n",
              " '896\\tjudg',\n",
              " '897\\tjudgment',\n",
              " '898\\tjul',\n",
              " '899\\tjuli',\n",
              " '900\\tjump',\n",
              " '901\\tjune',\n",
              " '902\\tjust',\n",
              " '903\\tjustin',\n",
              " '904\\tkeep',\n",
              " '905\\tkei',\n",
              " '906\\tkept',\n",
              " '907\\tkernel',\n",
              " '908\\tkevin',\n",
              " '909\\tkeyboard',\n",
              " '910\\tkid',\n",
              " '911\\tkill',\n",
              " '912\\tkind',\n",
              " '913\\tking',\n",
              " '914\\tkingdom',\n",
              " '915\\tknew',\n",
              " '916\\tknow',\n",
              " '917\\tknowledg',\n",
              " '918\\tknown',\n",
              " '919\\tla',\n",
              " '920\\tlack',\n",
              " '921\\tland',\n",
              " '922\\tlanguag',\n",
              " '923\\tlaptop',\n",
              " '924\\tlarg',\n",
              " '925\\tlarger',\n",
              " '926\\tlargest',\n",
              " '927\\tlaser',\n",
              " '928\\tlast',\n",
              " '929\\tlate',\n",
              " '930\\tlater',\n",
              " '931\\tlatest',\n",
              " '932\\tlaunch',\n",
              " '933\\tlaw',\n",
              " '934\\tlawrenc',\n",
              " '935\\tle',\n",
              " '936\\tlead',\n",
              " '937\\tleader',\n",
              " '938\\tlearn',\n",
              " '939\\tleast',\n",
              " '940\\tleav',\n",
              " '941\\tleft',\n",
              " '942\\tlegal',\n",
              " '943\\tlender',\n",
              " '944\\tlength',\n",
              " '945\\tless',\n",
              " '946\\tlesson',\n",
              " '947\\tlet',\n",
              " '948\\tletter',\n",
              " '949\\tlevel',\n",
              " '950\\tlib',\n",
              " '951\\tlibrari',\n",
              " '952\\tlicens',\n",
              " '953\\tlife',\n",
              " '954\\tlifetim',\n",
              " '955\\tlight',\n",
              " '956\\tlike',\n",
              " '957\\tlimit',\n",
              " '958\\tline',\n",
              " '959\\tlink',\n",
              " '960\\tlinux',\n",
              " '961\\tlist',\n",
              " '962\\tlisten',\n",
              " '963\\tlittl',\n",
              " '964\\tlive',\n",
              " '965\\tll',\n",
              " '966\\tlo',\n",
              " '967\\tload',\n",
              " '968\\tloan',\n",
              " '969\\tlocal',\n",
              " '970\\tlocat',\n",
              " '971\\tlock',\n",
              " '972\\tlockergnom',\n",
              " '973\\tlog',\n",
              " '974\\tlong',\n",
              " '975\\tlonger',\n",
              " '976\\tlook',\n",
              " '977\\tlose',\n",
              " '978\\tloss',\n",
              " '979\\tlost',\n",
              " '980\\tlot',\n",
              " '981\\tlove',\n",
              " '982\\tlow',\n",
              " '983\\tlower',\n",
              " '984\\tlowest',\n",
              " '985\\tlt',\n",
              " '986\\tma',\n",
              " '987\\tmac',\n",
              " '988\\tmachin',\n",
              " '989\\tmade',\n",
              " '990\\tmagazin',\n",
              " '991\\tmai',\n",
              " '992\\tmail',\n",
              " '993\\tmailer',\n",
              " '994\\tmain',\n",
              " '995\\tmaintain',\n",
              " '996\\tmajor',\n",
              " '997\\tmake',\n",
              " '998\\tmaker',\n",
              " '999\\tmale',\n",
              " '1000\\tman',\n",
              " ...]"
            ]
          },
          "metadata": {},
          "execution_count": 22
        }
      ]
    },
    {
      "cell_type": "code",
      "source": [
        "vocabulario = {}\n",
        "\n",
        "for i in vocabList:\n",
        "    valor, palabra = i.split(\"\\t\")\n",
        "    vocabulario[palabra] = valor\n",
        "\n",
        "vocabulario"
      ],
      "metadata": {
        "colab": {
          "base_uri": "https://localhost:8080/"
        },
        "id": "QZRVmQZS6B9A",
        "outputId": "dfeadd40-e894-4e69-da94-1e533d4149ca"
      },
      "execution_count": null,
      "outputs": [
        {
          "output_type": "execute_result",
          "data": {
            "text/plain": [
              "{'aa': '1',\n",
              " 'ab': '2',\n",
              " 'abil': '3',\n",
              " 'abl': '4',\n",
              " 'about': '5',\n",
              " 'abov': '6',\n",
              " 'absolut': '7',\n",
              " 'abus': '8',\n",
              " 'ac': '9',\n",
              " 'accept': '10',\n",
              " 'access': '11',\n",
              " 'accord': '12',\n",
              " 'account': '13',\n",
              " 'achiev': '14',\n",
              " 'acquir': '15',\n",
              " 'across': '16',\n",
              " 'act': '17',\n",
              " 'action': '18',\n",
              " 'activ': '19',\n",
              " 'actual': '20',\n",
              " 'ad': '21',\n",
              " 'adam': '22',\n",
              " 'add': '23',\n",
              " 'addit': '24',\n",
              " 'address': '25',\n",
              " 'administr': '26',\n",
              " 'adult': '27',\n",
              " 'advanc': '28',\n",
              " 'advantag': '29',\n",
              " 'advertis': '30',\n",
              " 'advic': '31',\n",
              " 'advis': '32',\n",
              " 'ae': '33',\n",
              " 'af': '34',\n",
              " 'affect': '35',\n",
              " 'affili': '36',\n",
              " 'afford': '37',\n",
              " 'africa': '38',\n",
              " 'after': '39',\n",
              " 'ag': '40',\n",
              " 'again': '41',\n",
              " 'against': '42',\n",
              " 'agenc': '43',\n",
              " 'agent': '44',\n",
              " 'ago': '45',\n",
              " 'agre': '46',\n",
              " 'agreement': '47',\n",
              " 'aid': '48',\n",
              " 'air': '49',\n",
              " 'al': '50',\n",
              " 'alb': '51',\n",
              " 'align': '52',\n",
              " 'all': '53',\n",
              " 'allow': '54',\n",
              " 'almost': '55',\n",
              " 'alon': '56',\n",
              " 'along': '57',\n",
              " 'alreadi': '58',\n",
              " 'alsa': '59',\n",
              " 'also': '60',\n",
              " 'altern': '61',\n",
              " 'although': '62',\n",
              " 'alwai': '63',\n",
              " 'am': '64',\n",
              " 'amaz': '65',\n",
              " 'america': '66',\n",
              " 'american': '67',\n",
              " 'among': '68',\n",
              " 'amount': '69',\n",
              " 'amp': '70',\n",
              " 'an': '71',\n",
              " 'analysi': '72',\n",
              " 'analyst': '73',\n",
              " 'and': '74',\n",
              " 'ani': '75',\n",
              " 'anim': '76',\n",
              " 'announc': '77',\n",
              " 'annual': '78',\n",
              " 'annuiti': '79',\n",
              " 'anoth': '80',\n",
              " 'answer': '81',\n",
              " 'anti': '82',\n",
              " 'anumb': '83',\n",
              " 'anybodi': '84',\n",
              " 'anymor': '85',\n",
              " 'anyon': '86',\n",
              " 'anyth': '87',\n",
              " 'anywai': '88',\n",
              " 'anywher': '89',\n",
              " 'aol': '90',\n",
              " 'ap': '91',\n",
              " 'apolog': '92',\n",
              " 'app': '93',\n",
              " 'appar': '94',\n",
              " 'appear': '95',\n",
              " 'appl': '96',\n",
              " 'appli': '97',\n",
              " 'applic': '98',\n",
              " 'appreci': '99',\n",
              " 'approach': '100',\n",
              " 'approv': '101',\n",
              " 'apt': '102',\n",
              " 'ar': '103',\n",
              " 'archiv': '104',\n",
              " 'area': '105',\n",
              " 'aren': '106',\n",
              " 'argument': '107',\n",
              " 'arial': '108',\n",
              " 'arm': '109',\n",
              " 'around': '110',\n",
              " 'arrai': '111',\n",
              " 'arriv': '112',\n",
              " 'art': '113',\n",
              " 'articl': '114',\n",
              " 'artist': '115',\n",
              " 'as': '116',\n",
              " 'ascii': '117',\n",
              " 'ask': '118',\n",
              " 'asset': '119',\n",
              " 'assist': '120',\n",
              " 'associ': '121',\n",
              " 'assum': '122',\n",
              " 'assur': '123',\n",
              " 'at': '124',\n",
              " 'atol': '125',\n",
              " 'attach': '126',\n",
              " 'attack': '127',\n",
              " 'attempt': '128',\n",
              " 'attent': '129',\n",
              " 'attornei': '130',\n",
              " 'attract': '131',\n",
              " 'audio': '132',\n",
              " 'aug': '133',\n",
              " 'august': '134',\n",
              " 'author': '135',\n",
              " 'auto': '136',\n",
              " 'autom': '137',\n",
              " 'automat': '138',\n",
              " 'avail': '139',\n",
              " 'averag': '140',\n",
              " 'avoid': '141',\n",
              " 'awai': '142',\n",
              " 'awar': '143',\n",
              " 'award': '144',\n",
              " 'ba': '145',\n",
              " 'babi': '146',\n",
              " 'back': '147',\n",
              " 'background': '148',\n",
              " 'backup': '149',\n",
              " 'bad': '150',\n",
              " 'balanc': '151',\n",
              " 'ban': '152',\n",
              " 'bank': '153',\n",
              " 'bar': '154',\n",
              " 'base': '155',\n",
              " 'basenumb': '156',\n",
              " 'basi': '157',\n",
              " 'basic': '158',\n",
              " 'bb': '159',\n",
              " 'bc': '160',\n",
              " 'bd': '161',\n",
              " 'be': '162',\n",
              " 'beat': '163',\n",
              " 'beberg': '164',\n",
              " 'becaus': '165',\n",
              " 'becom': '166',\n",
              " 'been': '167',\n",
              " 'befor': '168',\n",
              " 'begin': '169',\n",
              " 'behalf': '170',\n",
              " 'behavior': '171',\n",
              " 'behind': '172',\n",
              " 'believ': '173',\n",
              " 'below': '174',\n",
              " 'benefit': '175',\n",
              " 'best': '176',\n",
              " 'beta': '177',\n",
              " 'better': '178',\n",
              " 'between': '179',\n",
              " 'bf': '180',\n",
              " 'big': '181',\n",
              " 'bill': '182',\n",
              " 'billion': '183',\n",
              " 'bin': '184',\n",
              " 'binari': '185',\n",
              " 'bit': '186',\n",
              " 'black': '187',\n",
              " 'blank': '188',\n",
              " 'block': '189',\n",
              " 'blog': '190',\n",
              " 'blood': '191',\n",
              " 'blue': '192',\n",
              " 'bnumber': '193',\n",
              " 'board': '194',\n",
              " 'bodi': '195',\n",
              " 'boi': '196',\n",
              " 'bonu': '197',\n",
              " 'book': '198',\n",
              " 'boot': '199',\n",
              " 'border': '200',\n",
              " 'boss': '201',\n",
              " 'boston': '202',\n",
              " 'botan': '203',\n",
              " 'both': '204',\n",
              " 'bottl': '205',\n",
              " 'bottom': '206',\n",
              " 'boundari': '207',\n",
              " 'box': '208',\n",
              " 'brain': '209',\n",
              " 'brand': '210',\n",
              " 'break': '211',\n",
              " 'brian': '212',\n",
              " 'bring': '213',\n",
              " 'broadcast': '214',\n",
              " 'broker': '215',\n",
              " 'browser': '216',\n",
              " 'bug': '217',\n",
              " 'bui': '218',\n",
              " 'build': '219',\n",
              " 'built': '220',\n",
              " 'bulk': '221',\n",
              " 'burn': '222',\n",
              " 'bush': '223',\n",
              " 'busi': '224',\n",
              " 'but': '225',\n",
              " 'button': '226',\n",
              " 'by': '227',\n",
              " 'byte': '228',\n",
              " 'ca': '229',\n",
              " 'cabl': '230',\n",
              " 'cach': '231',\n",
              " 'calcul': '232',\n",
              " 'california': '233',\n",
              " 'call': '234',\n",
              " 'came': '235',\n",
              " 'camera': '236',\n",
              " 'campaign': '237',\n",
              " 'can': '238',\n",
              " 'canada': '239',\n",
              " 'cannot': '240',\n",
              " 'canon': '241',\n",
              " 'capabl': '242',\n",
              " 'capillari': '243',\n",
              " 'capit': '244',\n",
              " 'car': '245',\n",
              " 'card': '246',\n",
              " 'care': '247',\n",
              " 'career': '248',\n",
              " 'carri': '249',\n",
              " 'cartridg': '250',\n",
              " 'case': '251',\n",
              " 'cash': '252',\n",
              " 'cat': '253',\n",
              " 'catch': '254',\n",
              " 'categori': '255',\n",
              " 'caus': '256',\n",
              " 'cb': '257',\n",
              " 'cc': '258',\n",
              " 'cd': '259',\n",
              " 'ce': '260',\n",
              " 'cell': '261',\n",
              " 'cent': '262',\n",
              " 'center': '263',\n",
              " 'central': '264',\n",
              " 'centuri': '265',\n",
              " 'ceo': '266',\n",
              " 'certain': '267',\n",
              " 'certainli': '268',\n",
              " 'cf': '269',\n",
              " 'challeng': '270',\n",
              " 'chanc': '271',\n",
              " 'chang': '272',\n",
              " 'channel': '273',\n",
              " 'char': '274',\n",
              " 'charact': '275',\n",
              " 'charg': '276',\n",
              " 'charset': '277',\n",
              " 'chat': '278',\n",
              " 'cheap': '279',\n",
              " 'check': '280',\n",
              " 'cheer': '281',\n",
              " 'chief': '282',\n",
              " 'children': '283',\n",
              " 'china': '284',\n",
              " 'chip': '285',\n",
              " 'choic': '286',\n",
              " 'choos': '287',\n",
              " 'chri': '288',\n",
              " 'citi': '289',\n",
              " 'citizen': '290',\n",
              " 'civil': '291',\n",
              " 'claim': '292',\n",
              " 'class': '293',\n",
              " 'classifi': '294',\n",
              " 'clean': '295',\n",
              " 'clear': '296',\n",
              " 'clearli': '297',\n",
              " 'click': '298',\n",
              " 'client': '299',\n",
              " 'close': '300',\n",
              " 'clue': '301',\n",
              " 'cnet': '302',\n",
              " 'cnumber': '303',\n",
              " 'co': '304',\n",
              " 'code': '305',\n",
              " 'collect': '306',\n",
              " 'colleg': '307',\n",
              " 'color': '308',\n",
              " 'com': '309',\n",
              " 'combin': '310',\n",
              " 'come': '311',\n",
              " 'comfort': '312',\n",
              " 'command': '313',\n",
              " 'comment': '314',\n",
              " 'commentari': '315',\n",
              " 'commerci': '316',\n",
              " 'commiss': '317',\n",
              " 'commit': '318',\n",
              " 'common': '319',\n",
              " 'commun': '320',\n",
              " 'compani': '321',\n",
              " 'compar': '322',\n",
              " 'comparison': '323',\n",
              " 'compat': '324',\n",
              " 'compet': '325',\n",
              " 'competit': '326',\n",
              " 'compil': '327',\n",
              " 'complet': '328',\n",
              " 'comprehens': '329',\n",
              " 'comput': '330',\n",
              " 'concentr': '331',\n",
              " 'concept': '332',\n",
              " 'concern': '333',\n",
              " 'condit': '334',\n",
              " 'conf': '335',\n",
              " 'confer': '336',\n",
              " 'confid': '337',\n",
              " 'confidenti': '338',\n",
              " 'config': '339',\n",
              " 'configur': '340',\n",
              " 'confirm': '341',\n",
              " 'conflict': '342',\n",
              " 'confus': '343',\n",
              " 'congress': '344',\n",
              " 'connect': '345',\n",
              " 'consid': '346',\n",
              " 'consolid': '347',\n",
              " 'constitut': '348',\n",
              " 'construct': '349',\n",
              " 'consult': '350',\n",
              " 'consum': '351',\n",
              " 'contact': '352',\n",
              " 'contain': '353',\n",
              " 'content': '354',\n",
              " 'continu': '355',\n",
              " 'contract': '356',\n",
              " 'contribut': '357',\n",
              " 'control': '358',\n",
              " 'conveni': '359',\n",
              " 'convers': '360',\n",
              " 'convert': '361',\n",
              " 'cool': '362',\n",
              " 'cooper': '363',\n",
              " 'copi': '364',\n",
              " 'copyright': '365',\n",
              " 'core': '366',\n",
              " 'corpor': '367',\n",
              " 'correct': '368',\n",
              " 'correspond': '369',\n",
              " 'cost': '370',\n",
              " 'could': '371',\n",
              " 'couldn': '372',\n",
              " 'count': '373',\n",
              " 'countri': '374',\n",
              " 'coupl': '375',\n",
              " 'cours': '376',\n",
              " 'court': '377',\n",
              " 'cover': '378',\n",
              " 'coverag': '379',\n",
              " 'crash': '380',\n",
              " 'creat': '381',\n",
              " 'creativ': '382',\n",
              " 'credit': '383',\n",
              " 'critic': '384',\n",
              " 'cross': '385',\n",
              " 'cultur': '386',\n",
              " 'current': '387',\n",
              " 'custom': '388',\n",
              " 'cut': '389',\n",
              " 'cv': '390',\n",
              " 'da': '391',\n",
              " 'dagga': '392',\n",
              " 'dai': '393',\n",
              " 'daili': '394',\n",
              " 'dan': '395',\n",
              " 'danger': '396',\n",
              " 'dark': '397',\n",
              " 'data': '398',\n",
              " 'databas': '399',\n",
              " 'datapow': '400',\n",
              " 'date': '401',\n",
              " 'dave': '402',\n",
              " 'david': '403',\n",
              " 'dc': '404',\n",
              " 'de': '405',\n",
              " 'dead': '406',\n",
              " 'deal': '407',\n",
              " 'dear': '408',\n",
              " 'death': '409',\n",
              " 'debt': '410',\n",
              " 'decad': '411',\n",
              " 'decid': '412',\n",
              " 'decis': '413',\n",
              " 'declar': '414',\n",
              " 'declin': '415',\n",
              " 'decor': '416',\n",
              " 'default': '417',\n",
              " 'defend': '418',\n",
              " 'defens': '419',\n",
              " 'defin': '420',\n",
              " 'definit': '421',\n",
              " 'degre': '422',\n",
              " 'delai': '423',\n",
              " 'delet': '424',\n",
              " 'deliv': '425',\n",
              " 'deliveri': '426',\n",
              " 'dell': '427',\n",
              " 'demand': '428',\n",
              " 'democrat': '429',\n",
              " 'depart': '430',\n",
              " 'depend': '431',\n",
              " 'deposit': '432',\n",
              " 'describ': '433',\n",
              " 'descript': '434',\n",
              " 'deserv': '435',\n",
              " 'design': '436',\n",
              " 'desir': '437',\n",
              " 'desktop': '438',\n",
              " 'despit': '439',\n",
              " 'detail': '440',\n",
              " 'detect': '441',\n",
              " 'determin': '442',\n",
              " 'dev': '443',\n",
              " 'devel': '444',\n",
              " 'develop': '445',\n",
              " 'devic': '446',\n",
              " 'di': '447',\n",
              " 'dial': '448',\n",
              " 'did': '449',\n",
              " 'didn': '450',\n",
              " 'diet': '451',\n",
              " 'differ': '452',\n",
              " 'difficult': '453',\n",
              " 'digit': '454',\n",
              " 'direct': '455',\n",
              " 'directli': '456',\n",
              " 'director': '457',\n",
              " 'directori': '458',\n",
              " 'disabl': '459',\n",
              " 'discount': '460',\n",
              " 'discov': '461',\n",
              " 'discoveri': '462',\n",
              " 'discuss': '463',\n",
              " 'disk': '464',\n",
              " 'displai': '465',\n",
              " 'disposit': '466',\n",
              " 'distanc': '467',\n",
              " 'distribut': '468',\n",
              " 'dn': '469',\n",
              " 'dnumber': '470',\n",
              " 'do': '471',\n",
              " 'doc': '472',\n",
              " 'document': '473',\n",
              " 'doe': '474',\n",
              " 'doer': '475',\n",
              " 'doesn': '476',\n",
              " 'dollar': '477',\n",
              " 'dollarac': '478',\n",
              " 'dollarnumb': '479',\n",
              " 'domain': '480',\n",
              " 'don': '481',\n",
              " 'done': '482',\n",
              " 'dont': '483',\n",
              " 'doubl': '484',\n",
              " 'doubt': '485',\n",
              " 'down': '486',\n",
              " 'download': '487',\n",
              " 'dr': '488',\n",
              " 'draw': '489',\n",
              " 'dream': '490',\n",
              " 'drive': '491',\n",
              " 'driver': '492',\n",
              " 'drop': '493',\n",
              " 'drug': '494',\n",
              " 'due': '495',\n",
              " 'dure': '496',\n",
              " 'dvd': '497',\n",
              " 'dw': '498',\n",
              " 'dynam': '499',\n",
              " 'ea': '500',\n",
              " 'each': '501',\n",
              " 'earli': '502',\n",
              " 'earlier': '503',\n",
              " 'earn': '504',\n",
              " 'earth': '505',\n",
              " 'easi': '506',\n",
              " 'easier': '507',\n",
              " 'easili': '508',\n",
              " 'eat': '509',\n",
              " 'eb': '510',\n",
              " 'ebai': '511',\n",
              " 'ec': '512',\n",
              " 'echo': '513',\n",
              " 'econom': '514',\n",
              " 'economi': '515',\n",
              " 'ed': '516',\n",
              " 'edg': '517',\n",
              " 'edit': '518',\n",
              " 'editor': '519',\n",
              " 'educ': '520',\n",
              " 'eff': '521',\n",
              " 'effect': '522',\n",
              " 'effici': '523',\n",
              " 'effort': '524',\n",
              " 'either': '525',\n",
              " 'el': '526',\n",
              " 'electron': '527',\n",
              " 'elimin': '528',\n",
              " 'els': '529',\n",
              " 'email': '530',\n",
              " 'emailaddr': '531',\n",
              " 'emerg': '532',\n",
              " 'empir': '533',\n",
              " 'employ': '534',\n",
              " 'employe': '535',\n",
              " 'en': '536',\n",
              " 'enabl': '537',\n",
              " 'encod': '538',\n",
              " 'encourag': '539',\n",
              " 'end': '540',\n",
              " 'enemi': '541',\n",
              " 'enenkio': '542',\n",
              " 'energi': '543',\n",
              " 'engin': '544',\n",
              " 'english': '545',\n",
              " 'enhanc': '546',\n",
              " 'enjoi': '547',\n",
              " 'enough': '548',\n",
              " 'ensur': '549',\n",
              " 'enter': '550',\n",
              " 'enterpris': '551',\n",
              " 'entertain': '552',\n",
              " 'entir': '553',\n",
              " 'entri': '554',\n",
              " 'enumb': '555',\n",
              " 'environ': '556',\n",
              " 'equal': '557',\n",
              " 'equip': '558',\n",
              " 'equival': '559',\n",
              " 'error': '560',\n",
              " 'especi': '561',\n",
              " 'essenti': '562',\n",
              " 'establish': '563',\n",
              " 'estat': '564',\n",
              " 'estim': '565',\n",
              " 'et': '566',\n",
              " 'etc': '567',\n",
              " 'euro': '568',\n",
              " 'europ': '569',\n",
              " 'european': '570',\n",
              " 'even': '571',\n",
              " 'event': '572',\n",
              " 'eventu': '573',\n",
              " 'ever': '574',\n",
              " 'everi': '575',\n",
              " 'everyon': '576',\n",
              " 'everyth': '577',\n",
              " 'evid': '578',\n",
              " 'evil': '579',\n",
              " 'exactli': '580',\n",
              " 'exampl': '581',\n",
              " 'excel': '582',\n",
              " 'except': '583',\n",
              " 'exchang': '584',\n",
              " 'excit': '585',\n",
              " 'exclus': '586',\n",
              " 'execut': '587',\n",
              " 'exercis': '588',\n",
              " 'exist': '589',\n",
              " 'exmh': '590',\n",
              " 'expand': '591',\n",
              " 'expect': '592',\n",
              " 'expens': '593',\n",
              " 'experi': '594',\n",
              " 'expert': '595',\n",
              " 'expir': '596',\n",
              " 'explain': '597',\n",
              " 'explor': '598',\n",
              " 'express': '599',\n",
              " 'extend': '600',\n",
              " 'extens': '601',\n",
              " 'extra': '602',\n",
              " 'extract': '603',\n",
              " 'extrem': '604',\n",
              " 'ey': '605',\n",
              " 'fa': '606',\n",
              " 'face': '607',\n",
              " 'fact': '608',\n",
              " 'factor': '609',\n",
              " 'fail': '610',\n",
              " 'fair': '611',\n",
              " 'fall': '612',\n",
              " 'fals': '613',\n",
              " 'famili': '614',\n",
              " 'faq': '615',\n",
              " 'far': '616',\n",
              " 'fast': '617',\n",
              " 'faster': '618',\n",
              " 'fastest': '619',\n",
              " 'fat': '620',\n",
              " 'father': '621',\n",
              " 'favorit': '622',\n",
              " 'fax': '623',\n",
              " 'fb': '624',\n",
              " 'fd': '625',\n",
              " 'featur': '626',\n",
              " 'feder': '627',\n",
              " 'fee': '628',\n",
              " 'feed': '629',\n",
              " 'feedback': '630',\n",
              " 'feel': '631',\n",
              " 'femal': '632',\n",
              " 'few': '633',\n",
              " 'ffffff': '634',\n",
              " 'ffnumber': '635',\n",
              " 'field': '636',\n",
              " 'fight': '637',\n",
              " 'figur': '638',\n",
              " 'file': '639',\n",
              " 'fill': '640',\n",
              " 'film': '641',\n",
              " 'filter': '642',\n",
              " 'final': '643',\n",
              " 'financ': '644',\n",
              " 'financi': '645',\n",
              " 'find': '646',\n",
              " 'fine': '647',\n",
              " 'finish': '648',\n",
              " 'fire': '649',\n",
              " 'firewal': '650',\n",
              " 'firm': '651',\n",
              " 'first': '652',\n",
              " 'fit': '653',\n",
              " 'five': '654',\n",
              " 'fix': '655',\n",
              " 'flag': '656',\n",
              " 'flash': '657',\n",
              " 'flow': '658',\n",
              " 'fnumber': '659',\n",
              " 'focu': '660',\n",
              " 'folder': '661',\n",
              " 'folk': '662',\n",
              " 'follow': '663',\n",
              " 'font': '664',\n",
              " 'food': '665',\n",
              " 'for': '666',\n",
              " 'forc': '667',\n",
              " 'foreign': '668',\n",
              " 'forev': '669',\n",
              " 'forget': '670',\n",
              " 'fork': '671',\n",
              " 'form': '672',\n",
              " 'format': '673',\n",
              " 'former': '674',\n",
              " 'fortun': '675',\n",
              " 'forward': '676',\n",
              " 'found': '677',\n",
              " 'foundat': '678',\n",
              " 'four': '679',\n",
              " 'franc': '680',\n",
              " 'free': '681',\n",
              " 'freedom': '682',\n",
              " 'french': '683',\n",
              " 'freshrpm': '684',\n",
              " 'fri': '685',\n",
              " 'fridai': '686',\n",
              " 'friend': '687',\n",
              " 'from': '688',\n",
              " 'front': '689',\n",
              " 'ftoc': '690',\n",
              " 'ftp': '691',\n",
              " 'full': '692',\n",
              " 'fulli': '693',\n",
              " 'fun': '694',\n",
              " 'function': '695',\n",
              " 'fund': '696',\n",
              " 'further': '697',\n",
              " 'futur': '698',\n",
              " 'ga': '699',\n",
              " 'gain': '700',\n",
              " 'game': '701',\n",
              " 'gari': '702',\n",
              " 'garrigu': '703',\n",
              " 'gave': '704',\n",
              " 'gcc': '705',\n",
              " 'geek': '706',\n",
              " 'gener': '707',\n",
              " 'get': '708',\n",
              " 'gif': '709',\n",
              " 'gift': '710',\n",
              " 'girl': '711',\n",
              " 'give': '712',\n",
              " 'given': '713',\n",
              " 'global': '714',\n",
              " 'gnome': '715',\n",
              " 'gnu': '716',\n",
              " 'gnupg': '717',\n",
              " 'go': '718',\n",
              " 'goal': '719',\n",
              " 'god': '720',\n",
              " 'goe': '721',\n",
              " 'gold': '722',\n",
              " 'gone': '723',\n",
              " 'good': '724',\n",
              " 'googl': '725',\n",
              " 'got': '726',\n",
              " 'govern': '727',\n",
              " 'gpl': '728',\n",
              " 'grand': '729',\n",
              " 'grant': '730',\n",
              " 'graphic': '731',\n",
              " 'great': '732',\n",
              " 'greater': '733',\n",
              " 'ground': '734',\n",
              " 'group': '735',\n",
              " 'grow': '736',\n",
              " 'growth': '737',\n",
              " 'gt': '738',\n",
              " 'guarante': '739',\n",
              " 'guess': '740',\n",
              " 'gui': '741',\n",
              " 'guid': '742',\n",
              " 'ha': '743',\n",
              " 'hack': '744',\n",
              " 'had': '745',\n",
              " 'half': '746',\n",
              " 'ham': '747',\n",
              " 'hand': '748',\n",
              " 'handl': '749',\n",
              " 'happen': '750',\n",
              " 'happi': '751',\n",
              " 'hard': '752',\n",
              " 'hardwar': '753',\n",
              " 'hat': '754',\n",
              " 'hate': '755',\n",
              " 'have': '756',\n",
              " 'haven': '757',\n",
              " 'he': '758',\n",
              " 'head': '759',\n",
              " 'header': '760',\n",
              " 'headlin': '761',\n",
              " 'health': '762',\n",
              " 'hear': '763',\n",
              " 'heard': '764',\n",
              " 'heart': '765',\n",
              " 'heaven': '766',\n",
              " 'hei': '767',\n",
              " 'height': '768',\n",
              " 'held': '769',\n",
              " 'hello': '770',\n",
              " 'help': '771',\n",
              " 'helvetica': '772',\n",
              " 'her': '773',\n",
              " 'herba': '774',\n",
              " 'here': '775',\n",
              " 'hermio': '776',\n",
              " 'hettinga': '777',\n",
              " 'hi': '778',\n",
              " 'high': '779',\n",
              " 'higher': '780',\n",
              " 'highli': '781',\n",
              " 'highlight': '782',\n",
              " 'him': '783',\n",
              " 'histori': '784',\n",
              " 'hit': '785',\n",
              " 'hold': '786',\n",
              " 'home': '787',\n",
              " 'honor': '788',\n",
              " 'hope': '789',\n",
              " 'host': '790',\n",
              " 'hot': '791',\n",
              " 'hour': '792',\n",
              " 'hous': '793',\n",
              " 'how': '794',\n",
              " 'howev': '795',\n",
              " 'hp': '796',\n",
              " 'html': '797',\n",
              " 'http': '798',\n",
              " 'httpaddr': '799',\n",
              " 'huge': '800',\n",
              " 'human': '801',\n",
              " 'hundr': '802',\n",
              " 'ibm': '803',\n",
              " 'id': '804',\n",
              " 'idea': '805',\n",
              " 'ident': '806',\n",
              " 'identifi': '807',\n",
              " 'idnumb': '808',\n",
              " 'ie': '809',\n",
              " 'if': '810',\n",
              " 'ignor': '811',\n",
              " 'ii': '812',\n",
              " 'iii': '813',\n",
              " 'iiiiiiihnumberjnumberhnumberjnumberhnumb': '814',\n",
              " 'illeg': '815',\n",
              " 'im': '816',\n",
              " 'imag': '817',\n",
              " 'imagin': '818',\n",
              " 'immedi': '819',\n",
              " 'impact': '820',\n",
              " 'implement': '821',\n",
              " 'import': '822',\n",
              " 'impress': '823',\n",
              " 'improv': '824',\n",
              " 'in': '825',\n",
              " 'inc': '826',\n",
              " 'includ': '827',\n",
              " 'incom': '828',\n",
              " 'increas': '829',\n",
              " 'incred': '830',\n",
              " 'inde': '831',\n",
              " 'independ': '832',\n",
              " 'index': '833',\n",
              " 'india': '834',\n",
              " 'indian': '835',\n",
              " 'indic': '836',\n",
              " 'individu': '837',\n",
              " 'industri': '838',\n",
              " 'info': '839',\n",
              " 'inform': '840',\n",
              " 'initi': '841',\n",
              " 'inlin': '842',\n",
              " 'innov': '843',\n",
              " 'input': '844',\n",
              " 'insert': '845',\n",
              " 'insid': '846',\n",
              " 'instal': '847',\n",
              " 'instanc': '848',\n",
              " 'instant': '849',\n",
              " 'instead': '850',\n",
              " 'institut': '851',\n",
              " 'instruct': '852',\n",
              " 'insur': '853',\n",
              " 'int': '854',\n",
              " 'integr': '855',\n",
              " 'intel': '856',\n",
              " 'intellig': '857',\n",
              " 'intend': '858',\n",
              " 'interact': '859',\n",
              " 'interest': '860',\n",
              " 'interfac': '861',\n",
              " 'intern': '862',\n",
              " 'internet': '863',\n",
              " 'interview': '864',\n",
              " 'into': '865',\n",
              " 'intro': '866',\n",
              " 'introduc': '867',\n",
              " 'inumb': '868',\n",
              " 'invest': '869',\n",
              " 'investig': '870',\n",
              " 'investor': '871',\n",
              " 'invok': '872',\n",
              " 'involv': '873',\n",
              " 'ip': '874',\n",
              " 'ireland': '875',\n",
              " 'irish': '876',\n",
              " 'is': '877',\n",
              " 'island': '878',\n",
              " 'isn': '879',\n",
              " 'iso': '880',\n",
              " 'isp': '881',\n",
              " 'issu': '882',\n",
              " 'it': '883',\n",
              " 'item': '884',\n",
              " 'itself': '885',\n",
              " 'jabber': '886',\n",
              " 'jame': '887',\n",
              " 'java': '888',\n",
              " 'jim': '889',\n",
              " 'jnumberiiiiiiihepihepihf': '890',\n",
              " 'job': '891',\n",
              " 'joe': '892',\n",
              " 'john': '893',\n",
              " 'join': '894',\n",
              " 'journal': '895',\n",
              " 'judg': '896',\n",
              " 'judgment': '897',\n",
              " 'jul': '898',\n",
              " 'juli': '899',\n",
              " 'jump': '900',\n",
              " 'june': '901',\n",
              " 'just': '902',\n",
              " 'justin': '903',\n",
              " 'keep': '904',\n",
              " 'kei': '905',\n",
              " 'kept': '906',\n",
              " 'kernel': '907',\n",
              " 'kevin': '908',\n",
              " 'keyboard': '909',\n",
              " 'kid': '910',\n",
              " 'kill': '911',\n",
              " 'kind': '912',\n",
              " 'king': '913',\n",
              " 'kingdom': '914',\n",
              " 'knew': '915',\n",
              " 'know': '916',\n",
              " 'knowledg': '917',\n",
              " 'known': '918',\n",
              " 'la': '919',\n",
              " 'lack': '920',\n",
              " 'land': '921',\n",
              " 'languag': '922',\n",
              " 'laptop': '923',\n",
              " 'larg': '924',\n",
              " 'larger': '925',\n",
              " 'largest': '926',\n",
              " 'laser': '927',\n",
              " 'last': '928',\n",
              " 'late': '929',\n",
              " 'later': '930',\n",
              " 'latest': '931',\n",
              " 'launch': '932',\n",
              " 'law': '933',\n",
              " 'lawrenc': '934',\n",
              " 'le': '935',\n",
              " 'lead': '936',\n",
              " 'leader': '937',\n",
              " 'learn': '938',\n",
              " 'least': '939',\n",
              " 'leav': '940',\n",
              " 'left': '941',\n",
              " 'legal': '942',\n",
              " 'lender': '943',\n",
              " 'length': '944',\n",
              " 'less': '945',\n",
              " 'lesson': '946',\n",
              " 'let': '947',\n",
              " 'letter': '948',\n",
              " 'level': '949',\n",
              " 'lib': '950',\n",
              " 'librari': '951',\n",
              " 'licens': '952',\n",
              " 'life': '953',\n",
              " 'lifetim': '954',\n",
              " 'light': '955',\n",
              " 'like': '956',\n",
              " 'limit': '957',\n",
              " 'line': '958',\n",
              " 'link': '959',\n",
              " 'linux': '960',\n",
              " 'list': '961',\n",
              " 'listen': '962',\n",
              " 'littl': '963',\n",
              " 'live': '964',\n",
              " 'll': '965',\n",
              " 'lo': '966',\n",
              " 'load': '967',\n",
              " 'loan': '968',\n",
              " 'local': '969',\n",
              " 'locat': '970',\n",
              " 'lock': '971',\n",
              " 'lockergnom': '972',\n",
              " 'log': '973',\n",
              " 'long': '974',\n",
              " 'longer': '975',\n",
              " 'look': '976',\n",
              " 'lose': '977',\n",
              " 'loss': '978',\n",
              " 'lost': '979',\n",
              " 'lot': '980',\n",
              " 'love': '981',\n",
              " 'low': '982',\n",
              " 'lower': '983',\n",
              " 'lowest': '984',\n",
              " 'lt': '985',\n",
              " 'ma': '986',\n",
              " 'mac': '987',\n",
              " 'machin': '988',\n",
              " 'made': '989',\n",
              " 'magazin': '990',\n",
              " 'mai': '991',\n",
              " 'mail': '992',\n",
              " 'mailer': '993',\n",
              " 'main': '994',\n",
              " 'maintain': '995',\n",
              " 'major': '996',\n",
              " 'make': '997',\n",
              " 'maker': '998',\n",
              " 'male': '999',\n",
              " 'man': '1000',\n",
              " ...}"
            ]
          },
          "metadata": {},
          "execution_count": 23
        }
      ]
    },
    {
      "cell_type": "markdown",
      "source": [
        "## Preprocesamiento del correo"
      ],
      "metadata": {
        "id": "Q1oJIh2V6JZB"
      }
    },
    {
      "cell_type": "markdown",
      "source": [
        "En esta parte eliminaremos varios objetos que generan ruido a la hora de entrenar el modelo."
      ],
      "metadata": {
        "id": "oTOiS7-Z6McY"
      }
    },
    {
      "cell_type": "code",
      "source": [
        "def Preprocesamiento (contenido_principal):\n",
        "    \n",
        "    # pone el correo en letra minúscula\n",
        "    contenido_principal = contenido_principal.lower()\n",
        "    # elimina números del correo\n",
        "    contenido_principal = re.sub(\"[\\d]+\",\"number\",contenido_principal)\n",
        "    # elimina URL\n",
        "    contenido_principal = re.sub(\"[^\\s]+@[^\\s]+\",\"emailaddr\",contenido_principal)\n",
        "    # elimina caracteres especiales\n",
        "    contenido_principal = re.sub(\"[^A-Za-z0-9\\s]+\",\"\",contenido_principal)\n",
        "    # elimina lineas nuevas\n",
        "    contenido_principal = re.sub(\"\\n{2,2}\",\"\",contenido_principal)\n",
        "    contenido_principal = re.sub(\"\\s\\n\",\" \",contenido_principal)\n",
        "    contenido_principal = re.sub(\"\\n\",\" \",contenido_principal)\n",
        "    # elimina espacio extra al principio\n",
        "    contenido_principal = re.sub(\"^\\s\",\"\",contenido_principal)\n",
        "    \n",
        "    return contenido_principal"
      ],
      "metadata": {
        "id": "G18MgjVb6K58"
      },
      "execution_count": null,
      "outputs": []
    },
    {
      "cell_type": "code",
      "source": [
        "ejem_1"
      ],
      "metadata": {
        "colab": {
          "base_uri": "https://localhost:8080/",
          "height": 70
        },
        "id": "8KyNQCmy6ZqB",
        "outputId": "d54ccfb0-8882-47c0-f3ed-22096a2a12dc"
      },
      "execution_count": null,
      "outputs": [
        {
          "output_type": "execute_result",
          "data": {
            "text/plain": [
              "\"> Anyone knows how much it costs to host a web portal ?\\n>\\nWell, it depends on how many visitors you're expecting.\\nThis can be anywhere from less than 10 bucks a month to a couple of $100. \\nYou should checkout http://www.rackspace.com/ or perhaps Amazon EC2 \\nif youre running something big..\\n\\nTo unsubscribe yourself from this mailing list, send an email to:\\ngroupname-unsubscribe@egroups.com\\n\\n\""
            ],
            "application/vnd.google.colaboratory.intrinsic+json": {
              "type": "string"
            }
          },
          "metadata": {},
          "execution_count": 9
        }
      ]
    },
    {
      "cell_type": "code",
      "source": [
        "Preprocesamiento(ejem_1)"
      ],
      "metadata": {
        "colab": {
          "base_uri": "https://localhost:8080/",
          "height": 70
        },
        "id": "Yq5cjcfQ6cpg",
        "outputId": "bc8715cd-0f4a-4a59-b5b4-c01e639c777a"
      },
      "execution_count": null,
      "outputs": [
        {
          "output_type": "execute_result",
          "data": {
            "text/plain": [
              "'anyone knows how much it costs to host a web portal well it depends on how many visitors youre expecting this can be anywhere from less than number bucks a month to a couple of number you should checkout httpwwwrackspacecom or perhaps amazon ecnumber if youre running something bigto unsubscribe yourself from this mailing list send an email to emailaddr'"
            ],
            "application/vnd.google.colaboratory.intrinsic+json": {
              "type": "string"
            }
          },
          "metadata": {},
          "execution_count": 25
        }
      ]
    },
    {
      "cell_type": "markdown",
      "source": [
        "A pesar de que el procedimiento original no propone hacer una limpieza a la forma verbal en la que se encuentren las palabras, en este caso es necesario pues no todas las formas verbales de todas las palabras estan en vocabulario. Por ejemplo podemos obtener el valor de 'accord' pero no el valor de 'according', o podemos encontrar el valor correspondiente a 'discount' pero no a 'discounts'."
      ],
      "metadata": {
        "id": "eWQnWRO66ixA"
      }
    },
    {
      "cell_type": "code",
      "source": [
        "def Texto_arreglado(cuerpo):\n",
        "\n",
        "    contenido_principal = Preprocesamiento(cuerpo)\n",
        "    ps = PorterStemmer()\n",
        "    contenido_principal = [ps.stem(token) for token in contenido_principal.split(\" \")]\n",
        "    contenido_principal = \" \".join(contenido_principal)\n",
        "    return contenido_principal\n"
      ],
      "metadata": {
        "id": "CnKdgoEx6rMv"
      },
      "execution_count": null,
      "outputs": []
    },
    {
      "cell_type": "code",
      "source": [
        "Texto_arreglado(\"discounts according\")"
      ],
      "metadata": {
        "colab": {
          "base_uri": "https://localhost:8080/",
          "height": 35
        },
        "id": "bXd0yqkK6ysP",
        "outputId": "a91afae4-b316-41be-9644-6e472c37f9eb"
      },
      "execution_count": null,
      "outputs": [
        {
          "output_type": "execute_result",
          "data": {
            "text/plain": [
              "'discount accord'"
            ],
            "application/vnd.google.colaboratory.intrinsic+json": {
              "type": "string"
            }
          },
          "metadata": {},
          "execution_count": 27
        }
      ]
    },
    {
      "cell_type": "markdown",
      "source": [
        "## Extracción de las caracteristicas"
      ],
      "metadata": {
        "id": "vYusnsVn68-A"
      }
    },
    {
      "cell_type": "markdown",
      "source": [
        "En esta parte, pretendemos asociarles a cada correo un vector para poder entrenar el modelo. Para ello, primero creemos una función que identifique cuales de las palabras estan en **vocabulario**."
      ],
      "metadata": {
        "id": "cDW0I24_7BUo"
      }
    },
    {
      "cell_type": "code",
      "source": [
        "# vector de indices de las palabras que pertenecen al bocabulario\n",
        "def Vector_indices_correo(vocabulario, cuerpo):\n",
        "    \n",
        "    Textoarreglado = Texto_arreglado(cuerpo)\n",
        "    indices = []\n",
        "    for i in Textoarreglado.split():\n",
        "        if len(i)>0 and i in vocabulario:\n",
        "            indices.append(int(vocabulario[i]))\n",
        "    return indices"
      ],
      "metadata": {
        "id": "LyVQ8kJH7GaA"
      },
      "execution_count": null,
      "outputs": []
    },
    {
      "cell_type": "code",
      "source": [
        "Vector_indices_correo(vocabulario, ejem_1)"
      ],
      "metadata": {
        "colab": {
          "base_uri": "https://localhost:8080/"
        },
        "id": "DnNuptqw7McA",
        "outputId": "fc3fe116-0fb5-456e-b20b-e086aa2b3498"
      },
      "execution_count": null,
      "outputs": [
        {
          "output_type": "execute_result",
          "data": {
            "text/plain": [
              "[86,\n",
              " 916,\n",
              " 794,\n",
              " 1077,\n",
              " 883,\n",
              " 370,\n",
              " 1699,\n",
              " 790,\n",
              " 1822,\n",
              " 1831,\n",
              " 883,\n",
              " 431,\n",
              " 1171,\n",
              " 794,\n",
              " 1002,\n",
              " 1895,\n",
              " 592,\n",
              " 1676,\n",
              " 238,\n",
              " 162,\n",
              " 89,\n",
              " 688,\n",
              " 945,\n",
              " 1663,\n",
              " 1120,\n",
              " 1062,\n",
              " 1699,\n",
              " 375,\n",
              " 1162,\n",
              " 1120,\n",
              " 1893,\n",
              " 1510,\n",
              " 1182,\n",
              " 1237,\n",
              " 810,\n",
              " 1895,\n",
              " 1440,\n",
              " 1547,\n",
              " 1758,\n",
              " 1896,\n",
              " 688,\n",
              " 1676,\n",
              " 992,\n",
              " 961,\n",
              " 1477,\n",
              " 71,\n",
              " 530,\n",
              " 1699,\n",
              " 531]"
            ]
          },
          "metadata": {},
          "execution_count": 29
        }
      ]
    },
    {
      "cell_type": "markdown",
      "source": [
        "Ahora, queremos crear un vector en $R^n$ con $n$ un entero fijo. Podemos lograr esto se puede lograr tomando un vector de $n$ ceros, con $n=$**len(vocabulario)**, y cambiar los componenetes del vector cuyos indices sean valores de palabras que aparecen en el correo por un $1$."
      ],
      "metadata": {
        "id": "R0uKWqAl7Rlw"
      }
    },
    {
      "cell_type": "code",
      "source": [
        "def Vector_caracteristicas(vocabulario, cuerpo):\n",
        "    indices = Vector_indices_correo(vocabulario, cuerpo)\n",
        "    n =len(vocabulario)\n",
        "    vectorcar = np.zeros((n,1))\n",
        "    for i in indices:\n",
        "        vectorcar[i] = 1\n",
        "    return vectorcar"
      ],
      "metadata": {
        "id": "XKRKuQOF7TZ_"
      },
      "execution_count": null,
      "outputs": []
    },
    {
      "cell_type": "code",
      "source": [
        "vectorcar_1 = Vector_caracteristicas(vocabulario, ejem_1)\n",
        "vectorcar_1"
      ],
      "metadata": {
        "colab": {
          "base_uri": "https://localhost:8080/"
        },
        "id": "7gpmkP8H7YgX",
        "outputId": "af5e73e2-8ea7-4cff-8ef2-b05fc5cbecc9"
      },
      "execution_count": null,
      "outputs": [
        {
          "output_type": "execute_result",
          "data": {
            "text/plain": [
              "array([[0.],\n",
              "       [0.],\n",
              "       [0.],\n",
              "       ...,\n",
              "       [1.],\n",
              "       [0.],\n",
              "       [0.]])"
            ]
          },
          "metadata": {},
          "execution_count": 31
        }
      ]
    },
    {
      "cell_type": "code",
      "source": [
        "from sklearn.svm import SVC\n",
        "import pandas as pd\n",
        "\n",
        "spam_mat = sio.loadmat('spamTrain.mat')\n",
        "X_train =spam_mat[\"X\"]\n",
        "y_train = spam_mat[\"y\"]\n",
        "\n",
        "len(X_train)"
      ],
      "metadata": {
        "id": "xYeVNPot7ez3",
        "colab": {
          "base_uri": "https://localhost:8080/"
        },
        "outputId": "8086f53d-40e6-4cfb-e8c6-099e7a7c2a97"
      },
      "execution_count": null,
      "outputs": [
        {
          "output_type": "execute_result",
          "data": {
            "text/plain": [
              "4000"
            ]
          },
          "metadata": {},
          "execution_count": 32
        }
      ]
    },
    {
      "cell_type": "markdown",
      "source": [
        "**Entrenamiento del modelo usando todo el dataset:**"
      ],
      "metadata": {
        "id": "27W5lTnIUG-T"
      }
    },
    {
      "cell_type": "markdown",
      "source": [
        "Primero veamos que pasa cuando entrenomos el modelo con los 4000 datos del dataset para cada uno de los kernel vistos anteriormente."
      ],
      "metadata": {
        "id": "f_OuR_B-UUtb"
      }
    },
    {
      "cell_type": "code",
      "source": [
        "# entrenamos el modelo con kernel lineal\n",
        "spam_svc_linear = SVC(kernel =\"linear\", C=1)\n",
        "# entrenamos el modelo con kernel polinomial\n",
        "spam_svc_poly = SVC(kernel =\"poly\", C=1)\n",
        "# entrenamos el modelo con kernel Gaussiano\n",
        "spam_svc_rbf = SVC(kernel =\"rbf\", C=1)\n",
        "# entrenamos el modelo con kernel Sigmoid\n",
        "spam_svc_sigmoid = SVC(kernel =\"sigmoid\", C=1)\n",
        "\n",
        "# ajustamos los datos de entrenamiento con kernel lineal\n",
        "spam_svc_linear.fit(X_train,y_train.ravel())\n",
        "# ajustamos los datos de entrenamiento con kernel polinomial\n",
        "spam_svc_poly.fit(X_train,y_train.ravel())\n",
        "# ajustamos los datos de entrenamiento con kernel Gaussiano\n",
        "spam_svc_rbf.fit(X_train,y_train.ravel())\n",
        "# ajustamos los datos de entrenamiento con kernel Sigmoid\n",
        "spam_svc_sigmoid.fit(X_train,y_train.ravel())\n",
        "\n",
        "\n",
        "print(\"Puntaje de presición de los datos de entrenamiento con kernel lineal:\",(spam_svc_linear.score(X_train,y_train.ravel()))*100,\"%\")\n",
        "print(\"Puntaje de presición de los datos de entrenamiento con kernel polinomial:\",(spam_svc_poly.score(X_train,y_train.ravel()))*100,\"%\")\n",
        "print(\"Puntaje de presición de los datos de entrenamiento con kernel Gaussiano:\",(spam_svc_rbf.score(X_train,y_train.ravel()))*100,\"%\")\n",
        "print(\"Puntaje de presición de los datos de entrenamiento con kernel Sigmoid:\",(spam_svc_sigmoid.score(X_train,y_train.ravel()))*100,\"%\")"
      ],
      "metadata": {
        "colab": {
          "base_uri": "https://localhost:8080/"
        },
        "id": "WUt7a2Kk8RRg",
        "outputId": "07a8807f-cc54-439b-d8d2-70783d8892b8"
      },
      "execution_count": null,
      "outputs": [
        {
          "output_type": "stream",
          "name": "stdout",
          "text": [
            "Puntaje de presición de los datos de entrenamiento con kernel lineal: 99.97500000000001 %\n",
            "Puntaje de presición de los datos de entrenamiento con kernel polinomial: 92.35 %\n",
            "Puntaje de presición de los datos de entrenamiento con kernel Gaussiano: 99.325 %\n",
            "Puntaje de presición de los datos de entrenamiento con kernel Sigmoid: 93.55 %\n"
          ]
        }
      ]
    },
    {
      "cell_type": "markdown",
      "source": [
        "Vemos que para algunos kernel el puntaje de preición con los datos de entrenamiento puede ser un poco más bajo que el de los otros. Sin embargo, esto depende del problema abordar."
      ],
      "metadata": {
        "id": "hwjE4aPwX3Q_"
      }
    },
    {
      "cell_type": "code",
      "source": [
        "spam_mat_test = sio.loadmat(\"spamTest.mat\")\n",
        "X_test = spam_mat_test[\"Xtest\"]\n",
        "y_test =spam_mat_test[\"ytest\"]\n",
        "\n",
        "# predice las clases de los datos de entrenamiento \n",
        "# para cada uno de los kernel dados anteriormente\n",
        "spam_svc_linear.predict(X_test)\n",
        "spam_svc_linear.predict(X_test)\n",
        "spam_svc_linear.predict(X_test)\n",
        "spam_svc_linear.predict(X_test)\n",
        "\n",
        "print(\"Puntaje de presición con kernel lineal:\",(spam_svc_linear.score(X_test,y_test.ravel()))*100,\"%\")\n",
        "print(\"Puntaje de presición con kernel polinomial:\",(spam_svc_poly.score(X_test,y_test.ravel()))*100,\"%\")\n",
        "print(\"Puntaje de presición con kernel Gaussiano:\",(spam_svc_rbf.score(X_test,y_test.ravel()))*100,\"%\")\n",
        "print(\"Puntaje de presición con kernel Sigmoid:\",(spam_svc_sigmoid.score(X_test,y_test.ravel()))*100,\"%\")"
      ],
      "metadata": {
        "colab": {
          "base_uri": "https://localhost:8080/"
        },
        "id": "92F3H-mx8o-Y",
        "outputId": "eddd3163-8e11-4d04-b2a4-bbca6b56b964"
      },
      "execution_count": null,
      "outputs": [
        {
          "output_type": "stream",
          "name": "stdout",
          "text": [
            "Puntaje de presición con kernel lineal: 97.8 %\n",
            "Puntaje de presición con kernel polinomial: 90.0 %\n",
            "Puntaje de presición con kernel Gaussiano: 98.7 %\n",
            "Puntaje de presición con kernel Sigmoid: 93.10000000000001 %\n"
          ]
        }
      ]
    },
    {
      "cell_type": "markdown",
      "source": [
        "Vemos que a pesar de que le modelo con kernel lineal se adapta mejor a los datos de entrenamiento, el model con kernel Gausiano predice mucho mejor con los datos de prueba."
      ],
      "metadata": {
        "id": "v3N3rREEZSj4"
      }
    },
    {
      "cell_type": "markdown",
      "source": [
        "**Usando menos datos de entrenamiento:**"
      ],
      "metadata": {
        "id": "n2P_DsPeZn7i"
      }
    },
    {
      "cell_type": "markdown",
      "source": [
        "Tomemos un conjunto más pequeño de datos y repitamos el mismo procedimiento."
      ],
      "metadata": {
        "id": "Bhc0_XfhZzhE"
      }
    },
    {
      "cell_type": "code",
      "source": [
        "X_train = X_train[:1000]\n",
        "y_train = y_train[:1000]\n",
        "\n",
        "len(X_train)"
      ],
      "metadata": {
        "id": "P2h4rtkM-k9J",
        "colab": {
          "base_uri": "https://localhost:8080/"
        },
        "outputId": "0a51d77a-ae67-46d5-8f12-ba5626c4ab04"
      },
      "execution_count": null,
      "outputs": [
        {
          "output_type": "execute_result",
          "data": {
            "text/plain": [
              "1000"
            ]
          },
          "metadata": {},
          "execution_count": 41
        }
      ]
    },
    {
      "cell_type": "code",
      "source": [
        "# entrenamos el modelo con kernel lineal\n",
        "spam_svc_linear = SVC(kernel =\"linear\", C=1)\n",
        "# entrenamos el modelo con kernel polinomial\n",
        "spam_svc_poly = SVC(kernel =\"poly\", C=1)\n",
        "# entrenamos el modelo con kernel Gaussiano\n",
        "spam_svc_rbf = SVC(kernel =\"rbf\", C=1)\n",
        "# entrenamos el modelo con kernel Sigmoid\n",
        "spam_svc_sigmoid = SVC(kernel =\"sigmoid\", C=1)\n",
        "\n",
        "# ajustamos los datos de entrenamiento con kernel lineal\n",
        "spam_svc_linear.fit(X_train,y_train.ravel())\n",
        "# ajustamos los datos de entrenamiento con kernel polinomial\n",
        "spam_svc_poly.fit(X_train,y_train.ravel())\n",
        "# ajustamos los datos de entrenamiento con kernel Gaussiano\n",
        "spam_svc_rbf.fit(X_train,y_train.ravel())\n",
        "# ajustamos los datos de entrenamiento con kernel Sigmoid\n",
        "spam_svc_sigmoid.fit(X_train,y_train.ravel())\n",
        "\n",
        "\n",
        "print(\"Puntaje de presición de los datos de entrenamiento con kernel lineal:\",(spam_svc_linear.score(X_train,y_train.ravel()))*100,\"%\")\n",
        "print(\"Puntaje de presición de los datos de entrenamiento con kernel polinomial:\",(spam_svc_poly.score(X_train,y_train.ravel()))*100,\"%\")\n",
        "print(\"Puntaje de presición de los datos de entrenamiento con kernel Gaussiano:\",(spam_svc_rbf.score(X_train,y_train.ravel()))*100,\"%\")\n",
        "print(\"Puntaje de presición de los datos de entrenamiento con kernel Sigmoid:\",(spam_svc_sigmoid.score(X_train,y_train.ravel()))*100,\"%\")"
      ],
      "metadata": {
        "colab": {
          "base_uri": "https://localhost:8080/"
        },
        "id": "-zerHvMtaNe5",
        "outputId": "db3dfc92-9da0-4d71-9ce9-97ad8282d737"
      },
      "execution_count": null,
      "outputs": [
        {
          "output_type": "stream",
          "name": "stdout",
          "text": [
            "Puntaje de presición de los datos de entrenamiento con kernel lineal: 100.0 %\n",
            "Puntaje de presición de los datos de entrenamiento con kernel polinomial: 90.60000000000001 %\n",
            "Puntaje de presición de los datos de entrenamiento con kernel Gaussiano: 98.4 %\n",
            "Puntaje de presición de los datos de entrenamiento con kernel Sigmoid: 95.0 %\n"
          ]
        }
      ]
    },
    {
      "cell_type": "code",
      "source": [
        "spam_mat_test = sio.loadmat(\"spamTest.mat\")\n",
        "X_test = spam_mat_test[\"Xtest\"]\n",
        "y_test =spam_mat_test[\"ytest\"]\n",
        "\n",
        "# predice las clases de los datos de entrenamiento \n",
        "# para cada uno de los kernel dados anteriormente\n",
        "spam_svc_linear.predict(X_test)\n",
        "spam_svc_linear.predict(X_test)\n",
        "spam_svc_linear.predict(X_test)\n",
        "spam_svc_linear.predict(X_test)\n",
        "\n",
        "print(\"Puntaje de presición con kernel lineal:\",(spam_svc_linear.score(X_test,y_test.ravel()))*100,\"%\")\n",
        "print(\"Puntaje de presición con kernel polinomial:\",(spam_svc_poly.score(X_test,y_test.ravel()))*100,\"%\")\n",
        "print(\"Puntaje de presición con kernel Gaussiano:\",(spam_svc_rbf.score(X_test,y_test.ravel()))*100,\"%\")\n",
        "print(\"Puntaje de presición con kernel Sigmoid:\",(spam_svc_sigmoid.score(X_test,y_test.ravel()))*100,\"%\")"
      ],
      "metadata": {
        "colab": {
          "base_uri": "https://localhost:8080/"
        },
        "id": "FvHktm4Daeou",
        "outputId": "37274d5e-2d3a-4cb0-8c14-89ef473463d2"
      },
      "execution_count": null,
      "outputs": [
        {
          "output_type": "stream",
          "name": "stdout",
          "text": [
            "Puntaje de presición con kernel lineal: 96.1 %\n",
            "Puntaje de presición con kernel polinomial: 86.1 %\n",
            "Puntaje de presición con kernel Gaussiano: 96.6 %\n",
            "Puntaje de presición con kernel Sigmoid: 94.39999999999999 %\n"
          ]
        }
      ]
    },
    {
      "cell_type": "markdown",
      "source": [
        "Vemos que, apesar de haber reducido la cantidad de datos de entrenamiento 4 veces, el puntaje de presición de los kernels siguen manteniendose cercanos al 100% y no cambia demasiado con respecto al anterior experimento.\\\n",
        "Notese que con el kernel sigmoir aumenta el puntaje de precisión. "
      ],
      "metadata": {
        "id": "IBNQ-FZlanJU"
      }
    }
  ]
}